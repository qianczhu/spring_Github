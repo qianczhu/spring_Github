{
 "cells": [
  {
   "cell_type": "markdown",
   "metadata": {},
   "source": [
    "# Examining Racial Discrimination in the US Job Market\n",
    "\n",
    "### Background\n",
    "Racial discrimination continues to be pervasive in cultures throughout the world. Researchers examined the level of racial discrimination in the United States labor market by randomly assigning identical résumés to black-sounding or white-sounding names and observing the impact on requests for interviews from employers.\n",
    "\n",
    "### Data\n",
    "In the dataset provided, each row represents a resume. The 'race' column has two values, 'b' and 'w', indicating black-sounding and white-sounding. The column 'call' has two values, 1 and 0, indicating whether the resume received a call from employers or not.\n",
    "\n",
    "Note that the 'b' and 'w' values in race are assigned randomly to the resumes when presented to the employer."
   ]
  },
  {
   "cell_type": "markdown",
   "metadata": {},
   "source": [
    "<div class=\"span5 alert alert-info\">\n",
    "### Exercises\n",
    "You will perform a statistical analysis to establish whether race has a significant impact on the rate of callbacks for resumes.\n",
    "\n",
    "Answer the following questions **in this notebook below and submit to your Github account**. \n",
    "\n",
    "   1. What test is appropriate for this problem? Does CLT apply?\n",
    "   2. What are the null and alternate hypotheses?\n",
    "   3. Compute margin of error, confidence interval, and p-value. Try using both the bootstrapping and the frequentist statistical approaches.\n",
    "   4. Write a story describing the statistical significance in the context or the original problem.\n",
    "   5. Does your analysis mean that race/name is the most important factor in callback success? Why or why not? If not, how would you amend your analysis?\n",
    "\n",
    "You can include written notes in notebook cells using Markdown: \n",
    "   - In the control panel at the top, choose Cell > Cell Type > Markdown\n",
    "   - Markdown syntax: http://nestacms.com/docs/creating-content/markdown-cheat-sheet\n",
    "\n",
    "\n",
    "#### Resources\n",
    "+ Experiment information and data source: http://www.povertyactionlab.org/evaluation/discrimination-job-market-united-states\n",
    "+ Scipy statistical methods: http://docs.scipy.org/doc/scipy/reference/stats.html \n",
    "+ Markdown syntax: http://nestacms.com/docs/creating-content/markdown-cheat-sheet\n",
    "+ Formulas for the Bernoulli distribution: https://en.wikipedia.org/wiki/Bernoulli_distribution\n",
    "</div>\n",
    "****"
   ]
  },
  {
   "cell_type": "code",
   "execution_count": 90,
   "metadata": {
    "collapsed": true
   },
   "outputs": [],
   "source": [
    "import pandas as pd\n",
    "import numpy as np\n",
    "import scipy.stats as st\n",
    "import matplotlib.pyplot as plt\n",
    "import seaborn as sns"
   ]
  },
  {
   "cell_type": "code",
   "execution_count": 3,
   "metadata": {
    "collapsed": true
   },
   "outputs": [],
   "source": [
    "data = pd.io.stata.read_stata('data/us_job_market_discrimination.dta')"
   ]
  },
  {
   "cell_type": "code",
   "execution_count": 4,
   "metadata": {},
   "outputs": [
    {
     "data": {
      "text/plain": [
       "157.0"
      ]
     },
     "execution_count": 4,
     "metadata": {},
     "output_type": "execute_result"
    }
   ],
   "source": [
    "# number of callbacks for black-sounding names\n",
    "sum(data[data.race=='b'].call)"
   ]
  },
  {
   "cell_type": "code",
   "execution_count": 5,
   "metadata": {},
   "outputs": [
    {
     "data": {
      "text/plain": [
       "235.0"
      ]
     },
     "execution_count": 5,
     "metadata": {},
     "output_type": "execute_result"
    }
   ],
   "source": [
    "# number of callbacks for white-sounding names\n",
    "sum(data[data.race=='w'].call)"
   ]
  },
  {
   "cell_type": "markdown",
   "metadata": {
    "collapsed": true
   },
   "source": [
    "## Q1"
   ]
  },
  {
   "cell_type": "code",
   "execution_count": 91,
   "metadata": {},
   "outputs": [
    {
     "data": {
      "text/html": [
       "<div>\n",
       "<style>\n",
       "    .dataframe thead tr:only-child th {\n",
       "        text-align: right;\n",
       "    }\n",
       "\n",
       "    .dataframe thead th {\n",
       "        text-align: left;\n",
       "    }\n",
       "\n",
       "    .dataframe tbody tr th {\n",
       "        vertical-align: top;\n",
       "    }\n",
       "</style>\n",
       "<table border=\"1\" class=\"dataframe\">\n",
       "  <thead>\n",
       "    <tr style=\"text-align: right;\">\n",
       "      <th></th>\n",
       "      <th>id</th>\n",
       "      <th>ad</th>\n",
       "      <th>education</th>\n",
       "      <th>ofjobs</th>\n",
       "      <th>yearsexp</th>\n",
       "      <th>honors</th>\n",
       "      <th>volunteer</th>\n",
       "      <th>military</th>\n",
       "      <th>empholes</th>\n",
       "      <th>occupspecific</th>\n",
       "      <th>...</th>\n",
       "      <th>compreq</th>\n",
       "      <th>orgreq</th>\n",
       "      <th>manuf</th>\n",
       "      <th>transcom</th>\n",
       "      <th>bankreal</th>\n",
       "      <th>trade</th>\n",
       "      <th>busservice</th>\n",
       "      <th>othservice</th>\n",
       "      <th>missind</th>\n",
       "      <th>ownership</th>\n",
       "    </tr>\n",
       "  </thead>\n",
       "  <tbody>\n",
       "    <tr>\n",
       "      <th>0</th>\n",
       "      <td>b</td>\n",
       "      <td>1</td>\n",
       "      <td>4</td>\n",
       "      <td>2</td>\n",
       "      <td>6</td>\n",
       "      <td>0</td>\n",
       "      <td>0</td>\n",
       "      <td>0</td>\n",
       "      <td>1</td>\n",
       "      <td>17</td>\n",
       "      <td>...</td>\n",
       "      <td>1.0</td>\n",
       "      <td>0.0</td>\n",
       "      <td>1.0</td>\n",
       "      <td>0.0</td>\n",
       "      <td>0.0</td>\n",
       "      <td>0.0</td>\n",
       "      <td>0.0</td>\n",
       "      <td>0.0</td>\n",
       "      <td>0.0</td>\n",
       "      <td></td>\n",
       "    </tr>\n",
       "    <tr>\n",
       "      <th>1</th>\n",
       "      <td>b</td>\n",
       "      <td>1</td>\n",
       "      <td>3</td>\n",
       "      <td>3</td>\n",
       "      <td>6</td>\n",
       "      <td>0</td>\n",
       "      <td>1</td>\n",
       "      <td>1</td>\n",
       "      <td>0</td>\n",
       "      <td>316</td>\n",
       "      <td>...</td>\n",
       "      <td>1.0</td>\n",
       "      <td>0.0</td>\n",
       "      <td>1.0</td>\n",
       "      <td>0.0</td>\n",
       "      <td>0.0</td>\n",
       "      <td>0.0</td>\n",
       "      <td>0.0</td>\n",
       "      <td>0.0</td>\n",
       "      <td>0.0</td>\n",
       "      <td></td>\n",
       "    </tr>\n",
       "  </tbody>\n",
       "</table>\n",
       "<p>2 rows × 65 columns</p>\n",
       "</div>"
      ],
      "text/plain": [
       "  id ad  education  ofjobs  yearsexp  honors  volunteer  military  empholes  \\\n",
       "0  b  1          4       2         6       0          0         0         1   \n",
       "1  b  1          3       3         6       0          1         1         0   \n",
       "\n",
       "   occupspecific    ...      compreq  orgreq  manuf  transcom  bankreal trade  \\\n",
       "0             17    ...          1.0     0.0    1.0       0.0       0.0   0.0   \n",
       "1            316    ...          1.0     0.0    1.0       0.0       0.0   0.0   \n",
       "\n",
       "  busservice othservice  missind  ownership  \n",
       "0        0.0        0.0      0.0             \n",
       "1        0.0        0.0      0.0             \n",
       "\n",
       "[2 rows x 65 columns]"
      ]
     },
     "execution_count": 91,
     "metadata": {},
     "output_type": "execute_result"
    }
   ],
   "source": [
    "data.head(2)"
   ]
  },
  {
   "cell_type": "code",
   "execution_count": 6,
   "metadata": {},
   "outputs": [
    {
     "data": {
      "text/plain": [
       "4870"
      ]
     },
     "execution_count": 6,
     "metadata": {},
     "output_type": "execute_result"
    }
   ],
   "source": [
    "n = len(data)\n",
    "n"
   ]
  },
  {
   "cell_type": "markdown",
   "metadata": {},
   "source": [
    "<div class=\"span5 alert alert-success\">\n",
    "<p>The Null Hypothesis Significance Test (NHST) is suitable for this problem. Specifically, a two-sample two-tailed test will be performed. The Central Limit Theorem (CLT) states that as the sample size n grows, the distribution of $\\overline{X}_n$ converges to the normal distribution $N(μ,σ^2/n)$. The sample size n does not need to be very large for the CLT to apply, usually n > 30 is sufficient. In our case, n = 4870, so CLT applies.</p>\n",
    "</div>"
   ]
  },
  {
   "cell_type": "markdown",
   "metadata": {},
   "source": [
    "## Q2"
   ]
  },
  {
   "cell_type": "markdown",
   "metadata": {},
   "source": [
    "<div class=\"span5 alert alert-success\">\n",
    "<p> **Null and alternative hypotheses** </p>\n",
    "\n",
    "<p>$H_o$: resume has equal chance of being called regardless of white-sounding or black-sounding names. </p>\n",
    "<p>$H_A$: resume call is different between white-sounding or black-sounding names. </p>\n",
    "\n",
    "</div>"
   ]
  },
  {
   "cell_type": "markdown",
   "metadata": {},
   "source": [
    "## Q3\n",
    "Compute margin of error, confidence interval, and p-value."
   ]
  },
  {
   "cell_type": "code",
   "execution_count": 7,
   "metadata": {
    "collapsed": true
   },
   "outputs": [],
   "source": [
    "w = data[data.race=='w']\n",
    "b = data[data.race=='b']"
   ]
  },
  {
   "cell_type": "code",
   "execution_count": 8,
   "metadata": {},
   "outputs": [
    {
     "name": "stdout",
     "output_type": "stream",
     "text": [
      "0.0805\n"
     ]
    }
   ],
   "source": [
    "# The proportion of resumes being called for our sample data\n",
    "theta = sum(data.call)/n\n",
    "print(\"%.4f\" % theta)"
   ]
  },
  {
   "cell_type": "markdown",
   "metadata": {},
   "source": [
    "<div class=\"span5 alert alert-success\">\n",
    "<p> **Refine the null and alternative hypotheses** </p>\n",
    "\n",
    "Let $\\theta$ be the proportion of resumes being called:\n",
    "<p>$H_o$: $\\theta_b = \\theta_w$ </p>\n",
    "<p>$H_A$: $\\theta_b\\neq\\theta_w$ </p>\n",
    "\n",
    "<p>Set the significance level $\\alpha$ to be 0.05. </p>\n",
    "\n",
    "</div>"
   ]
  },
  {
   "cell_type": "markdown",
   "metadata": {
    "collapsed": true
   },
   "source": [
    "__Bootstrap approach__\n",
    "\n",
    "Take the original data of \"b\" and \"w\", concatenate them and scramble the entries, then take the first n1 entries as \"b\" and last n2 entries as \"w\". Calculate the fraction of entries with black-sounding names from this scrambled sample, and compare with the original dataset. "
   ]
  },
  {
   "cell_type": "code",
   "execution_count": 9,
   "metadata": {
    "collapsed": true
   },
   "outputs": [],
   "source": [
    "# number of callbacks for black-sounding names\n",
    "b_yes = int(sum(b.call))\n",
    "b_no = int(len(b) - b_yes)\n",
    "\n",
    "# number of callbacks for white-sounding names\n",
    "w_yes = int(sum(w.call))\n",
    "w_no = int(len(w) - w_yes)"
   ]
  },
  {
   "cell_type": "code",
   "execution_count": 10,
   "metadata": {},
   "outputs": [
    {
     "data": {
      "text/plain": [
       "-0.032032854209445585"
      ]
     },
     "execution_count": 10,
     "metadata": {},
     "output_type": "execute_result"
    }
   ],
   "source": [
    "# Calculate theta_b and theta_w\n",
    "theta_b = sum(b.call)/len(b)\n",
    "theta_w = sum(w.call)/len(w)\n",
    "theta_diff = theta_b - theta_w\n",
    "theta_diff"
   ]
  },
  {
   "cell_type": "code",
   "execution_count": 11,
   "metadata": {
    "collapsed": true
   },
   "outputs": [],
   "source": [
    "# Generate a permutation sample of two arrays having respectively n1 and n2 entries. Constructed by concatenating the \n",
    "# arrays together, scrambling the contents of the concatenated array, and then taking the first n1 entries as the \n",
    "# permutation sample of the first array and the last n2 entries as the permutation sample of the second array.\n",
    "def permutation_sample(data1, data2):\n",
    "    \"\"\"Generate a permutation sample from two data sets.\"\"\"\n",
    "\n",
    "    # Concatenate the data sets: data\n",
    "    data = np.concatenate((data1, data2))\n",
    "\n",
    "    # Permute the concatenated array: permuted_data\n",
    "    permuted_data = np.random.permutation(data)\n",
    "\n",
    "    # Split the permuted array into two: perm_sample_1, perm_sample_2\n",
    "    perm_sample_1 = permuted_data[:len(data1)]\n",
    "    perm_sample_2 = permuted_data[len(data1):]\n",
    "\n",
    "    return perm_sample_1, perm_sample_2"
   ]
  },
  {
   "cell_type": "code",
   "execution_count": 12,
   "metadata": {
    "collapsed": true
   },
   "outputs": [],
   "source": [
    "def draw_perm_reps(black, white, size=1):\n",
    "    \"\"\"Generate multiple permutation replicates.\"\"\"\n",
    "\n",
    "    # Initialize array of replicates: perm_replicates\n",
    "    perm_replicates = np.empty(size)\n",
    "\n",
    "    for i in range(size):\n",
    "        # Generate permutation sample\n",
    "        black_1, white_1 = permutation_sample(black, white)\n",
    "\n",
    "        # Compute the test statistic, i.e., difference between 2 proportions\n",
    "        perm_replicates[i] = np.sum(black_1)/len(black_1) - np.sum(white_1)/len(white_1)\n",
    "\n",
    "    return perm_replicates"
   ]
  },
  {
   "cell_type": "code",
   "execution_count": 13,
   "metadata": {
    "collapsed": true
   },
   "outputs": [],
   "source": [
    "# Construct arrays of data: black, white\n",
    "black = np.array([True] * b_yes + [False] * b_no)\n",
    "white = np.array([True] * w_yes + [False] * w_no)\n",
    "\n",
    "# Acquire permutation samples: perm_replicates, perform this for 100000 times\n",
    "theta_diff_star = draw_perm_reps(black, white, 100000)\n",
    "\n",
    "# Calculate the difference between each theta_diff_star and the original data's difference in proportions\n",
    "delta = theta_diff_star - theta_diff"
   ]
  },
  {
   "cell_type": "markdown",
   "metadata": {},
   "source": [
    "__margin of error__"
   ]
  },
  {
   "cell_type": "code",
   "execution_count": 14,
   "metadata": {},
   "outputs": [
    {
     "data": {
      "text/plain": [
       "[0.016427104722792601, 0.047638603696098569]"
      ]
     },
     "execution_count": 14,
     "metadata": {},
     "output_type": "execute_result"
    }
   ],
   "source": [
    "# Calculate the margin of error corresponding to 95% confidence interval\n",
    "delta_1, delta_2 = np.percentile(delta, [2.5, 97.5])\n",
    "[delta_1, delta_2]"
   ]
  },
  {
   "cell_type": "code",
   "execution_count": 15,
   "metadata": {},
   "outputs": [
    {
     "name": "stdout",
     "output_type": "stream",
     "text": [
      "The confidence interval obtained from the bootstrap approach is: [-0.08, -0.05].\n"
     ]
    }
   ],
   "source": [
    "# Calculate the 95% confidence interval\n",
    "boot_CI_low = theta_diff - delta_2\n",
    "boot_CI_high = theta_diff - delta_1\n",
    "print('The confidence interval obtained from the bootstrap approach is: [' + \\\n",
    "      str(round(boot_CI_low, 2)) + ', ' + str(round(boot_CI_high, 2)) + '].')"
   ]
  },
  {
   "cell_type": "code",
   "execution_count": 16,
   "metadata": {},
   "outputs": [
    {
     "data": {
      "text/plain": [
       "1.0000000000000001e-05"
      ]
     },
     "execution_count": 16,
     "metadata": {},
     "output_type": "execute_result"
    }
   ],
   "source": [
    "# Compute and print p-value: p\n",
    "p = np.sum(theta_diff_star <= theta_diff) / len(theta_diff_star)\n",
    "p"
   ]
  },
  {
   "cell_type": "markdown",
   "metadata": {
    "collapsed": true
   },
   "source": [
    "__Frequentist approach__"
   ]
  },
  {
   "cell_type": "code",
   "execution_count": 17,
   "metadata": {},
   "outputs": [
    {
     "data": {
      "text/plain": [
       "0.015255406349886438"
      ]
     },
     "execution_count": 17,
     "metadata": {},
     "output_type": "execute_result"
    }
   ],
   "source": [
    "## Margin of error\n",
    "# calculate the standard error\n",
    "SE = np.sqrt(theta_b*(1-theta_b)/len(b) + theta_w*(1-theta_w)/len(w))\n",
    "\n",
    "# For a 95% confidence interval, the critical z-value is 1.96, then the Margin of Error is\n",
    "ME = 1.96*SE\n",
    "ME"
   ]
  },
  {
   "cell_type": "code",
   "execution_count": 18,
   "metadata": {},
   "outputs": [
    {
     "name": "stdout",
     "output_type": "stream",
     "text": [
      "Confidence interval: [-0.05, -0.02].\n"
     ]
    }
   ],
   "source": [
    "# Confidence interval\n",
    "CI_high = (theta_b - theta_w) + ME\n",
    "CI_low = (theta_b - theta_w) - ME\n",
    "print('Confidence interval: [' + \\\n",
    "      str(round(CI_low, 2)) + ', ' + str(round(CI_high, 2)) \\\n",
    "      + '].')"
   ]
  },
  {
   "cell_type": "markdown",
   "metadata": {},
   "source": [
    "<div class=\"span5 alert alert-success\">\n",
    "<p> The confidence interval obtained from the Frequentist approach is: [-0.05, -0.02].</p>\n",
    "</div>"
   ]
  },
  {
   "cell_type": "code",
   "execution_count": 19,
   "metadata": {},
   "outputs": [
    {
     "data": {
      "text/plain": [
       "1.9919434187925383e-05"
      ]
     },
     "execution_count": 19,
     "metadata": {},
     "output_type": "execute_result"
    }
   ],
   "source": [
    "# p-value for the hypothesis test\n",
    "z = (theta_b - theta_w)/np.sqrt(theta*(1-theta)/len(b) + theta*(1-theta)/len(w))\n",
    "\n",
    "p = st.norm.cdf(z)\n",
    "p"
   ]
  },
  {
   "cell_type": "markdown",
   "metadata": {},
   "source": [
    "<div class=\"span5 alert alert-success\">\n",
    "<p> The calculated p-value from both the Bootstrap approach and the Frequentist approach is much smaller than the significance level of 0.05, so we reject null hypothesis and accept the alternative hypothesis. That is, resume call is different between white-sounding or black-sounding names. </p>\n",
    "</div>"
   ]
  },
  {
   "cell_type": "markdown",
   "metadata": {
    "collapsed": true
   },
   "source": [
    "## Q4. Data story\n",
    "Write a story describing the statistical significance in the context or the original problem."
   ]
  },
  {
   "cell_type": "markdown",
   "metadata": {},
   "source": [
    "### Title: Resumes with black-sounding names have lower chance of receiving calls from potential employers"
   ]
  },
  {
   "cell_type": "code",
   "execution_count": 37,
   "metadata": {},
   "outputs": [
    {
     "data": {
      "image/png": "[encoded data removed]",
      "text/plain": [
       "<matplotlib.figure.Figure at 0x11e967e80>"
      ]
     },
     "metadata": {},
     "output_type": "display_data"
    }
   ],
   "source": [
    "x = [1, 2]\n",
    "y = [theta_b, theta_w]\n",
    "\n",
    "plt.bar(x, y, width=0.3, color=['b','r'], tick_label=['black', 'white'])\n",
    "plt.title('Resumes received calls from employers: black- vs white-sounding names')\n",
    "# Convert ylabels to %\n",
    "plt.gca().set_yticklabels(['{:.0f}%'.format(t*100) for t in plt.gca().get_yticks()])\n",
    "plt.show()"
   ]
  },
  {
   "cell_type": "markdown",
   "metadata": {},
   "source": [
    "<div class=\"span5 alert alert-success\">\n",
    "<p>Let $\\theta$ be the proportion of resumes being called. The observed difference between $\\theta_b$ and $\\theta_w$ from the dataset is -3.2%. </p>\n",
    "\n",
    "<p>Is this -3.2% by chance?</p>\n",
    "<p>The confidence interval plot below shows that within 95% confidence interval, $\\theta_b$ - $\\theta_w$ is below zero. \n",
    "</div>"
   ]
  },
  {
   "cell_type": "code",
   "execution_count": 66,
   "metadata": {},
   "outputs": [
    {
     "data": {
      "image/png": "[encoded data removed]",
      "text/plain": [
       "<matplotlib.figure.Figure at 0x11e283828>"
      ]
     },
     "metadata": {},
     "output_type": "display_data"
    }
   ],
   "source": [
    "ax2 = plt.axes([0.85, 0.5, 0.7, 1])\n",
    "plt.errorbar(x=1, y=theta_diff, yerr = ME, fmt='og', capsize=9, capthick=2)\n",
    "plt.title(r'$\\theta_b - \\theta_w$: Mean and 95% confidence interval')\n",
    "plt.ylim = [0, -0.06]\n",
    "plt.gca().set_yticklabels(['{:.0f}%'.format(t*100) for t in plt.gca().get_yticks()])\n",
    "ax2.set_xticklabels([])\n",
    "plt.show()"
   ]
  },
  {
   "cell_type": "markdown",
   "metadata": {},
   "source": [
    "<div class=\"span5 alert alert-success\">\n",
    "<p>The figure below shows the comparison between the observed difference (vertical line) and the histogram of simulated bootstrap difference assuming no distinction between black- and white-sounding names. The vertical line is very far away from the histogram, with no overlapping at all. This means that the vertical line, i.e., -3.2%, is not by chance. </p>\n",
    "<p>Therefore we can conclude that the race plays a role in whether a candidate receives phone calls from potential employer or not. \n",
    "</div>"
   ]
  },
  {
   "cell_type": "code",
   "execution_count": 105,
   "metadata": {},
   "outputs": [
    {
     "data": {
      "image/png": "[encoded data removed]",
      "text/plain": [
       "<matplotlib.figure.Figure at 0x11fc0fdd8>"
      ]
     },
     "metadata": {},
     "output_type": "display_data"
    }
   ],
   "source": [
    "plt.hist(theta_diff_star, bins=50, color='orange')\n",
    "plt.axvline(theta_diff, color = 'b')\n",
    "plt.legend([r'$\\theta_b - \\theta_w$', 'simulated bootstrap difference with no distinction between\\n\\\n",
    "black- and white-sounding names'], loc=9)\n",
    "plt.gca().set_xticklabels(['{:.0f}%'.format(t*100) for t in plt.gca().get_xticks()])\n",
    "plt.xlabel('Difference in proportions of calls')\n",
    "plt.ylabel('Frequency')\n",
    "plt.show()"
   ]
  },
  {
   "cell_type": "markdown",
   "metadata": {},
   "source": [
    "## Q5.\n",
    "Does your analysis mean that race/name is the most important factor in callback success? Why or why not? If not, how would you amend your analysis?"
   ]
  },
  {
   "cell_type": "markdown",
   "metadata": {
    "collapsed": true
   },
   "source": [
    "<div class=\"span5 alert alert-success\">\n",
    "<p>From the above analysis, it can be concluded that the race/name has significant effect on the callback success. However, it is insufficient to say that it is the most important factor, as there are other factors/features that have not been taken into account, such as education, years of experience. \n",
    "\n",
    "In order to answer this question, individual hypothesis tests can be performed for each of the factors and compare the magnitude of the p-values. However, this approach is tedious, as there are many features/factors in this dataset. A superior approach is to perform some feature selection, examples are:</p>\n",
    "\n",
    "<p>\n",
    "1. Chi Square Test. </p>\n",
    "<p>2. Machine learning algorithms such as Lasso Regression or Ridge Regression, which can identify feature(s) that contribute most to the accuracy of the model. </p>\n",
    "\n",
    "\n",
    "\n",
    "\n",
    "\n",
    "\n",
    "</div>"
   ]
  }
 ],
 "metadata": {
  "kernelspec": {
   "display_name": "Python 3",
   "language": "python",
   "name": "python3"
  },
  "language_info": {
   "codemirror_mode": {
    "name": "ipython",
    "version": 3
   },
   "file_extension": ".py",
   "mimetype": "text/x-python",
   "name": "python",
   "nbconvert_exporter": "python",
   "pygments_lexer": "ipython3",
   "version": "3.6.1"
  }
 },
 "nbformat": 4,
 "nbformat_minor": 1
}
