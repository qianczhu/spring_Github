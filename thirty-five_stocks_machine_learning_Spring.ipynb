{
 "cells": [
  {
   "cell_type": "code",
   "execution_count": 56,
   "metadata": {},
   "outputs": [],
   "source": [
    "import pandas as pd\n",
    "import matplotlib.pyplot as plt\n",
    "import numpy as np\n",
    "from datetime import datetime, timedelta\n",
    "import seaborn as sns\n",
    "from scipy.stats import expon"
   ]
  },
  {
   "cell_type": "code",
   "execution_count": 57,
   "metadata": {},
   "outputs": [],
   "source": [
    "import sklearn\n",
    "from sklearn.linear_model import Lasso, Ridge, LogisticRegression\n",
    "from sklearn.svm import SVC\n",
    "from sklearn.ensemble import RandomForestRegressor, RandomForestClassifier, AdaBoostClassifier\n",
    "from sklearn.metrics import classification_report, confusion_matrix\n",
    "from sklearn.preprocessing import scale\n",
    "from sklearn.pipeline import Pipeline\n",
    "from sklearn.model_selection import TimeSeriesSplit, RandomizedSearchCV, GridSearchCV\n",
    "import xgboost as xgb\n",
    "from sklearn.metrics import mean_squared_error\n",
    "from sklearn import preprocessing"
   ]
  },
  {
   "cell_type": "code",
   "execution_count": 58,
   "metadata": {},
   "outputs": [],
   "source": [
    "df_all = pd.read_csv('28stocks.csv', parse_dates=True)"
   ]
  },
  {
   "cell_type": "code",
   "execution_count": 59,
   "metadata": {},
   "outputs": [
    {
     "data": {
      "text/html": [
       "<div>\n",
       "<style scoped>\n",
       "    .dataframe tbody tr th:only-of-type {\n",
       "        vertical-align: middle;\n",
       "    }\n",
       "\n",
       "    .dataframe tbody tr th {\n",
       "        vertical-align: top;\n",
       "    }\n",
       "\n",
       "    .dataframe thead th {\n",
       "        text-align: right;\n",
       "    }\n",
       "</style>\n",
       "<table border=\"1\" class=\"dataframe\">\n",
       "  <thead>\n",
       "    <tr style=\"text-align: right;\">\n",
       "      <th></th>\n",
       "      <th>Unnamed: 0</th>\n",
       "      <th>date</th>\n",
       "      <th>buy_back_yield</th>\n",
       "      <th>net_income_growth</th>\n",
       "      <th>net_margin</th>\n",
       "      <th>normalized_net_profit_margin</th>\n",
       "      <th>operation_income_growth</th>\n",
       "      <th>operation_margin</th>\n",
       "      <th>quick_ratio</th>\n",
       "      <th>revenue_growth</th>\n",
       "      <th>...</th>\n",
       "      <th>ebit</th>\n",
       "      <th>equity_per_share_growth</th>\n",
       "      <th>financial_leverage</th>\n",
       "      <th>gross_margin</th>\n",
       "      <th>inventory_turnover</th>\n",
       "      <th>long_term_debt_equity_ratio</th>\n",
       "      <th>long_term_debt_total_capital_ratio</th>\n",
       "      <th>net_income_cont_ops_growth</th>\n",
       "      <th>operating_cash_flow</th>\n",
       "      <th>operating_income</th>\n",
       "    </tr>\n",
       "  </thead>\n",
       "  <tbody>\n",
       "    <tr>\n",
       "      <th>0</th>\n",
       "      <td>0.0</td>\n",
       "      <td>2011-12-20</td>\n",
       "      <td>0.0603</td>\n",
       "      <td>0.085859</td>\n",
       "      <td>0.106068</td>\n",
       "      <td>0.106068</td>\n",
       "      <td>0.112532</td>\n",
       "      <td>0.143069</td>\n",
       "      <td>1.856117</td>\n",
       "      <td>0.054631</td>\n",
       "      <td>...</td>\n",
       "      <td>770000000.0</td>\n",
       "      <td>0.016057</td>\n",
       "      <td>1.495404</td>\n",
       "      <td>0.442855</td>\n",
       "      <td>1.163861</td>\n",
       "      <td>0.024043</td>\n",
       "      <td>0.023478</td>\n",
       "      <td>0.085859</td>\n",
       "      <td>87000000.0</td>\n",
       "      <td>870000000.0</td>\n",
       "    </tr>\n",
       "    <tr>\n",
       "      <th>1</th>\n",
       "      <td>1.0</td>\n",
       "      <td>2012-03-22</td>\n",
       "      <td>0.0491</td>\n",
       "      <td>-0.272868</td>\n",
       "      <td>0.081836</td>\n",
       "      <td>0.081836</td>\n",
       "      <td>-0.275862</td>\n",
       "      <td>0.109928</td>\n",
       "      <td>1.815324</td>\n",
       "      <td>-0.057556</td>\n",
       "      <td>...</td>\n",
       "      <td>621000000.0</td>\n",
       "      <td>0.005765</td>\n",
       "      <td>1.479732</td>\n",
       "      <td>0.427500</td>\n",
       "      <td>1.046404</td>\n",
       "      <td>0.023773</td>\n",
       "      <td>0.023221</td>\n",
       "      <td>-0.272868</td>\n",
       "      <td>510000000.0</td>\n",
       "      <td>630000000.0</td>\n",
       "    </tr>\n",
       "  </tbody>\n",
       "</table>\n",
       "<p>2 rows × 52 columns</p>\n",
       "</div>"
      ],
      "text/plain": [
       "   Unnamed: 0        date  buy_back_yield  net_income_growth  net_margin  \\\n",
       "0         0.0  2011-12-20          0.0603           0.085859    0.106068   \n",
       "1         1.0  2012-03-22          0.0491          -0.272868    0.081836   \n",
       "\n",
       "   normalized_net_profit_margin  operation_income_growth  operation_margin  \\\n",
       "0                      0.106068                 0.112532          0.143069   \n",
       "1                      0.081836                -0.275862          0.109928   \n",
       "\n",
       "   quick_ratio  revenue_growth        ...                ebit  \\\n",
       "0     1.856117        0.054631        ...         770000000.0   \n",
       "1     1.815324       -0.057556        ...         621000000.0   \n",
       "\n",
       "   equity_per_share_growth  financial_leverage  gross_margin  \\\n",
       "0                 0.016057            1.495404      0.442855   \n",
       "1                 0.005765            1.479732      0.427500   \n",
       "\n",
       "   inventory_turnover long_term_debt_equity_ratio  \\\n",
       "0            1.163861                    0.024043   \n",
       "1            1.046404                    0.023773   \n",
       "\n",
       "  long_term_debt_total_capital_ratio  net_income_cont_ops_growth  \\\n",
       "0                           0.023478                    0.085859   \n",
       "1                           0.023221                   -0.272868   \n",
       "\n",
       "   operating_cash_flow  operating_income  \n",
       "0           87000000.0       870000000.0  \n",
       "1          510000000.0       630000000.0  \n",
       "\n",
       "[2 rows x 52 columns]"
      ]
     },
     "execution_count": 59,
     "metadata": {},
     "output_type": "execute_result"
    }
   ],
   "source": [
    "df_all.head(2)"
   ]
  },
  {
   "cell_type": "code",
   "execution_count": 60,
   "metadata": {},
   "outputs": [],
   "source": [
    "df = df_all.drop(['Unnamed: 0'], axis=1)"
   ]
  },
  {
   "cell_type": "code",
   "execution_count": 61,
   "metadata": {},
   "outputs": [],
   "source": [
    "# Drop last row, which has all NaN values\n",
    "df = df.iloc[0:-1, :]"
   ]
  },
  {
   "cell_type": "code",
   "execution_count": 62,
   "metadata": {},
   "outputs": [
    {
     "name": "stdout",
     "output_type": "stream",
     "text": [
      "<class 'pandas.core.frame.DataFrame'>\n",
      "RangeIndex: 849 entries, 0 to 848\n",
      "Data columns (total 51 columns):\n",
      "date                                  849 non-null object\n",
      "buy_back_yield                        839 non-null float64\n",
      "net_income_growth                     800 non-null float64\n",
      "net_margin                            849 non-null float64\n",
      "normalized_net_profit_margin          849 non-null float64\n",
      "operation_income_growth               822 non-null float64\n",
      "operation_margin                      849 non-null float64\n",
      "quick_ratio                           849 non-null float64\n",
      "revenue_growth                        849 non-null float64\n",
      "roa                                   849 non-null float64\n",
      "roe                                   849 non-null float64\n",
      "total_debt_equity_ratio               835 non-null float64\n",
      "eps_del_actual                        849 non-null float64\n",
      "rev_del_actual                        849 non-null float64\n",
      "symbol                                849 non-null object\n",
      "time                                  849 non-null object\n",
      "wal_del_eps                           849 non-null float64\n",
      "wal_del_rev                           849 non-null float64\n",
      "bull_bear_ratio                       849 non-null float64\n",
      "bull_minus_bear                       849 non-null float64\n",
      "sen                                   849 non-null float64\n",
      "sum_msg_vol                           849 non-null float64\n",
      "weighted_sen                          849 non-null float64\n",
      "drift_10day                           849 non-null float64\n",
      "drift_10day_cat                       849 non-null float64\n",
      "drift_30day                           849 non-null float64\n",
      "drift_30day_cat                       849 non-null float64\n",
      "drift_4day                            849 non-null float64\n",
      "drift_4day_cat                        849 non-null float64\n",
      "drift_60day                           849 non-null float64\n",
      "drift_60day_cat                       849 non-null float64\n",
      "drift_80day                           849 non-null float64\n",
      "event_return                          849 non-null float64\n",
      "event_return_cat                      849 non-null float64\n",
      "friday                                849 non-null float64\n",
      "return_10day_prior                    849 non-null float64\n",
      "return_20day_prior                    849 non-null float64\n",
      "cash_and_cash_equivalents             824 non-null float64\n",
      "cash_return                           849 non-null float64\n",
      "cost_of_revenue                       824 non-null float64\n",
      "current_ratio                         849 non-null float64\n",
      "ebit                                  824 non-null float64\n",
      "equity_per_share_growth               846 non-null float64\n",
      "financial_leverage                    849 non-null float64\n",
      "gross_margin                          849 non-null float64\n",
      "inventory_turnover                    708 non-null float64\n",
      "long_term_debt_equity_ratio           810 non-null float64\n",
      "long_term_debt_total_capital_ratio    810 non-null float64\n",
      "net_income_cont_ops_growth            801 non-null float64\n",
      "operating_cash_flow                   824 non-null float64\n",
      "operating_income                      824 non-null float64\n",
      "dtypes: float64(48), object(3)\n",
      "memory usage: 338.4+ KB\n"
     ]
    }
   ],
   "source": [
    "df.info()"
   ]
  },
  {
   "cell_type": "code",
   "execution_count": 63,
   "metadata": {},
   "outputs": [],
   "source": [
    "# Convert 'date' to datetime object\n",
    "df['date'] = pd.to_datetime(df['date'])"
   ]
  },
  {
   "cell_type": "code",
   "execution_count": 64,
   "metadata": {},
   "outputs": [],
   "source": [
    "# Separate the Fundamentals features from the df\n",
    "funda_cols = ['date', 'symbol', 'buy_back_yield', 'net_income_growth', 'net_margin', 'normalized_net_profit_margin',\\\n",
    "                 'operation_income_growth', 'operation_margin', 'quick_ratio', 'revenue_growth',\\\n",
    "                 'roa', 'roe', 'total_debt_equity_ratio', 'cash_and_cash_equivalents', 'cash_return',\\\n",
    "                 'cost_of_revenue', 'current_ratio', 'ebit', 'equity_per_share_growth', \\\n",
    "                 'financial_leverage', 'gross_margin', 'inventory_turnover', 'long_term_debt_equity_ratio',\\\n",
    "                 'long_term_debt_total_capital_ratio', 'net_income_cont_ops_growth',\\\n",
    "                  'operating_cash_flow', 'operating_income']\n",
    "                                   \n",
    "df_funda = df[funda_cols]               "
   ]
  },
  {
   "cell_type": "code",
   "execution_count": 65,
   "metadata": {},
   "outputs": [
    {
     "data": {
      "text/plain": [
       "date                                    0\n",
       "symbol                                  0\n",
       "buy_back_yield                         10\n",
       "net_income_growth                      49\n",
       "net_margin                              0\n",
       "normalized_net_profit_margin            0\n",
       "operation_income_growth                27\n",
       "operation_margin                        0\n",
       "quick_ratio                             0\n",
       "revenue_growth                          0\n",
       "roa                                     0\n",
       "roe                                     0\n",
       "total_debt_equity_ratio                14\n",
       "cash_and_cash_equivalents              25\n",
       "cash_return                             0\n",
       "cost_of_revenue                        25\n",
       "current_ratio                           0\n",
       "ebit                                   25\n",
       "equity_per_share_growth                 3\n",
       "financial_leverage                      0\n",
       "gross_margin                            0\n",
       "inventory_turnover                    141\n",
       "long_term_debt_equity_ratio            39\n",
       "long_term_debt_total_capital_ratio     39\n",
       "net_income_cont_ops_growth             48\n",
       "operating_cash_flow                    25\n",
       "operating_income                       25\n",
       "dtype: int64"
      ]
     },
     "execution_count": 65,
     "metadata": {},
     "output_type": "execute_result"
    }
   ],
   "source": [
    "# Check the number of NAN values in each column\n",
    "np.sum(df_funda.isnull())"
   ]
  },
  {
   "cell_type": "code",
   "execution_count": 66,
   "metadata": {},
   "outputs": [],
   "source": [
    "# Fill NaN values with each column's mean\n",
    "df_funda1 = df_funda.fillna(df_funda.mean())"
   ]
  },
  {
   "cell_type": "code",
   "execution_count": 67,
   "metadata": {},
   "outputs": [],
   "source": [
    "def standard_funda_this_q(date, data, col_name):\n",
    "    \"\"\"Given an event date, calculate the standardised growth of given col_name, at this quarter:\n",
    "    (actual - mean)/(standard deviation + 0.01).\n",
    "    The mean is calculated from the past 2 year's data (i.e., 8 quarters) prior to the event date\"\"\"\n",
    "    #Look up the index of the date\n",
    "    index = data.index\n",
    "    i = index.get_loc(date)\n",
    "    \n",
    "    col = data[col_name]\n",
    "    if i <= 8:\n",
    "        growth = float('NaN')\n",
    "    else:\n",
    "        mean = np.mean([col[i-1], col[i-2], col[i-3], col[i-4], col[i-5], col[i-6], col[i-7], col[i-8]])                      \n",
    "        std = np.std([col[i-1], col[i-2], col[i-3], col[i-4], col[i-5], col[i-6], col[i-7], col[i-8]])\n",
    "        growth = (col[i] - mean)/(std + 0.01)\n",
    "    return growth   "
   ]
  },
  {
   "cell_type": "code",
   "execution_count": 68,
   "metadata": {},
   "outputs": [],
   "source": [
    "def standard_funda_last_q(date, data, col_name):\n",
    "    \"\"\"Given an event date, calculate the standardised growth of given col_name, at the last quarter:\n",
    "    (actual - mean)/(standard deviation + 0.01).\n",
    "    The mean is calculated from the past 2 year's data (i.e., 8 quarters) prior to quarter before \n",
    "    the event date.\"\"\"\n",
    "    #Look up the index of the date\n",
    "    index = data.index\n",
    "    i = index.get_loc(date)\n",
    "    \n",
    "    col = data[col_name]\n",
    "    if i <= 9:\n",
    "        growth = float('NaN')\n",
    "    else:\n",
    "        mean = np.mean([col[i-2], col[i-3], col[i-4], col[i-5], col[i-6], col[i-7], col[i-8],\\\n",
    "                       col[i-9]])\n",
    "        std = np.std([col[i-2], col[i-3], col[i-4], col[i-5], col[i-6], col[i-7], col[i-8],\\\n",
    "                       col[i-9]])\n",
    "        growth = (col[i-1] - mean)/(std + 0.01)\n",
    "    return growth   "
   ]
  },
  {
   "cell_type": "code",
   "execution_count": 69,
   "metadata": {},
   "outputs": [],
   "source": [
    "# Calculate the data array corresponding to the standardised growth of each Fundamental metric, at the last quarter:\n",
    "last_q_array = []\n",
    "\n",
    "for i, row in df_funda1.iterrows():\n",
    "    #Extract the sub dataframe corresponding to 1 stock\n",
    "    sub_df = df_funda1[df_funda1.symbol == row.symbol]\n",
    "    sub_df.set_index('date', inplace=True)\n",
    "    \n",
    "    last_q_row = []\n",
    "    \n",
    "    for col in funda_cols: \n",
    "        if col == 'date':\n",
    "            last_q_row.append(row.date)\n",
    "        elif col == 'symbol':\n",
    "            last_q_row.append(row.symbol)\n",
    "        else:\n",
    "            temp = standard_funda_last_q(row.date, sub_df, col_name=col)\n",
    "            last_q_row.append(temp)\n",
    "                    \n",
    "    last_q_array.append(last_q_row)\n",
    "    \n",
    "# Populate the column names for the above array\n",
    "col_name_last_q = []\n",
    "for col in funda_cols: \n",
    "    if col == 'date':\n",
    "        col_name_last_q.append('date')\n",
    "    elif col == 'symbol':\n",
    "        col_name_last_q.append('symbol')\n",
    "    else:\n",
    "        col_name_last_q.append(col + '_last_q')\n",
    "    \n",
    "funda_last_q = pd.DataFrame(last_q_array, columns=col_name_last_q)"
   ]
  },
  {
   "cell_type": "code",
   "execution_count": 70,
   "metadata": {},
   "outputs": [],
   "source": [
    "# Calculate the data array corresponding to the standardised growth of each Fundamental metric, at this quarter:\n",
    "this_q_array = []\n",
    "\n",
    "for i, row in df_funda1.iterrows():\n",
    "    #Extract the sub dataframe corresponding to 1 stock\n",
    "    sub_df = df_funda1[df_funda1.symbol == row.symbol]\n",
    "    sub_df.set_index('date', inplace=True)\n",
    "    \n",
    "    this_q_row = []\n",
    "    \n",
    "    for col in funda_cols: \n",
    "        if col == 'date':\n",
    "            this_q_row.append(row.date)\n",
    "        elif col == 'symbol':\n",
    "            this_q_row.append(row.symbol)\n",
    "        else:\n",
    "            temp = standard_funda_this_q(row.date, sub_df, col_name=col)\n",
    "            this_q_row.append(temp)\n",
    "        \n",
    "    this_q_array.append(this_q_row)\n",
    "    \n",
    "# Populate the column names for the above array\n",
    "col_name_this_q = []\n",
    "for col in funda_cols: \n",
    "    if col == 'date':\n",
    "        col_name_this_q.append('date')\n",
    "    elif col == 'symbol':\n",
    "        col_name_this_q.append('symbol')\n",
    "    else:\n",
    "        col_name_this_q.append(col + '_this_q')\n",
    "    \n",
    "funda_this_q = pd.DataFrame(this_q_array, columns=col_name_this_q)"
   ]
  },
  {
   "cell_type": "code",
   "execution_count": 71,
   "metadata": {},
   "outputs": [
    {
     "data": {
      "text/html": [
       "<div>\n",
       "<style scoped>\n",
       "    .dataframe tbody tr th:only-of-type {\n",
       "        vertical-align: middle;\n",
       "    }\n",
       "\n",
       "    .dataframe tbody tr th {\n",
       "        vertical-align: top;\n",
       "    }\n",
       "\n",
       "    .dataframe thead th {\n",
       "        text-align: right;\n",
       "    }\n",
       "</style>\n",
       "<table border=\"1\" class=\"dataframe\">\n",
       "  <thead>\n",
       "    <tr style=\"text-align: right;\">\n",
       "      <th></th>\n",
       "      <th>date</th>\n",
       "      <th>symbol</th>\n",
       "      <th>buy_back_yield_this_q</th>\n",
       "      <th>net_income_growth_this_q</th>\n",
       "      <th>net_margin_this_q</th>\n",
       "      <th>normalized_net_profit_margin_this_q</th>\n",
       "      <th>operation_income_growth_this_q</th>\n",
       "      <th>operation_margin_this_q</th>\n",
       "      <th>quick_ratio_this_q</th>\n",
       "      <th>revenue_growth_this_q</th>\n",
       "      <th>...</th>\n",
       "      <th>ebit_this_q</th>\n",
       "      <th>equity_per_share_growth_this_q</th>\n",
       "      <th>financial_leverage_this_q</th>\n",
       "      <th>gross_margin_this_q</th>\n",
       "      <th>inventory_turnover_this_q</th>\n",
       "      <th>long_term_debt_equity_ratio_this_q</th>\n",
       "      <th>long_term_debt_total_capital_ratio_this_q</th>\n",
       "      <th>net_income_cont_ops_growth_this_q</th>\n",
       "      <th>operating_cash_flow_this_q</th>\n",
       "      <th>operating_income_this_q</th>\n",
       "    </tr>\n",
       "  </thead>\n",
       "  <tbody>\n",
       "    <tr>\n",
       "      <th>0</th>\n",
       "      <td>2011-12-20</td>\n",
       "      <td>NKE</td>\n",
       "      <td>NaN</td>\n",
       "      <td>NaN</td>\n",
       "      <td>NaN</td>\n",
       "      <td>NaN</td>\n",
       "      <td>NaN</td>\n",
       "      <td>NaN</td>\n",
       "      <td>NaN</td>\n",
       "      <td>NaN</td>\n",
       "      <td>...</td>\n",
       "      <td>NaN</td>\n",
       "      <td>NaN</td>\n",
       "      <td>NaN</td>\n",
       "      <td>NaN</td>\n",
       "      <td>NaN</td>\n",
       "      <td>NaN</td>\n",
       "      <td>NaN</td>\n",
       "      <td>NaN</td>\n",
       "      <td>NaN</td>\n",
       "      <td>NaN</td>\n",
       "    </tr>\n",
       "    <tr>\n",
       "      <th>1</th>\n",
       "      <td>2012-03-22</td>\n",
       "      <td>NKE</td>\n",
       "      <td>NaN</td>\n",
       "      <td>NaN</td>\n",
       "      <td>NaN</td>\n",
       "      <td>NaN</td>\n",
       "      <td>NaN</td>\n",
       "      <td>NaN</td>\n",
       "      <td>NaN</td>\n",
       "      <td>NaN</td>\n",
       "      <td>...</td>\n",
       "      <td>NaN</td>\n",
       "      <td>NaN</td>\n",
       "      <td>NaN</td>\n",
       "      <td>NaN</td>\n",
       "      <td>NaN</td>\n",
       "      <td>NaN</td>\n",
       "      <td>NaN</td>\n",
       "      <td>NaN</td>\n",
       "      <td>NaN</td>\n",
       "      <td>NaN</td>\n",
       "    </tr>\n",
       "    <tr>\n",
       "      <th>2</th>\n",
       "      <td>2012-06-28</td>\n",
       "      <td>NKE</td>\n",
       "      <td>NaN</td>\n",
       "      <td>NaN</td>\n",
       "      <td>NaN</td>\n",
       "      <td>NaN</td>\n",
       "      <td>NaN</td>\n",
       "      <td>NaN</td>\n",
       "      <td>NaN</td>\n",
       "      <td>NaN</td>\n",
       "      <td>...</td>\n",
       "      <td>NaN</td>\n",
       "      <td>NaN</td>\n",
       "      <td>NaN</td>\n",
       "      <td>NaN</td>\n",
       "      <td>NaN</td>\n",
       "      <td>NaN</td>\n",
       "      <td>NaN</td>\n",
       "      <td>NaN</td>\n",
       "      <td>NaN</td>\n",
       "      <td>NaN</td>\n",
       "    </tr>\n",
       "    <tr>\n",
       "      <th>3</th>\n",
       "      <td>2012-09-27</td>\n",
       "      <td>NKE</td>\n",
       "      <td>NaN</td>\n",
       "      <td>NaN</td>\n",
       "      <td>NaN</td>\n",
       "      <td>NaN</td>\n",
       "      <td>NaN</td>\n",
       "      <td>NaN</td>\n",
       "      <td>NaN</td>\n",
       "      <td>NaN</td>\n",
       "      <td>...</td>\n",
       "      <td>NaN</td>\n",
       "      <td>NaN</td>\n",
       "      <td>NaN</td>\n",
       "      <td>NaN</td>\n",
       "      <td>NaN</td>\n",
       "      <td>NaN</td>\n",
       "      <td>NaN</td>\n",
       "      <td>NaN</td>\n",
       "      <td>NaN</td>\n",
       "      <td>NaN</td>\n",
       "    </tr>\n",
       "    <tr>\n",
       "      <th>4</th>\n",
       "      <td>2012-12-20</td>\n",
       "      <td>NKE</td>\n",
       "      <td>NaN</td>\n",
       "      <td>NaN</td>\n",
       "      <td>NaN</td>\n",
       "      <td>NaN</td>\n",
       "      <td>NaN</td>\n",
       "      <td>NaN</td>\n",
       "      <td>NaN</td>\n",
       "      <td>NaN</td>\n",
       "      <td>...</td>\n",
       "      <td>NaN</td>\n",
       "      <td>NaN</td>\n",
       "      <td>NaN</td>\n",
       "      <td>NaN</td>\n",
       "      <td>NaN</td>\n",
       "      <td>NaN</td>\n",
       "      <td>NaN</td>\n",
       "      <td>NaN</td>\n",
       "      <td>NaN</td>\n",
       "      <td>NaN</td>\n",
       "    </tr>\n",
       "  </tbody>\n",
       "</table>\n",
       "<p>5 rows × 27 columns</p>\n",
       "</div>"
      ],
      "text/plain": [
       "        date symbol  buy_back_yield_this_q  net_income_growth_this_q  \\\n",
       "0 2011-12-20    NKE                    NaN                       NaN   \n",
       "1 2012-03-22    NKE                    NaN                       NaN   \n",
       "2 2012-06-28    NKE                    NaN                       NaN   \n",
       "3 2012-09-27    NKE                    NaN                       NaN   \n",
       "4 2012-12-20    NKE                    NaN                       NaN   \n",
       "\n",
       "   net_margin_this_q  normalized_net_profit_margin_this_q  \\\n",
       "0                NaN                                  NaN   \n",
       "1                NaN                                  NaN   \n",
       "2                NaN                                  NaN   \n",
       "3                NaN                                  NaN   \n",
       "4                NaN                                  NaN   \n",
       "\n",
       "   operation_income_growth_this_q  operation_margin_this_q  \\\n",
       "0                             NaN                      NaN   \n",
       "1                             NaN                      NaN   \n",
       "2                             NaN                      NaN   \n",
       "3                             NaN                      NaN   \n",
       "4                             NaN                      NaN   \n",
       "\n",
       "   quick_ratio_this_q  revenue_growth_this_q           ...             \\\n",
       "0                 NaN                    NaN           ...              \n",
       "1                 NaN                    NaN           ...              \n",
       "2                 NaN                    NaN           ...              \n",
       "3                 NaN                    NaN           ...              \n",
       "4                 NaN                    NaN           ...              \n",
       "\n",
       "   ebit_this_q  equity_per_share_growth_this_q  financial_leverage_this_q  \\\n",
       "0          NaN                             NaN                        NaN   \n",
       "1          NaN                             NaN                        NaN   \n",
       "2          NaN                             NaN                        NaN   \n",
       "3          NaN                             NaN                        NaN   \n",
       "4          NaN                             NaN                        NaN   \n",
       "\n",
       "   gross_margin_this_q  inventory_turnover_this_q  \\\n",
       "0                  NaN                        NaN   \n",
       "1                  NaN                        NaN   \n",
       "2                  NaN                        NaN   \n",
       "3                  NaN                        NaN   \n",
       "4                  NaN                        NaN   \n",
       "\n",
       "   long_term_debt_equity_ratio_this_q  \\\n",
       "0                                 NaN   \n",
       "1                                 NaN   \n",
       "2                                 NaN   \n",
       "3                                 NaN   \n",
       "4                                 NaN   \n",
       "\n",
       "   long_term_debt_total_capital_ratio_this_q  \\\n",
       "0                                        NaN   \n",
       "1                                        NaN   \n",
       "2                                        NaN   \n",
       "3                                        NaN   \n",
       "4                                        NaN   \n",
       "\n",
       "   net_income_cont_ops_growth_this_q  operating_cash_flow_this_q  \\\n",
       "0                                NaN                         NaN   \n",
       "1                                NaN                         NaN   \n",
       "2                                NaN                         NaN   \n",
       "3                                NaN                         NaN   \n",
       "4                                NaN                         NaN   \n",
       "\n",
       "   operating_income_this_q  \n",
       "0                      NaN  \n",
       "1                      NaN  \n",
       "2                      NaN  \n",
       "3                      NaN  \n",
       "4                      NaN  \n",
       "\n",
       "[5 rows x 27 columns]"
      ]
     },
     "execution_count": 71,
     "metadata": {},
     "output_type": "execute_result"
    }
   ],
   "source": [
    "funda_this_q.head()"
   ]
  },
  {
   "cell_type": "code",
   "execution_count": 72,
   "metadata": {},
   "outputs": [],
   "source": [
    "# Extract the rest of the df other than the Fundamental metrics\n",
    "funda_cols_no_date_symbol = ['buy_back_yield', 'net_income_growth', 'net_margin', 'normalized_net_profit_margin',\\\n",
    "                 'operation_income_growth', 'operation_margin', 'quick_ratio', 'revenue_growth',\\\n",
    "                 'roa', 'roe', 'total_debt_equity_ratio', 'cash_and_cash_equivalents', 'cash_return',\\\n",
    "                 'cost_of_revenue', 'current_ratio', 'ebit', 'equity_per_share_growth', \\\n",
    "                 'financial_leverage', 'gross_margin', 'inventory_turnover', 'long_term_debt_equity_ratio',\\\n",
    "                 'long_term_debt_total_capital_ratio', 'net_income_cont_ops_growth',\\\n",
    "                  'operating_cash_flow', 'operating_income']\n",
    "\n",
    "df_esti_twit = df[df.columns.difference(funda_cols_no_date_symbol)]\n",
    "\n",
    "# combine \n",
    "funda = funda_last_q.merge(funda_this_q, on=['date', 'symbol'])\n",
    "df_esti_twit_funda = df_esti_twit.merge(funda, on=['date', 'symbol'])"
   ]
  },
  {
   "cell_type": "code",
   "execution_count": 73,
   "metadata": {},
   "outputs": [
    {
     "data": {
      "text/plain": [
       "Timestamp('2011-12-20 00:00:00')"
      ]
     },
     "execution_count": 73,
     "metadata": {},
     "output_type": "execute_result"
    }
   ],
   "source": [
    "df_esti_twit_funda.date[0]"
   ]
  },
  {
   "cell_type": "code",
   "execution_count": 74,
   "metadata": {},
   "outputs": [
    {
     "data": {
      "text/plain": [
       "array(['NKE', 'LULU', 'DIS', 'SBUX', 'UAA', 'CMG', 'TSLA', 'NFLX', 'F',\n",
       "       'MCD', 'TGT', 'GRPN', 'IBM', 'AMD', 'MSFT', 'V', 'INTC', 'MA',\n",
       "       'EBAY', 'BIDU', 'FB', 'AAPL', 'QCOM', 'ATVI', 'CSCO', 'NVDA',\n",
       "       'CRM', 'COST', 'XOM', 'CELG', 'GE', 'BA', 'CAT', 'FCX', 'VZ'],\n",
       "      dtype=object)"
      ]
     },
     "execution_count": 74,
     "metadata": {},
     "output_type": "execute_result"
    }
   ],
   "source": [
    "df_esti_twit_funda.symbol.unique()"
   ]
  },
  {
   "cell_type": "code",
   "execution_count": 75,
   "metadata": {},
   "outputs": [
    {
     "name": "stdout",
     "output_type": "stream",
     "text": [
      "<class 'pandas.core.frame.DataFrame'>\n",
      "Int64Index: 849 entries, 0 to 848\n",
      "Data columns (total 76 columns):\n",
      "bull_bear_ratio                              849 non-null float64\n",
      "bull_minus_bear                              849 non-null float64\n",
      "date                                         849 non-null datetime64[ns]\n",
      "drift_10day                                  849 non-null float64\n",
      "drift_10day_cat                              849 non-null float64\n",
      "drift_30day                                  849 non-null float64\n",
      "drift_30day_cat                              849 non-null float64\n",
      "drift_4day                                   849 non-null float64\n",
      "drift_4day_cat                               849 non-null float64\n",
      "drift_60day                                  849 non-null float64\n",
      "drift_60day_cat                              849 non-null float64\n",
      "drift_80day                                  849 non-null float64\n",
      "eps_del_actual                               849 non-null float64\n",
      "event_return                                 849 non-null float64\n",
      "event_return_cat                             849 non-null float64\n",
      "friday                                       849 non-null float64\n",
      "return_10day_prior                           849 non-null float64\n",
      "return_20day_prior                           849 non-null float64\n",
      "rev_del_actual                               849 non-null float64\n",
      "sen                                          849 non-null float64\n",
      "sum_msg_vol                                  849 non-null float64\n",
      "symbol                                       849 non-null object\n",
      "time                                         849 non-null object\n",
      "wal_del_eps                                  849 non-null float64\n",
      "wal_del_rev                                  849 non-null float64\n",
      "weighted_sen                                 849 non-null float64\n",
      "buy_back_yield_last_q                        505 non-null float64\n",
      "net_income_growth_last_q                     505 non-null float64\n",
      "net_margin_last_q                            505 non-null float64\n",
      "normalized_net_profit_margin_last_q          505 non-null float64\n",
      "operation_income_growth_last_q               505 non-null float64\n",
      "operation_margin_last_q                      505 non-null float64\n",
      "quick_ratio_last_q                           505 non-null float64\n",
      "revenue_growth_last_q                        505 non-null float64\n",
      "roa_last_q                                   505 non-null float64\n",
      "roe_last_q                                   505 non-null float64\n",
      "total_debt_equity_ratio_last_q               505 non-null float64\n",
      "cash_and_cash_equivalents_last_q             505 non-null float64\n",
      "cash_return_last_q                           505 non-null float64\n",
      "cost_of_revenue_last_q                       505 non-null float64\n",
      "current_ratio_last_q                         505 non-null float64\n",
      "ebit_last_q                                  505 non-null float64\n",
      "equity_per_share_growth_last_q               505 non-null float64\n",
      "financial_leverage_last_q                    505 non-null float64\n",
      "gross_margin_last_q                          505 non-null float64\n",
      "inventory_turnover_last_q                    505 non-null float64\n",
      "long_term_debt_equity_ratio_last_q           505 non-null float64\n",
      "long_term_debt_total_capital_ratio_last_q    505 non-null float64\n",
      "net_income_cont_ops_growth_last_q            505 non-null float64\n",
      "operating_cash_flow_last_q                   505 non-null float64\n",
      "operating_income_last_q                      505 non-null float64\n",
      "buy_back_yield_this_q                        537 non-null float64\n",
      "net_income_growth_this_q                     537 non-null float64\n",
      "net_margin_this_q                            537 non-null float64\n",
      "normalized_net_profit_margin_this_q          537 non-null float64\n",
      "operation_income_growth_this_q               537 non-null float64\n",
      "operation_margin_this_q                      537 non-null float64\n",
      "quick_ratio_this_q                           537 non-null float64\n",
      "revenue_growth_this_q                        537 non-null float64\n",
      "roa_this_q                                   537 non-null float64\n",
      "roe_this_q                                   537 non-null float64\n",
      "total_debt_equity_ratio_this_q               537 non-null float64\n",
      "cash_and_cash_equivalents_this_q             537 non-null float64\n",
      "cash_return_this_q                           537 non-null float64\n",
      "cost_of_revenue_this_q                       537 non-null float64\n",
      "current_ratio_this_q                         537 non-null float64\n",
      "ebit_this_q                                  537 non-null float64\n",
      "equity_per_share_growth_this_q               537 non-null float64\n",
      "financial_leverage_this_q                    537 non-null float64\n",
      "gross_margin_this_q                          537 non-null float64\n",
      "inventory_turnover_this_q                    537 non-null float64\n",
      "long_term_debt_equity_ratio_this_q           537 non-null float64\n",
      "long_term_debt_total_capital_ratio_this_q    537 non-null float64\n",
      "net_income_cont_ops_growth_this_q            537 non-null float64\n",
      "operating_cash_flow_this_q                   537 non-null float64\n",
      "operating_income_this_q                      537 non-null float64\n",
      "dtypes: datetime64[ns](1), float64(73), object(2)\n",
      "memory usage: 550.7+ KB\n"
     ]
    }
   ],
   "source": [
    "df_esti_twit_funda.info()"
   ]
  },
  {
   "cell_type": "code",
   "execution_count": 76,
   "metadata": {},
   "outputs": [],
   "source": [
    "# Drop rows that contain NaN, as these rows do not have long enough history for calculating fundamental metrics\n",
    "df_esti_twit_funda.dropna(inplace=True)"
   ]
  },
  {
   "cell_type": "markdown",
   "metadata": {},
   "source": [
    "### Standardisation of data\n",
    "After standardisation, the continuous features of the dataframe will all have mean=0, and std=1."
   ]
  },
  {
   "cell_type": "code",
   "execution_count": 77,
   "metadata": {},
   "outputs": [],
   "source": [
    "## Split the data into continuous and discrete sets\n",
    "#Columns with continuous data:\n",
    "cols = ['bull_bear_ratio', 'bull_minus_bear', 'sen', 'sum_msg_vol', 'weighted_sen']\n",
    "df_esti_funda_con = df_esti_twit_funda[cols].values\n",
    "#The rest of the dataframe\n",
    "df_esti_funda_rest = df_esti_twit_funda.drop(cols, axis=1)"
   ]
  },
  {
   "cell_type": "code",
   "execution_count": 78,
   "metadata": {},
   "outputs": [],
   "source": [
    "scaler = preprocessing.StandardScaler()\n",
    "\n",
    "# Fit data on the scaler object\n",
    "df_esti_funda_con_scaled = scaler.fit_transform(df_esti_funda_con)\n",
    "df_esti_funda_con_scaled = pd.DataFrame(df_esti_funda_con_scaled, columns=cols)"
   ]
  },
  {
   "cell_type": "code",
   "execution_count": 79,
   "metadata": {},
   "outputs": [],
   "source": [
    "df_esti_funda_con_scaled.reset_index(inplace=True)\n",
    "df_esti_funda_rest.reset_index(inplace=True)"
   ]
  },
  {
   "cell_type": "code",
   "execution_count": 80,
   "metadata": {},
   "outputs": [],
   "source": [
    "## Merge the scaled df and the rest of the df\n",
    "df_esti_funda_norm = pd.concat([df_esti_funda_con_scaled, df_esti_funda_rest], axis=1)"
   ]
  },
  {
   "cell_type": "code",
   "execution_count": 81,
   "metadata": {},
   "outputs": [],
   "source": [
    "df_esti_funda_norm.drop(['index'], inplace=True, axis=1)"
   ]
  },
  {
   "cell_type": "markdown",
   "metadata": {},
   "source": [
    "__So far only standardised the StockTwit data, need to standardise the Estimize and Fundamentals data???__"
   ]
  },
  {
   "cell_type": "markdown",
   "metadata": {},
   "source": [
    "### Create labels for multiclass classification"
   ]
  },
  {
   "cell_type": "code",
   "execution_count": 82,
   "metadata": {},
   "outputs": [],
   "source": [
    "# +1 or -1 for 80-day drift\n",
    "drift_80day_cat = []\n",
    "drift_80day_cat01 = []\n",
    "\n",
    "for i, row in df_esti_funda_norm.iterrows():\n",
    "    if row.drift_80day > 0:\n",
    "        drift_80day_cat.append(1)\n",
    "        drift_80day_cat01.append(1)    \n",
    "    else:\n",
    "        drift_80day_cat.append(-1)\n",
    "        drift_80day_cat01.append(0)\n",
    "\n",
    "df_esti_funda_norm = df_esti_funda_norm.assign(drift_80day_cat=drift_80day_cat, drift_80day_cat01=drift_80day_cat01)"
   ]
  },
  {
   "cell_type": "code",
   "execution_count": 83,
   "metadata": {},
   "outputs": [],
   "source": [
    "def encode_small_big_returns(data, threshold):\n",
    "    \"\"\"Encode the returns data according to % threshold, i.e., if threshold=5, then:\n",
    "    if return < -5%, encode -1\n",
    "    if -5% < return < 5%, encode 0\n",
    "    if return < 5%, encode 1   \n",
    "    \"\"\"\n",
    "    encode = []\n",
    "    for i in data:\n",
    "        if i < -threshold:\n",
    "            encode.append(-1)\n",
    "        elif i > threshold:\n",
    "            encode.append(1)\n",
    "        else:\n",
    "            encode.append(0)\n",
    "            \n",
    "    return encode"
   ]
  },
  {
   "cell_type": "code",
   "execution_count": 84,
   "metadata": {},
   "outputs": [],
   "source": [
    "## Assign 1, 0 or -1 to the following returns\n",
    "ev_3class = encode_small_big_returns(df_esti_funda_norm.event_return, 3)\n",
    "drift_4day_3class = encode_small_big_returns(df_esti_funda_norm.drift_4day, 3)\n",
    "drift_10day_3class = encode_small_big_returns(df_esti_funda_norm.drift_10day, 3)\n",
    "drift_30day_3class = encode_small_big_returns(df_esti_funda_norm.drift_30day, 3)\n",
    "drift_60day_3class = encode_small_big_returns(df_esti_funda_norm.drift_60day, 3)\n",
    "drift_80day_3class = encode_small_big_returns(df_esti_funda_norm.drift_80day, 3)\n",
    "\n",
    "df_esti_funda_norm = df_esti_funda_norm.assign(ev_3class=ev_3class,\\\n",
    "                                              drift_4day_3class=drift_4day_3class,\\\n",
    "                                              drift_10day_3class=drift_10day_3class,\\\n",
    "                                              drift_30day_3class=drift_30day_3class,\\\n",
    "                                              drift_60day_3class=drift_60day_3class,\\\n",
    "                                              drift_80day_3class=drift_80day_3class)"
   ]
  },
  {
   "cell_type": "code",
   "execution_count": 85,
   "metadata": {},
   "outputs": [
    {
     "data": {
      "text/plain": [
       "event_return_cat\n",
       "-1.0    252\n",
       " 1.0    253\n",
       "Name: event_return_cat, dtype: int64"
      ]
     },
     "execution_count": 85,
     "metadata": {},
     "output_type": "execute_result"
    }
   ],
   "source": [
    "# Count the number of occurance for \"-1\" and \"1\" values in event_return\n",
    "df_esti_funda_norm.groupby('event_return_cat').event_return_cat.count()"
   ]
  },
  {
   "cell_type": "code",
   "execution_count": 86,
   "metadata": {},
   "outputs": [
    {
     "data": {
      "image/png": "[encoded data removed]",
      "text/plain": [
       "<Figure size 576x432 with 1 Axes>"
      ]
     },
     "metadata": {
      "needs_background": "light"
     },
     "output_type": "display_data"
    }
   ],
   "source": [
    "# Plot the number of classes: event_return\n",
    "fig = plt.figure(figsize=(8,6))\n",
    "df_esti_funda_norm.groupby('event_return_cat').event_return_cat.count().plot.bar(ylim=0, fontsize=22)\n",
    "plt.title('event_return_cat', fontsize=25)\n",
    "plt.show()"
   ]
  },
  {
   "cell_type": "code",
   "execution_count": 87,
   "metadata": {},
   "outputs": [
    {
     "data": {
      "text/plain": [
       "drift_80day_cat01\n",
       "0    182\n",
       "1    323\n",
       "Name: drift_80day_cat, dtype: int64"
      ]
     },
     "execution_count": 87,
     "metadata": {},
     "output_type": "execute_result"
    }
   ],
   "source": [
    "# Count the number of occurance for \"-1\" and \"1\" values in drift_90day_cat\n",
    "df_esti_funda_norm.groupby('drift_80day_cat01').drift_80day_cat.count()"
   ]
  },
  {
   "cell_type": "code",
   "execution_count": 88,
   "metadata": {},
   "outputs": [
    {
     "data": {
      "image/png": "[encoded data removed]",
      "text/plain": [
       "<Figure size 576x432 with 1 Axes>"
      ]
     },
     "metadata": {
      "needs_background": "light"
     },
     "output_type": "display_data"
    }
   ],
   "source": [
    "# Plot the number of classes: drift-80days\n",
    "fig = plt.figure(figsize=(8,6))\n",
    "df_esti_funda_norm.groupby('drift_4day_3class').drift_4day_3class.count().plot.bar(ylim=0, fontsize=22)\n",
    "plt.title('drift_4day', fontsize=25)\n",
    "plt.show()"
   ]
  },
  {
   "cell_type": "code",
   "execution_count": 89,
   "metadata": {},
   "outputs": [
    {
     "data": {
      "image/png": "[encoded data removed]",
      "text/plain": [
       "<Figure size 576x432 with 1 Axes>"
      ]
     },
     "metadata": {
      "needs_background": "light"
     },
     "output_type": "display_data"
    }
   ],
   "source": [
    "# Plot the number of classes: drift-80days\n",
    "fig = plt.figure(figsize=(8,6))\n",
    "df_esti_funda_norm.groupby('drift_10day_3class').drift_10day_3class.count().plot.bar(ylim=0, fontsize=22)\n",
    "plt.title('drift_10day', fontsize=25)\n",
    "plt.show()"
   ]
  },
  {
   "cell_type": "code",
   "execution_count": 90,
   "metadata": {},
   "outputs": [
    {
     "data": {
      "image/png": "[encoded data removed]",
      "text/plain": [
       "<Figure size 576x432 with 1 Axes>"
      ]
     },
     "metadata": {
      "needs_background": "light"
     },
     "output_type": "display_data"
    }
   ],
   "source": [
    "# Plot the number of classes: drift-80days\n",
    "fig = plt.figure(figsize=(8,6))\n",
    "df_esti_funda_norm.groupby('drift_30day_3class').drift_30day_3class.count().plot.bar(ylim=0, fontsize=22)\n",
    "plt.title('drift_30day', fontsize=25)\n",
    "plt.show()"
   ]
  },
  {
   "cell_type": "code",
   "execution_count": 91,
   "metadata": {},
   "outputs": [
    {
     "data": {
      "image/png": "[encoded data removed]",
      "text/plain": [
       "<Figure size 576x432 with 1 Axes>"
      ]
     },
     "metadata": {
      "needs_background": "light"
     },
     "output_type": "display_data"
    }
   ],
   "source": [
    "# Plot the number of classes: drift-80days\n",
    "fig = plt.figure(figsize=(8,6))\n",
    "df_esti_funda_norm.groupby('drift_60day_3class').drift_60day_3class.count().plot.bar(ylim=0, fontsize=22)\n",
    "plt.title('drift_60day', fontsize=25)\n",
    "plt.show()"
   ]
  },
  {
   "cell_type": "code",
   "execution_count": 92,
   "metadata": {},
   "outputs": [
    {
     "data": {
      "image/png": "[encoded data removed]",
      "text/plain": [
       "<Figure size 576x432 with 1 Axes>"
      ]
     },
     "metadata": {
      "needs_background": "light"
     },
     "output_type": "display_data"
    }
   ],
   "source": [
    "# Plot the number of classes: drift-80days\n",
    "fig = plt.figure(figsize=(8,6))\n",
    "df_esti_funda_norm.groupby('drift_80day_3class').drift_80day_3class.count().plot.bar(ylim=0, fontsize=22)\n",
    "plt.title('drift_80day', fontsize=25)\n",
    "plt.show()"
   ]
  },
  {
   "cell_type": "code",
   "execution_count": 93,
   "metadata": {},
   "outputs": [
    {
     "data": {
      "image/png": "[encoded data removed]",
      "text/plain": [
       "<Figure size 576x432 with 1 Axes>"
      ]
     },
     "metadata": {
      "needs_background": "light"
     },
     "output_type": "display_data"
    }
   ],
   "source": [
    "# Plot the number of classes: drift-80days\n",
    "fig = plt.figure(figsize=(8,6))\n",
    "df_esti_funda_norm.groupby('drift_80day_cat').drift_80day_cat.count().plot.bar(ylim=0, fontsize=22)\n",
    "plt.title('drift_80day', fontsize=25)\n",
    "plt.show()"
   ]
  },
  {
   "cell_type": "code",
   "execution_count": 94,
   "metadata": {},
   "outputs": [
    {
     "name": "stdout",
     "output_type": "stream",
     "text": [
      "<class 'pandas.core.frame.DataFrame'>\n",
      "RangeIndex: 505 entries, 0 to 504\n",
      "Data columns (total 84 columns):\n",
      "bull_bear_ratio                              505 non-null float64\n",
      "bull_minus_bear                              505 non-null float64\n",
      "sen                                          505 non-null float64\n",
      "sum_msg_vol                                  505 non-null float64\n",
      "weighted_sen                                 505 non-null float64\n",
      "date                                         505 non-null datetime64[ns]\n",
      "drift_10day                                  505 non-null float64\n",
      "drift_10day_cat                              505 non-null float64\n",
      "drift_30day                                  505 non-null float64\n",
      "drift_30day_cat                              505 non-null float64\n",
      "drift_4day                                   505 non-null float64\n",
      "drift_4day_cat                               505 non-null float64\n",
      "drift_60day                                  505 non-null float64\n",
      "drift_60day_cat                              505 non-null float64\n",
      "drift_80day                                  505 non-null float64\n",
      "eps_del_actual                               505 non-null float64\n",
      "event_return                                 505 non-null float64\n",
      "event_return_cat                             505 non-null float64\n",
      "friday                                       505 non-null float64\n",
      "return_10day_prior                           505 non-null float64\n",
      "return_20day_prior                           505 non-null float64\n",
      "rev_del_actual                               505 non-null float64\n",
      "symbol                                       505 non-null object\n",
      "time                                         505 non-null object\n",
      "wal_del_eps                                  505 non-null float64\n",
      "wal_del_rev                                  505 non-null float64\n",
      "buy_back_yield_last_q                        505 non-null float64\n",
      "net_income_growth_last_q                     505 non-null float64\n",
      "net_margin_last_q                            505 non-null float64\n",
      "normalized_net_profit_margin_last_q          505 non-null float64\n",
      "operation_income_growth_last_q               505 non-null float64\n",
      "operation_margin_last_q                      505 non-null float64\n",
      "quick_ratio_last_q                           505 non-null float64\n",
      "revenue_growth_last_q                        505 non-null float64\n",
      "roa_last_q                                   505 non-null float64\n",
      "roe_last_q                                   505 non-null float64\n",
      "total_debt_equity_ratio_last_q               505 non-null float64\n",
      "cash_and_cash_equivalents_last_q             505 non-null float64\n",
      "cash_return_last_q                           505 non-null float64\n",
      "cost_of_revenue_last_q                       505 non-null float64\n",
      "current_ratio_last_q                         505 non-null float64\n",
      "ebit_last_q                                  505 non-null float64\n",
      "equity_per_share_growth_last_q               505 non-null float64\n",
      "financial_leverage_last_q                    505 non-null float64\n",
      "gross_margin_last_q                          505 non-null float64\n",
      "inventory_turnover_last_q                    505 non-null float64\n",
      "long_term_debt_equity_ratio_last_q           505 non-null float64\n",
      "long_term_debt_total_capital_ratio_last_q    505 non-null float64\n",
      "net_income_cont_ops_growth_last_q            505 non-null float64\n",
      "operating_cash_flow_last_q                   505 non-null float64\n",
      "operating_income_last_q                      505 non-null float64\n",
      "buy_back_yield_this_q                        505 non-null float64\n",
      "net_income_growth_this_q                     505 non-null float64\n",
      "net_margin_this_q                            505 non-null float64\n",
      "normalized_net_profit_margin_this_q          505 non-null float64\n",
      "operation_income_growth_this_q               505 non-null float64\n",
      "operation_margin_this_q                      505 non-null float64\n",
      "quick_ratio_this_q                           505 non-null float64\n",
      "revenue_growth_this_q                        505 non-null float64\n",
      "roa_this_q                                   505 non-null float64\n",
      "roe_this_q                                   505 non-null float64\n",
      "total_debt_equity_ratio_this_q               505 non-null float64\n",
      "cash_and_cash_equivalents_this_q             505 non-null float64\n",
      "cash_return_this_q                           505 non-null float64\n",
      "cost_of_revenue_this_q                       505 non-null float64\n",
      "current_ratio_this_q                         505 non-null float64\n",
      "ebit_this_q                                  505 non-null float64\n",
      "equity_per_share_growth_this_q               505 non-null float64\n",
      "financial_leverage_this_q                    505 non-null float64\n",
      "gross_margin_this_q                          505 non-null float64\n",
      "inventory_turnover_this_q                    505 non-null float64\n",
      "long_term_debt_equity_ratio_this_q           505 non-null float64\n",
      "long_term_debt_total_capital_ratio_this_q    505 non-null float64\n",
      "net_income_cont_ops_growth_this_q            505 non-null float64\n",
      "operating_cash_flow_this_q                   505 non-null float64\n",
      "operating_income_this_q                      505 non-null float64\n",
      "drift_80day_cat                              505 non-null int64\n",
      "drift_80day_cat01                            505 non-null int64\n",
      "ev_3class                                    505 non-null int64\n",
      "drift_4day_3class                            505 non-null int64\n",
      "drift_10day_3class                           505 non-null int64\n",
      "drift_30day_3class                           505 non-null int64\n",
      "drift_60day_3class                           505 non-null int64\n",
      "drift_80day_3class                           505 non-null int64\n",
      "dtypes: datetime64[ns](1), float64(73), int64(8), object(2)\n",
      "memory usage: 331.5+ KB\n"
     ]
    }
   ],
   "source": [
    "df_esti_funda_norm.info()"
   ]
  },
  {
   "cell_type": "markdown",
   "metadata": {},
   "source": [
    "<div class=\"span5 alert alert-success\">\n",
    "Machine learning algorithms\n",
    "\n",
    "</div>"
   ]
  },
  {
   "cell_type": "markdown",
   "metadata": {},
   "source": [
    "#### Create One Hot Encoded labels for XGBoost:"
   ]
  },
  {
   "cell_type": "code",
   "execution_count": 95,
   "metadata": {},
   "outputs": [],
   "source": [
    "#from sklearn.preprocessing import OneHotEncoder\n",
    "#from sklearn.preprocessing import LabelEncoder"
   ]
  },
  {
   "cell_type": "code",
   "execution_count": 96,
   "metadata": {},
   "outputs": [],
   "source": [
    "#Apply the OneHotEncoder\n",
    "#ohe = OneHotEncoder(categories='auto')\n",
    "#y1 = ohe.fit_transform(df_esti_funda_norm.drift_80day_cat01.values.reshape(-1,1)).toarray()"
   ]
  },
  {
   "cell_type": "code",
   "execution_count": 97,
   "metadata": {},
   "outputs": [],
   "source": [
    "## Add the encoded target variables back to the original dataframe\n",
    "#drift_80day01_encod = pd.DataFrame(y1, columns = [\"80day_\"+str(int(i)) for i in range(y1.shape[1])])\n",
    "\n",
    "#df_encoded = pd.concat([df_esti_funda_norm, drift_80day01_encod], axis=1)"
   ]
  },
  {
   "cell_type": "code",
   "execution_count": 98,
   "metadata": {},
   "outputs": [],
   "source": [
    "#label_encoder = LabelEncoder()\n",
    "#y = df_esti_funda_norm.drift_80day_cat01\n",
    "#label_encoder = label_encoder.fit(y)\n",
    "#label_encoded_y = label_encoder.transform(y)"
   ]
  },
  {
   "cell_type": "markdown",
   "metadata": {},
   "source": [
    "N.B. Tried using OneHotEncoded y for the XGBoost model below, however, the xgb.fit() does not take the OneHotEncoded y arrays, it takes 1D array for y only. Also tried just converting y using LabelEncoder, but the output array is exactly as the original y, i.e., 0 or 1. \n",
    "\n",
    "It seems that the OneHotEncoding is for the feature values only. "
   ]
  },
  {
   "cell_type": "markdown",
   "metadata": {},
   "source": [
    "### Split data into training and test sets"
   ]
  },
  {
   "cell_type": "code",
   "execution_count": 99,
   "metadata": {},
   "outputs": [],
   "source": [
    "# Extract the first 80% of earlier dates into training set, and the rest 20% into test set.\n",
    "train_perc = 0.8\n",
    "\n",
    "# Reset index\n",
    "df_esti_copy = df_esti_funda_norm.set_index('date')\n",
    "df_esti_copy.sort_index(inplace=True);"
   ]
  },
  {
   "cell_type": "code",
   "execution_count": 100,
   "metadata": {},
   "outputs": [
    {
     "data": {
      "text/plain": [
       "Timestamp('2018-07-16 00:00:00')"
      ]
     },
     "execution_count": 100,
     "metadata": {},
     "output_type": "execute_result"
    }
   ],
   "source": [
    "df_esti_copy.index[-1]"
   ]
  },
  {
   "cell_type": "code",
   "execution_count": 101,
   "metadata": {},
   "outputs": [],
   "source": [
    "# Date range of the data\n",
    "date_range = df_esti_copy.index[-1] - df_esti_copy.index[0]\n",
    "delta_days = int(date_range.days*train_perc)\n",
    "train_stop_date = df_esti_copy.index[0] + timedelta(days=delta_days)\n",
    "\n",
    "# Select training and test data according to dates\n",
    "df_train = df_esti_copy[df_esti_copy.index < train_stop_date]\n",
    "df_test = df_esti_copy[df_esti_copy.index >= train_stop_date]"
   ]
  },
  {
   "cell_type": "code",
   "execution_count": 102,
   "metadata": {},
   "outputs": [
    {
     "data": {
      "text/plain": [
       "Timestamp('2017-06-29 00:00:00')"
      ]
     },
     "execution_count": 102,
     "metadata": {},
     "output_type": "execute_result"
    }
   ],
   "source": [
    "df_test.index[0]"
   ]
  },
  {
   "cell_type": "code",
   "execution_count": 103,
   "metadata": {},
   "outputs": [
    {
     "data": {
      "text/plain": [
       "375"
      ]
     },
     "execution_count": 103,
     "metadata": {},
     "output_type": "execute_result"
    }
   ],
   "source": [
    "len(df_train)"
   ]
  },
  {
   "cell_type": "code",
   "execution_count": 104,
   "metadata": {},
   "outputs": [
    {
     "data": {
      "text/plain": [
       "130"
      ]
     },
     "execution_count": 104,
     "metadata": {},
     "output_type": "execute_result"
    }
   ],
   "source": [
    "len(df_test)"
   ]
  },
  {
   "cell_type": "code",
   "execution_count": 105,
   "metadata": {},
   "outputs": [
    {
     "data": {
      "text/html": [
       "<div>\n",
       "<style scoped>\n",
       "    .dataframe tbody tr th:only-of-type {\n",
       "        vertical-align: middle;\n",
       "    }\n",
       "\n",
       "    .dataframe tbody tr th {\n",
       "        vertical-align: top;\n",
       "    }\n",
       "\n",
       "    .dataframe thead th {\n",
       "        text-align: right;\n",
       "    }\n",
       "</style>\n",
       "<table border=\"1\" class=\"dataframe\">\n",
       "  <thead>\n",
       "    <tr style=\"text-align: right;\">\n",
       "      <th></th>\n",
       "      <th>0</th>\n",
       "    </tr>\n",
       "  </thead>\n",
       "  <tbody>\n",
       "    <tr>\n",
       "      <th>40</th>\n",
       "      <td>ebit_last_q</td>\n",
       "    </tr>\n",
       "    <tr>\n",
       "      <th>41</th>\n",
       "      <td>equity_per_share_growth_last_q</td>\n",
       "    </tr>\n",
       "    <tr>\n",
       "      <th>42</th>\n",
       "      <td>financial_leverage_last_q</td>\n",
       "    </tr>\n",
       "    <tr>\n",
       "      <th>43</th>\n",
       "      <td>gross_margin_last_q</td>\n",
       "    </tr>\n",
       "    <tr>\n",
       "      <th>44</th>\n",
       "      <td>inventory_turnover_last_q</td>\n",
       "    </tr>\n",
       "    <tr>\n",
       "      <th>45</th>\n",
       "      <td>long_term_debt_equity_ratio_last_q</td>\n",
       "    </tr>\n",
       "    <tr>\n",
       "      <th>46</th>\n",
       "      <td>long_term_debt_total_capital_ratio_last_q</td>\n",
       "    </tr>\n",
       "    <tr>\n",
       "      <th>47</th>\n",
       "      <td>net_income_cont_ops_growth_last_q</td>\n",
       "    </tr>\n",
       "    <tr>\n",
       "      <th>48</th>\n",
       "      <td>operating_cash_flow_last_q</td>\n",
       "    </tr>\n",
       "    <tr>\n",
       "      <th>49</th>\n",
       "      <td>operating_income_last_q</td>\n",
       "    </tr>\n",
       "    <tr>\n",
       "      <th>50</th>\n",
       "      <td>buy_back_yield_this_q</td>\n",
       "    </tr>\n",
       "    <tr>\n",
       "      <th>51</th>\n",
       "      <td>net_income_growth_this_q</td>\n",
       "    </tr>\n",
       "    <tr>\n",
       "      <th>52</th>\n",
       "      <td>net_margin_this_q</td>\n",
       "    </tr>\n",
       "    <tr>\n",
       "      <th>53</th>\n",
       "      <td>normalized_net_profit_margin_this_q</td>\n",
       "    </tr>\n",
       "    <tr>\n",
       "      <th>54</th>\n",
       "      <td>operation_income_growth_this_q</td>\n",
       "    </tr>\n",
       "    <tr>\n",
       "      <th>55</th>\n",
       "      <td>operation_margin_this_q</td>\n",
       "    </tr>\n",
       "    <tr>\n",
       "      <th>56</th>\n",
       "      <td>quick_ratio_this_q</td>\n",
       "    </tr>\n",
       "    <tr>\n",
       "      <th>57</th>\n",
       "      <td>revenue_growth_this_q</td>\n",
       "    </tr>\n",
       "    <tr>\n",
       "      <th>58</th>\n",
       "      <td>roa_this_q</td>\n",
       "    </tr>\n",
       "    <tr>\n",
       "      <th>59</th>\n",
       "      <td>roe_this_q</td>\n",
       "    </tr>\n",
       "    <tr>\n",
       "      <th>60</th>\n",
       "      <td>total_debt_equity_ratio_this_q</td>\n",
       "    </tr>\n",
       "    <tr>\n",
       "      <th>61</th>\n",
       "      <td>cash_and_cash_equivalents_this_q</td>\n",
       "    </tr>\n",
       "    <tr>\n",
       "      <th>62</th>\n",
       "      <td>cash_return_this_q</td>\n",
       "    </tr>\n",
       "    <tr>\n",
       "      <th>63</th>\n",
       "      <td>cost_of_revenue_this_q</td>\n",
       "    </tr>\n",
       "    <tr>\n",
       "      <th>64</th>\n",
       "      <td>current_ratio_this_q</td>\n",
       "    </tr>\n",
       "    <tr>\n",
       "      <th>65</th>\n",
       "      <td>ebit_this_q</td>\n",
       "    </tr>\n",
       "    <tr>\n",
       "      <th>66</th>\n",
       "      <td>equity_per_share_growth_this_q</td>\n",
       "    </tr>\n",
       "    <tr>\n",
       "      <th>67</th>\n",
       "      <td>financial_leverage_this_q</td>\n",
       "    </tr>\n",
       "    <tr>\n",
       "      <th>68</th>\n",
       "      <td>gross_margin_this_q</td>\n",
       "    </tr>\n",
       "    <tr>\n",
       "      <th>69</th>\n",
       "      <td>inventory_turnover_this_q</td>\n",
       "    </tr>\n",
       "    <tr>\n",
       "      <th>70</th>\n",
       "      <td>long_term_debt_equity_ratio_this_q</td>\n",
       "    </tr>\n",
       "    <tr>\n",
       "      <th>71</th>\n",
       "      <td>long_term_debt_total_capital_ratio_this_q</td>\n",
       "    </tr>\n",
       "    <tr>\n",
       "      <th>72</th>\n",
       "      <td>net_income_cont_ops_growth_this_q</td>\n",
       "    </tr>\n",
       "    <tr>\n",
       "      <th>73</th>\n",
       "      <td>operating_cash_flow_this_q</td>\n",
       "    </tr>\n",
       "    <tr>\n",
       "      <th>74</th>\n",
       "      <td>operating_income_this_q</td>\n",
       "    </tr>\n",
       "    <tr>\n",
       "      <th>75</th>\n",
       "      <td>drift_80day_cat</td>\n",
       "    </tr>\n",
       "    <tr>\n",
       "      <th>76</th>\n",
       "      <td>drift_80day_cat01</td>\n",
       "    </tr>\n",
       "    <tr>\n",
       "      <th>77</th>\n",
       "      <td>ev_3class</td>\n",
       "    </tr>\n",
       "    <tr>\n",
       "      <th>78</th>\n",
       "      <td>drift_4day_3class</td>\n",
       "    </tr>\n",
       "    <tr>\n",
       "      <th>79</th>\n",
       "      <td>drift_10day_3class</td>\n",
       "    </tr>\n",
       "    <tr>\n",
       "      <th>80</th>\n",
       "      <td>drift_30day_3class</td>\n",
       "    </tr>\n",
       "    <tr>\n",
       "      <th>81</th>\n",
       "      <td>drift_60day_3class</td>\n",
       "    </tr>\n",
       "    <tr>\n",
       "      <th>82</th>\n",
       "      <td>drift_80day_3class</td>\n",
       "    </tr>\n",
       "  </tbody>\n",
       "</table>\n",
       "</div>"
      ],
      "text/plain": [
       "                                            0\n",
       "40                                ebit_last_q\n",
       "41             equity_per_share_growth_last_q\n",
       "42                  financial_leverage_last_q\n",
       "43                        gross_margin_last_q\n",
       "44                  inventory_turnover_last_q\n",
       "45         long_term_debt_equity_ratio_last_q\n",
       "46  long_term_debt_total_capital_ratio_last_q\n",
       "47          net_income_cont_ops_growth_last_q\n",
       "48                 operating_cash_flow_last_q\n",
       "49                    operating_income_last_q\n",
       "50                      buy_back_yield_this_q\n",
       "51                   net_income_growth_this_q\n",
       "52                          net_margin_this_q\n",
       "53        normalized_net_profit_margin_this_q\n",
       "54             operation_income_growth_this_q\n",
       "55                    operation_margin_this_q\n",
       "56                         quick_ratio_this_q\n",
       "57                      revenue_growth_this_q\n",
       "58                                 roa_this_q\n",
       "59                                 roe_this_q\n",
       "60             total_debt_equity_ratio_this_q\n",
       "61           cash_and_cash_equivalents_this_q\n",
       "62                         cash_return_this_q\n",
       "63                     cost_of_revenue_this_q\n",
       "64                       current_ratio_this_q\n",
       "65                                ebit_this_q\n",
       "66             equity_per_share_growth_this_q\n",
       "67                  financial_leverage_this_q\n",
       "68                        gross_margin_this_q\n",
       "69                  inventory_turnover_this_q\n",
       "70         long_term_debt_equity_ratio_this_q\n",
       "71  long_term_debt_total_capital_ratio_this_q\n",
       "72          net_income_cont_ops_growth_this_q\n",
       "73                 operating_cash_flow_this_q\n",
       "74                    operating_income_this_q\n",
       "75                            drift_80day_cat\n",
       "76                          drift_80day_cat01\n",
       "77                                  ev_3class\n",
       "78                          drift_4day_3class\n",
       "79                         drift_10day_3class\n",
       "80                         drift_30day_3class\n",
       "81                         drift_60day_3class\n",
       "82                         drift_80day_3class"
      ]
     },
     "execution_count": 105,
     "metadata": {},
     "output_type": "execute_result"
    }
   ],
   "source": [
    "pd.DataFrame(df_train.columns)[40:85]"
   ]
  },
  {
   "cell_type": "code",
   "execution_count": 106,
   "metadata": {},
   "outputs": [],
   "source": [
    "## For predicting event_return:\n",
    "# Create array for features: training and testing\n",
    "non_features = ['symbol', 'time', 'drift_10day', 'drift_10day_cat', 'drift_30day', \\\n",
    "          'drift_30day_cat', 'drift_4day', 'drift_4day_cat', 'drift_60day', \\\n",
    "          'drift_60day_cat', 'drift_80day', 'event_return', \\\n",
    "          'event_return_cat', 'drift_80day_cat', 'ev_3class', 'drift_4day_3class', 'drift_10day_3class',\\\n",
    "          'drift_30day_3class', 'drift_60day_3class', 'drift_80day_3class', 'drift_80day_cat01']\n",
    "                        \n",
    "features = [c for c in df_train.columns if c not in non_features]\n",
    "\n",
    "x_train = df_train[features].values\n",
    "x_test = df_test[features].values\n",
    "\n",
    "# To be used with TimeSeriesSplit later\n",
    "x = np.concatenate((x_train,x_test), axis=0)"
   ]
  },
  {
   "cell_type": "code",
   "execution_count": 107,
   "metadata": {},
   "outputs": [],
   "source": [
    "## For predicting after event drifts:\n",
    "# Create array for features: training and testing\n",
    "non_features_drift = ['symbol', 'time', 'drift_10day', 'drift_10day_cat', 'drift_30day', \\\n",
    "          'drift_30day_cat', 'drift_4day', 'drift_4day_cat', 'drift_60day', \\\n",
    "          'drift_60day_cat', 'drift_80day', \\\n",
    "          'drift_80day_cat', 'ev_3class', 'drift_4day_3class', 'drift_10day_3class',\\\n",
    "          'drift_30day_3class', 'drift_60day_3class', 'drift_80day_3class', 'drift_80day_cat01']                     \n",
    "          \n",
    "features_drift = [c for c in df_train.columns if c not in non_features_drift]\n",
    "\n",
    "x_train_drift = df_train[features_drift].values\n",
    "x_test_drift = df_test[features_drift].values\n",
    "\n",
    "# To be used with TimeSeriesSplit later\n",
    "x_drift = np.concatenate((x_train_drift,x_test_drift), axis=0)"
   ]
  },
  {
   "cell_type": "code",
   "execution_count": 108,
   "metadata": {},
   "outputs": [],
   "source": [
    "## Create arrays for the target variables: training and testing\n",
    "# For binary output predictions:\n",
    "y_train_ev_return_cat = df_train['event_return_cat'].values\n",
    "y_test_ev_return_cat = df_test['event_return_cat'].values\n",
    "y_train_80day_cat = df_train['drift_80day_cat'].values\n",
    "y_test_80day_cat = df_test['drift_80day_cat'].values\n",
    "y_train_80day_cat01 = df_train['drift_80day_cat01'].values\n",
    "y_test_80day_cat01 = df_test['drift_80day_cat01'].values\n",
    "\n",
    "# For 3 output predictions:\n",
    "y_train_ev_return_3class = df_train['ev_3class'].values\n",
    "y_test_ev_return_3class = df_test['ev_3class'].values\n",
    "y_train_4day_3class = df_train['drift_4day_3class'].values\n",
    "y_test_4day_3class = df_test['drift_4day_3class'].values\n",
    "y_train_10day_3class = df_train['drift_10day_3class'].values\n",
    "y_test_10day_3class = df_test['drift_10day_3class'].values\n",
    "y_train_60day_3class = df_train['drift_60day_3class'].values\n",
    "y_test_60day_3class = df_test['drift_60day_3class'].values\n",
    "y_train_80day_3class = df_train['drift_80day_3class'].values\n",
    "y_test_80day_3class = df_test['drift_80day_3class'].values\n",
    "\n",
    "# To be used with TimeSeriesSplit later\n",
    "y_ev_return_cat = df['event_return_cat'].values"
   ]
  },
  {
   "cell_type": "markdown",
   "metadata": {},
   "source": [
    "## Binary output prediction (\"+1\" and \"-1\" outputs only)"
   ]
  },
  {
   "cell_type": "markdown",
   "metadata": {},
   "source": [
    "### Event Return"
   ]
  },
  {
   "cell_type": "markdown",
   "metadata": {},
   "source": [
    "Perform hyperparameter tuning using RandomizedSearchCV"
   ]
  },
  {
   "cell_type": "code",
   "execution_count": 109,
   "metadata": {},
   "outputs": [],
   "source": [
    "# Create the TimeSeriesSplit object\n",
    "tscv = TimeSeriesSplit(n_splits=2)\n",
    "my_cv = TimeSeriesSplit(n_splits=2).split(x)"
   ]
  },
  {
   "cell_type": "markdown",
   "metadata": {},
   "source": [
    "__Logistic Regression__"
   ]
  },
  {
   "cell_type": "code",
   "execution_count": 110,
   "metadata": {},
   "outputs": [],
   "source": [
    "# Logistic regression definition\n",
    "logreg = LogisticRegression(solver='sag', max_iter=5000)\n",
    "\n",
    "# Define the parameter grid to be searched from\n",
    "c_space = np.logspace(-5, 8, 15)\n",
    "param_grid = {'C': c_space}\n",
    "\n",
    "# Hyperparameter tuning using RandomizedSearchCV\n",
    "LR_cv = RandomizedSearchCV(logreg, param_grid, cv = 4, scoring = 'neg_log_loss', random_state = 7)"
   ]
  },
  {
   "cell_type": "code",
   "execution_count": 111,
   "metadata": {},
   "outputs": [
    {
     "name": "stderr",
     "output_type": "stream",
     "text": [
      "/Users/Qian/anaconda3/lib/python3.6/site-packages/sklearn/linear_model/sag.py:334: ConvergenceWarning: The max_iter was reached which means the coef_ did not converge\n",
      "  \"the coef_ did not converge\", ConvergenceWarning)\n",
      "/Users/Qian/anaconda3/lib/python3.6/site-packages/sklearn/linear_model/sag.py:334: ConvergenceWarning: The max_iter was reached which means the coef_ did not converge\n",
      "  \"the coef_ did not converge\", ConvergenceWarning)\n",
      "/Users/Qian/anaconda3/lib/python3.6/site-packages/sklearn/linear_model/sag.py:334: ConvergenceWarning: The max_iter was reached which means the coef_ did not converge\n",
      "  \"the coef_ did not converge\", ConvergenceWarning)\n",
      "/Users/Qian/anaconda3/lib/python3.6/site-packages/sklearn/linear_model/sag.py:334: ConvergenceWarning: The max_iter was reached which means the coef_ did not converge\n",
      "  \"the coef_ did not converge\", ConvergenceWarning)\n",
      "/Users/Qian/anaconda3/lib/python3.6/site-packages/sklearn/linear_model/sag.py:334: ConvergenceWarning: The max_iter was reached which means the coef_ did not converge\n",
      "  \"the coef_ did not converge\", ConvergenceWarning)\n",
      "/Users/Qian/anaconda3/lib/python3.6/site-packages/sklearn/linear_model/sag.py:334: ConvergenceWarning: The max_iter was reached which means the coef_ did not converge\n",
      "  \"the coef_ did not converge\", ConvergenceWarning)\n",
      "/Users/Qian/anaconda3/lib/python3.6/site-packages/sklearn/linear_model/sag.py:334: ConvergenceWarning: The max_iter was reached which means the coef_ did not converge\n",
      "  \"the coef_ did not converge\", ConvergenceWarning)\n",
      "/Users/Qian/anaconda3/lib/python3.6/site-packages/sklearn/model_selection/_search.py:841: DeprecationWarning: The default of the `iid` parameter will change from True to False in version 0.22 and will be removed in 0.24. This will change numeric results when test-set sizes are unequal.\n",
      "  DeprecationWarning)\n"
     ]
    }
   ],
   "source": [
    "# Fit the model\n",
    "LR_cv.fit(x_train, y_train_ev_return_cat)\n",
    "\n",
    "# Use the optimised parameters to predict\n",
    "y_pred_ev_return_cat_LR = LR_cv.predict(x_test)"
   ]
  },
  {
   "cell_type": "markdown",
   "metadata": {},
   "source": [
    "N.B. The above warning message says \"The max_iter was reached which means the coef_ did not converge\", probably due to the non-linear nature and high dimensionality of the dataset. "
   ]
  },
  {
   "cell_type": "code",
   "execution_count": 112,
   "metadata": {},
   "outputs": [
    {
     "name": "stdout",
     "output_type": "stream",
     "text": [
      "Logistic regression:\n",
      "[[35 31]\n",
      " [29 35]]\n",
      "              precision    recall  f1-score   support\n",
      "\n",
      "        -1.0       0.55      0.53      0.54        66\n",
      "         1.0       0.53      0.55      0.54        64\n",
      "\n",
      "   micro avg       0.54      0.54      0.54       130\n",
      "   macro avg       0.54      0.54      0.54       130\n",
      "weighted avg       0.54      0.54      0.54       130\n",
      "\n"
     ]
    }
   ],
   "source": [
    "# Print optimised results from different estimators\n",
    "print('Logistic regression:')\n",
    "print(confusion_matrix(y_test_ev_return_cat, y_pred_ev_return_cat_LR))\n",
    "print(classification_report(y_test_ev_return_cat, y_pred_ev_return_cat_LR))"
   ]
  },
  {
   "cell_type": "code",
   "execution_count": 113,
   "metadata": {},
   "outputs": [],
   "source": [
    "# To see the estimated coefficients\n",
    "# First need to fit the model with the optimised parameters found\n",
    "#LR_cv.best_params_"
   ]
  },
  {
   "cell_type": "code",
   "execution_count": 114,
   "metadata": {},
   "outputs": [],
   "source": [
    "#lr = LogisticRegression(C=1e-05, solver='sag', max_iter=5000)\n",
    "#lr.fit(x_train, y_train_ev_return_cat)\n",
    "\n",
    "#lr_features = pd.DataFrame(lr.coef_, columns=features).T\n",
    "\n",
    "#lr_features.sort_values(by=0, inplace=True)\n",
    "\n",
    "#fig = plt.figure(figsize=(20,14))\n",
    "#lr_features.plot.bar()\n",
    "#plt.show()"
   ]
  },
  {
   "cell_type": "markdown",
   "metadata": {},
   "source": [
    "__Random Forest__"
   ]
  },
  {
   "cell_type": "code",
   "execution_count": 115,
   "metadata": {},
   "outputs": [],
   "source": [
    "# Random Forest\n",
    "#RF = RandomForestClassifier(n_estimators = 1000, random_state = 42, max_features='auto')\n",
    "RF = RandomForestClassifier()\n",
    "\n",
    "# 2. Define the parameter grid to be searched from\n",
    "# Number of trees in random forest\n",
    "n_estimators = [int(x) for x in np.linspace(start = 200, stop = 2000, num = 10)]\n",
    "\n",
    "# Number of features to consider at every split\n",
    "max_features = ['auto', 'sqrt', 'log2']\n",
    "\n",
    "# Maximum number of levels in tree\n",
    "max_depth = [int(x) for x in np.linspace(10, 110, num = 11)]\n",
    "max_depth.append(None)\n",
    "\n",
    "# Minimum number of samples required to split a node\n",
    "min_samples_split = [2, 5, 10]\n",
    "\n",
    "# Minimum number of samples required at each leaf node\n",
    "min_samples_leaf = [1, 2, 4]\n",
    "\n",
    "# Create the random grid\n",
    "random_grid = {'n_estimators': n_estimators,\n",
    "               'max_features': max_features,\n",
    "               'max_depth': max_depth,\n",
    "               'min_samples_split': min_samples_split,\n",
    "               'min_samples_leaf': min_samples_leaf}\n",
    "\n",
    "# 3. Hyperparameter tuning using RandomizedSearchCV\n",
    "RF_cv = RandomizedSearchCV(RF, random_grid, cv = 4, scoring = 'neg_log_loss', random_state = 7)"
   ]
  },
  {
   "cell_type": "code",
   "execution_count": 116,
   "metadata": {},
   "outputs": [
    {
     "name": "stdout",
     "output_type": "stream",
     "text": [
      "Random Forest:\n",
      "[[32 34]\n",
      " [31 33]]\n",
      "              precision    recall  f1-score   support\n",
      "\n",
      "        -1.0       0.51      0.48      0.50        66\n",
      "         1.0       0.49      0.52      0.50        64\n",
      "\n",
      "   micro avg       0.50      0.50      0.50       130\n",
      "   macro avg       0.50      0.50      0.50       130\n",
      "weighted avg       0.50      0.50      0.50       130\n",
      "\n",
      "\n",
      "\n"
     ]
    }
   ],
   "source": [
    "# Fit the model\n",
    "RF_cv.fit(x_train, y_train_ev_return_cat);\n",
    "\n",
    "# Use the optimised parameters to predict\n",
    "y_pred_ev_return_cat_RF = RF_cv.predict(x_test)\n",
    "\n",
    "print('Random Forest:')\n",
    "print(confusion_matrix(y_test_ev_return_cat, y_pred_ev_return_cat_RF))\n",
    "print(classification_report(y_test_ev_return_cat, y_pred_ev_return_cat_RF))\n",
    "print('\\n')"
   ]
  },
  {
   "cell_type": "code",
   "execution_count": 117,
   "metadata": {},
   "outputs": [
    {
     "data": {
      "text/plain": [
       "{'n_estimators': 400,\n",
       " 'min_samples_split': 2,\n",
       " 'min_samples_leaf': 2,\n",
       " 'max_features': 'log2',\n",
       " 'max_depth': 10}"
      ]
     },
     "execution_count": 117,
     "metadata": {},
     "output_type": "execute_result"
    }
   ],
   "source": [
    "# To see the important features\n",
    "# First need to fit the model with the optimised parameters:\n",
    "RF_cv.best_params_"
   ]
  },
  {
   "cell_type": "code",
   "execution_count": 118,
   "metadata": {},
   "outputs": [],
   "source": [
    "RF_opt = RandomForestClassifier(n_estimators= 1200,\n",
    " min_samples_split= 10,\n",
    " min_samples_leaf= 4,\n",
    " max_features= 'sqrt',\n",
    " max_depth= 10)\n",
    "\n",
    "RF_opt.fit(x_train, y_train_ev_return_cat);"
   ]
  },
  {
   "cell_type": "code",
   "execution_count": 119,
   "metadata": {},
   "outputs": [
    {
     "data": {
      "image/png": "[encoded data removed]",
      "text/plain": [
       "<Figure size 1008x720 with 1 Axes>"
      ]
     },
     "metadata": {
      "needs_background": "light"
     },
     "output_type": "display_data"
    }
   ],
   "source": [
    "fig = plt.figure(figsize=(14,10))\n",
    "(pd.Series(RF_opt.feature_importances_, index=features)\n",
    "   .nlargest(30)\n",
    "   .plot(kind='barh')) \n",
    "plt.show()"
   ]
  },
  {
   "cell_type": "markdown",
   "metadata": {},
   "source": [
    "N.B. Surprisingly, the StockTwit data did not seem important, only the sentiment 'sen' made it to the list, at about 20th position. "
   ]
  },
  {
   "cell_type": "markdown",
   "metadata": {},
   "source": [
    "__AdaBoost__\n",
    "\n",
    "AdaBoost performs by boosting the performace of weak learners such as single-level decision trees. By iteratively assigning heavier weights to the previously incorrectly classified data points, the subsequent classifiers focus more on difficult cases, thus improving performance gradually. "
   ]
  },
  {
   "cell_type": "code",
   "execution_count": 120,
   "metadata": {},
   "outputs": [],
   "source": [
    "# Create Adaboost-decision tree classifer object\n",
    "Ada_clf = AdaBoostClassifier()\n",
    "\n",
    "# Define the parameter grid to be searched from\n",
    "para_ada = {\n",
    " 'n_estimators': [50, 100, 200, 500, 1000, 2000],\n",
    " 'learning_rate' : [0.01, 0.05, 0.1, 0.3, 1]}\n",
    "\n",
    "# Hyperparameter tuning using RandomizedSearchCV\n",
    "Ada_cv = RandomizedSearchCV(Ada_clf, para_ada, cv = 4, n_iter = 20, random_state = 7)"
   ]
  },
  {
   "cell_type": "code",
   "execution_count": 121,
   "metadata": {},
   "outputs": [
    {
     "name": "stderr",
     "output_type": "stream",
     "text": [
      "/Users/Qian/anaconda3/lib/python3.6/site-packages/sklearn/model_selection/_search.py:841: DeprecationWarning: The default of the `iid` parameter will change from True to False in version 0.22 and will be removed in 0.24. This will change numeric results when test-set sizes are unequal.\n",
      "  DeprecationWarning)\n"
     ]
    },
    {
     "name": "stdout",
     "output_type": "stream",
     "text": [
      "{'n_estimators': 100, 'learning_rate': 0.1}\n"
     ]
    }
   ],
   "source": [
    "# Fit the model\n",
    "Ada_cv.fit(x_train, y_train_ev_return_cat);\n",
    "\n",
    "# View the best parameters found\n",
    "print(Ada_cv.best_params_)\n",
    "\n",
    "# Use the optimised parameters to predict\n",
    "y_pred_ev_return_cat_Ada = Ada_cv.predict(x_test)"
   ]
  },
  {
   "cell_type": "code",
   "execution_count": 122,
   "metadata": {},
   "outputs": [
    {
     "name": "stdout",
     "output_type": "stream",
     "text": [
      "{'n_estimators': 50, 'learning_rate': 0.8}\n"
     ]
    },
    {
     "name": "stderr",
     "output_type": "stream",
     "text": [
      "/Users/Qian/anaconda3/lib/python3.6/site-packages/sklearn/model_selection/_search.py:841: DeprecationWarning: The default of the `iid` parameter will change from True to False in version 0.22 and will be removed in 0.24. This will change numeric results when test-set sizes are unequal.\n",
      "  DeprecationWarning)\n"
     ]
    }
   ],
   "source": [
    "# Re-define the parameter grid to be searched from, based on the best parameters found above\n",
    "para_ada = {\n",
    " 'n_estimators': [20, 50, 80, 100, 200],\n",
    " 'learning_rate' : [0.5, 0.8, 1, 1.2, 2]}\n",
    "\n",
    "# Hyperparameter tuning using RandomizedSearchCV\n",
    "Ada_cv = RandomizedSearchCV(Ada_clf, para_ada, cv = 4, n_iter = 20, random_state = 7)\n",
    "\n",
    "# Fit the model\n",
    "Ada_cv.fit(x_train, y_train_ev_return_cat);\n",
    "\n",
    "# View the best parameters found\n",
    "print(Ada_cv.best_params_)\n",
    "\n",
    "# Use the optimised parameters to predict\n",
    "y_pred_ev_return_cat_Ada = Ada_cv.predict(x_test)"
   ]
  },
  {
   "cell_type": "markdown",
   "metadata": {},
   "source": [
    "__Support Vector Machine (SVM)__"
   ]
  },
  {
   "cell_type": "code",
   "execution_count": 123,
   "metadata": {},
   "outputs": [],
   "source": [
    "# Create Adaboost-decision tree classifer object\n",
    "SVM_clf = SVC()\n",
    "\n",
    "# Define the parameter grid to be searched from\n",
    "para_SVM = {'C':[0.0001, 0.001, 0.01, 0.1, 1, 2, 5, 8],\n",
    "              'gamma':[0.5, 0.1, 0.01, 0.001, 0.0001]}\n",
    "\n",
    "# Hyperparameter tuning using RandomizedSearchCV\n",
    "SVM_cv = GridSearchCV(SVM_clf, para_SVM, cv = 4)"
   ]
  },
  {
   "cell_type": "code",
   "execution_count": 124,
   "metadata": {},
   "outputs": [
    {
     "name": "stdout",
     "output_type": "stream",
     "text": [
      "{'C': 1, 'gamma': 0.01}\n"
     ]
    },
    {
     "name": "stderr",
     "output_type": "stream",
     "text": [
      "/Users/Qian/anaconda3/lib/python3.6/site-packages/sklearn/model_selection/_search.py:841: DeprecationWarning: The default of the `iid` parameter will change from True to False in version 0.22 and will be removed in 0.24. This will change numeric results when test-set sizes are unequal.\n",
      "  DeprecationWarning)\n"
     ]
    }
   ],
   "source": [
    "# Fit the model\n",
    "SVM_cv.fit(x_train, y_train_ev_return_cat);\n",
    "\n",
    "# View the best parameters found\n",
    "print(SVM_cv.best_params_)\n",
    "\n",
    "# Use the optimised parameters to predict\n",
    "y_pred_ev_return_cat_SVM = SVM_cv.predict(x_test)"
   ]
  },
  {
   "cell_type": "markdown",
   "metadata": {},
   "source": [
    "__XGBoost__\n",
    "\n",
    "There are a few useful parameters to set (https://xgboost.readthedocs.io/en/latest/parameter.html):\n",
    "Objective: Specify the learning task and the corresponding learning objective. In our case, we will use 'multi:softmax' or 'multi:softprob'.\n",
    "* multi:softmax: set XGBoost to do multiclass classification using the softmax objective, you also need to set num_class(number of classes)\n",
    "* multi:softprob: same as softmax, but output a vector of ndata * nclass, which can be further reshaped to ndata * nclass matrix. The result contains predicted probability of each data point belonging to each class."
   ]
  },
  {
   "cell_type": "code",
   "execution_count": 125,
   "metadata": {},
   "outputs": [],
   "source": [
    "# Instantiate the XGBClassifier: xg\n",
    "xg = xgb.XGBClassifier(objective='multi:softmax', num_class=2, n_estimators=10, seed=123)"
   ]
  },
  {
   "cell_type": "code",
   "execution_count": 126,
   "metadata": {},
   "outputs": [],
   "source": [
    "# Fit the model\n",
    "xg.fit(x_train, y_train_ev_return_cat);\n",
    "\n",
    "# Use the optimised parameters to predict\n",
    "y_pred_ev_return_cat_xg = xg.predict(x_test)"
   ]
  },
  {
   "cell_type": "markdown",
   "metadata": {},
   "source": [
    "__Compare results from different models:__"
   ]
  },
  {
   "cell_type": "code",
   "execution_count": 127,
   "metadata": {},
   "outputs": [
    {
     "name": "stdout",
     "output_type": "stream",
     "text": [
      "Logistic regression:\n",
      "[[35 31]\n",
      " [29 35]]\n",
      "              precision    recall  f1-score   support\n",
      "\n",
      "        -1.0       0.55      0.53      0.54        66\n",
      "         1.0       0.53      0.55      0.54        64\n",
      "\n",
      "   micro avg       0.54      0.54      0.54       130\n",
      "   macro avg       0.54      0.54      0.54       130\n",
      "weighted avg       0.54      0.54      0.54       130\n",
      "\n",
      "Random Forest:\n",
      "[[32 34]\n",
      " [31 33]]\n",
      "              precision    recall  f1-score   support\n",
      "\n",
      "        -1.0       0.51      0.48      0.50        66\n",
      "         1.0       0.49      0.52      0.50        64\n",
      "\n",
      "   micro avg       0.50      0.50      0.50       130\n",
      "   macro avg       0.50      0.50      0.50       130\n",
      "weighted avg       0.50      0.50      0.50       130\n",
      "\n",
      "AdaBoost:\n",
      "[[34 32]\n",
      " [31 33]]\n",
      "              precision    recall  f1-score   support\n",
      "\n",
      "        -1.0       0.52      0.52      0.52        66\n",
      "         1.0       0.51      0.52      0.51        64\n",
      "\n",
      "   micro avg       0.52      0.52      0.52       130\n",
      "   macro avg       0.52      0.52      0.52       130\n",
      "weighted avg       0.52      0.52      0.52       130\n",
      "\n",
      "SVM:\n",
      "[[38 28]\n",
      " [37 27]]\n",
      "              precision    recall  f1-score   support\n",
      "\n",
      "        -1.0       0.51      0.58      0.54        66\n",
      "         1.0       0.49      0.42      0.45        64\n",
      "\n",
      "   micro avg       0.50      0.50      0.50       130\n",
      "   macro avg       0.50      0.50      0.50       130\n",
      "weighted avg       0.50      0.50      0.50       130\n",
      "\n",
      "XGBoost:\n",
      "[[30 36]\n",
      " [25 39]]\n",
      "              precision    recall  f1-score   support\n",
      "\n",
      "        -1.0       0.55      0.45      0.50        66\n",
      "         1.0       0.52      0.61      0.56        64\n",
      "\n",
      "   micro avg       0.53      0.53      0.53       130\n",
      "   macro avg       0.53      0.53      0.53       130\n",
      "weighted avg       0.53      0.53      0.53       130\n",
      "\n"
     ]
    }
   ],
   "source": [
    "# Print optimised results from different estimators\n",
    "print('Logistic regression:')\n",
    "print(confusion_matrix(y_test_ev_return_cat, y_pred_ev_return_cat_LR))\n",
    "print(classification_report(y_test_ev_return_cat, y_pred_ev_return_cat_LR))\n",
    "\n",
    "print('Random Forest:')\n",
    "print(confusion_matrix(y_test_ev_return_cat, y_pred_ev_return_cat_RF))\n",
    "print(classification_report(y_test_ev_return_cat, y_pred_ev_return_cat_RF))\n",
    "\n",
    "print('AdaBoost:')\n",
    "print(confusion_matrix(y_test_ev_return_cat, y_pred_ev_return_cat_Ada))\n",
    "print(classification_report(y_test_ev_return_cat, y_pred_ev_return_cat_Ada))\n",
    "\n",
    "print('SVM:')\n",
    "print(confusion_matrix(y_test_ev_return_cat, y_pred_ev_return_cat_SVM))\n",
    "print(classification_report(y_test_ev_return_cat, y_pred_ev_return_cat_SVM))\n",
    "\n",
    "print('XGBoost:')\n",
    "print(confusion_matrix(y_test_ev_return_cat, y_pred_ev_return_cat_xg))\n",
    "print(classification_report(y_test_ev_return_cat, y_pred_ev_return_cat_xg))"
   ]
  },
  {
   "cell_type": "markdown",
   "metadata": {},
   "source": [
    "### 80-day drift"
   ]
  },
  {
   "cell_type": "markdown",
   "metadata": {},
   "source": [
    "### Dealing with imbalanced classes"
   ]
  },
  {
   "cell_type": "code",
   "execution_count": 128,
   "metadata": {},
   "outputs": [
    {
     "data": {
      "image/png": "[encoded data removed]",
      "text/plain": [
       "<Figure size 576x432 with 1 Axes>"
      ]
     },
     "metadata": {
      "needs_background": "light"
     },
     "output_type": "display_data"
    }
   ],
   "source": [
    "# Plot the number of classes: drift-80days\n",
    "fig = plt.figure(figsize=(8,6))\n",
    "#df_test.groupby('drift_80day_3class').drift_80day_3class.count().plot.bar(ylim=0)\n",
    "df_test.groupby('drift_80day_cat').drift_80day_cat.count().plot.bar(ylim=0)\n",
    "plt.show()"
   ]
  },
  {
   "cell_type": "markdown",
   "metadata": {},
   "source": [
    "__Logistic Regression__"
   ]
  },
  {
   "cell_type": "code",
   "execution_count": 129,
   "metadata": {},
   "outputs": [
    {
     "name": "stderr",
     "output_type": "stream",
     "text": [
      "/Users/Qian/anaconda3/lib/python3.6/site-packages/sklearn/linear_model/sag.py:334: ConvergenceWarning: The max_iter was reached which means the coef_ did not converge\n",
      "  \"the coef_ did not converge\", ConvergenceWarning)\n"
     ]
    },
    {
     "name": "stdout",
     "output_type": "stream",
     "text": [
      "The default model prediction:\n",
      "[[13 28]\n",
      " [24 65]]\n",
      "              precision    recall  f1-score   support\n",
      "\n",
      "          -1       0.35      0.32      0.33        41\n",
      "           1       0.70      0.73      0.71        89\n",
      "\n",
      "   micro avg       0.60      0.60      0.60       130\n",
      "   macro avg       0.53      0.52      0.52       130\n",
      "weighted avg       0.59      0.60      0.59       130\n",
      "\n",
      "\n",
      "The modified model prediction:\n",
      "[[15 26]\n",
      " [26 63]]\n",
      "              precision    recall  f1-score   support\n",
      "\n",
      "          -1       0.37      0.37      0.37        41\n",
      "           1       0.71      0.71      0.71        89\n",
      "\n",
      "   micro avg       0.60      0.60      0.60       130\n",
      "   macro avg       0.54      0.54      0.54       130\n",
      "weighted avg       0.60      0.60      0.60       130\n",
      "\n"
     ]
    },
    {
     "name": "stderr",
     "output_type": "stream",
     "text": [
      "/Users/Qian/anaconda3/lib/python3.6/site-packages/sklearn/linear_model/sag.py:334: ConvergenceWarning: The max_iter was reached which means the coef_ did not converge\n",
      "  \"the coef_ did not converge\", ConvergenceWarning)\n"
     ]
    }
   ],
   "source": [
    "# Define the default model\n",
    "LR_0 = LogisticRegression(solver='sag', max_iter=5000, random_state=7)\n",
    "\n",
    "# Fit the model\n",
    "LR_0.fit(x_train_drift, y_train_80day_cat);\n",
    "\n",
    "# Use the optimised parameters to predict\n",
    "y_pred_80day_LR0 = LR_0.predict(x_test_drift)\n",
    "\n",
    "#----------------\n",
    "# The modified model\n",
    "LR_1 = LogisticRegression(solver='sag', max_iter=5000, class_weight = {-1:0.51, 1:0.49}, random_state=7)\n",
    "\n",
    "# Fit the model\n",
    "LR_1.fit(x_train_drift, y_train_80day_cat);\n",
    "\n",
    "# Use the optimised parameters to predict\n",
    "y_pred_80day_LR1 = LR_1.predict(x_test_drift)\n",
    "\n",
    "print('The default model prediction:')\n",
    "print(confusion_matrix(y_test_80day_cat, y_pred_80day_LR0))\n",
    "print(classification_report(y_test_80day_cat, y_pred_80day_LR0))\n",
    "\n",
    "print('\\nThe modified model prediction:')\n",
    "print(confusion_matrix(y_test_80day_cat, y_pred_80day_LR1))\n",
    "print(classification_report(y_test_80day_cat, y_pred_80day_LR1))"
   ]
  },
  {
   "cell_type": "markdown",
   "metadata": {},
   "source": [
    "__Rank top 10 stocks:__"
   ]
  },
  {
   "cell_type": "markdown",
   "metadata": {},
   "source": [
    "__Random Forest__"
   ]
  },
  {
   "cell_type": "code",
   "execution_count": 130,
   "metadata": {},
   "outputs": [
    {
     "name": "stdout",
     "output_type": "stream",
     "text": [
      "The default model prediction:\n",
      "[[10 31]\n",
      " [34 55]]\n",
      "              precision    recall  f1-score   support\n",
      "\n",
      "          -1       0.23      0.24      0.24        41\n",
      "           1       0.64      0.62      0.63        89\n",
      "\n",
      "   micro avg       0.50      0.50      0.50       130\n",
      "   macro avg       0.43      0.43      0.43       130\n",
      "weighted avg       0.51      0.50      0.50       130\n",
      "\n",
      "\n",
      "The modified model prediction:\n",
      "[[16 25]\n",
      " [30 59]]\n",
      "              precision    recall  f1-score   support\n",
      "\n",
      "          -1       0.35      0.39      0.37        41\n",
      "           1       0.70      0.66      0.68        89\n",
      "\n",
      "   micro avg       0.58      0.58      0.58       130\n",
      "   macro avg       0.53      0.53      0.52       130\n",
      "weighted avg       0.59      0.58      0.58       130\n",
      "\n",
      "class_weight = {-1: 0.6, 1: 0.4}\n"
     ]
    },
    {
     "name": "stderr",
     "output_type": "stream",
     "text": [
      "/Users/Qian/anaconda3/lib/python3.6/site-packages/sklearn/ensemble/forest.py:246: FutureWarning: The default value of n_estimators will change from 10 in version 0.20 to 100 in 0.22.\n",
      "  \"10 in version 0.20 to 100 in 0.22.\", FutureWarning)\n",
      "/Users/Qian/anaconda3/lib/python3.6/site-packages/sklearn/ensemble/forest.py:246: FutureWarning: The default value of n_estimators will change from 10 in version 0.20 to 100 in 0.22.\n",
      "  \"10 in version 0.20 to 100 in 0.22.\", FutureWarning)\n"
     ]
    }
   ],
   "source": [
    "# Define the default model\n",
    "RF_0 = RandomForestClassifier(random_state=7)\n",
    "\n",
    "# Fit the model\n",
    "RF_0.fit(x_train_drift, y_train_80day_cat);\n",
    "\n",
    "# Use the optimised parameters to predict\n",
    "y_pred_80day_RF0 = RF_0.predict(x_test_drift)\n",
    "\n",
    "#----------------\n",
    "# The modified model\n",
    "RF_1 = RandomForestClassifier(class_weight = {-1:0.6, 1:0.4}, random_state=7)\n",
    "\n",
    "# Fit the model\n",
    "RF_1.fit(x_train_drift, y_train_80day_cat);\n",
    "\n",
    "# Use the optimised parameters to predict\n",
    "y_pred_80day_RF1 = RF_1.predict(x_test_drift)\n",
    "\n",
    "print('The default model prediction:')\n",
    "print(confusion_matrix(y_test_80day_cat, y_pred_80day_RF0))\n",
    "print(classification_report(y_test_80day_cat, y_pred_80day_RF0))\n",
    "\n",
    "print('\\nThe modified model prediction:')\n",
    "print(confusion_matrix(y_test_80day_cat, y_pred_80day_RF1))\n",
    "print(classification_report(y_test_80day_cat, y_pred_80day_RF1))\n",
    "print('class_weight = ' + str({-1:0.6, 1:0.4}))"
   ]
  },
  {
   "cell_type": "code",
   "execution_count": 131,
   "metadata": {},
   "outputs": [
    {
     "data": {
      "image/png": "[encoded data removed]",
      "text/plain": [
       "<Figure size 1008x720 with 1 Axes>"
      ]
     },
     "metadata": {
      "needs_background": "light"
     },
     "output_type": "display_data"
    }
   ],
   "source": [
    "# To see the important features\n",
    "fig = plt.figure(figsize=(14,10))\n",
    "(pd.Series(RF_1.feature_importances_, index=features_drift)\n",
    "   .nlargest(30)\n",
    "   .plot(kind='barh')) \n",
    "plt.show()"
   ]
  },
  {
   "cell_type": "markdown",
   "metadata": {},
   "source": [
    "In contrast to the event_return predicted above, this time 'wal_del_rev', the difference in revenue predictions between Estimize and Wall Street, is the most important feature, followed by some fundamental metrics and the reaction of the earnings report (event_return), and sum of message volume (sum_msg_vol) reported by StockTwit prior to the news date. "
   ]
  },
  {
   "cell_type": "markdown",
   "metadata": {},
   "source": [
    "__Rank top 10 stocks with '+1' being predicted:__"
   ]
  },
  {
   "cell_type": "markdown",
   "metadata": {},
   "source": [
    "Next, we will perform hyperparameters tuning (including class_weight) using RandomizedSearchCV, evaluated by log_loss. "
   ]
  },
  {
   "cell_type": "code",
   "execution_count": 132,
   "metadata": {},
   "outputs": [],
   "source": [
    "from numpy import *"
   ]
  },
  {
   "cell_type": "code",
   "execution_count": 133,
   "metadata": {},
   "outputs": [],
   "source": [
    "# Random Forest\n",
    "#RF = RandomForestClassifier(n_estimators = 1000, random_state = 42, max_features='auto')\n",
    "RF = RandomForestClassifier()\n",
    "\n",
    "# 2. Define the parameter grid to be searched from\n",
    "# Number of trees in random forest\n",
    "n_estimators = [int(x) for x in np.linspace(start = 200, stop = 2000, num = 10)]\n",
    "\n",
    "# Number of features to consider at every split\n",
    "max_features = ['auto', 'sqrt', 'log2']\n",
    "\n",
    "# Maximum number of levels in tree\n",
    "max_depth = [int(x) for x in np.linspace(10, 110, num = 11)]\n",
    "max_depth.append(None)\n",
    "\n",
    "# Minimum number of samples required to split a node\n",
    "min_samples_split = [2, 5, 10]\n",
    "\n",
    "# Minimum number of samples required at each leaf node\n",
    "min_samples_leaf = [1, 2, 4]\n",
    "\n",
    "# Different weights assigned to the imbalanced classes\n",
    "class_weight = [{-1:0.5, 1:0.5}, {-1:0.6, 1:0.4}, {-1:0.7, 1:0.4}, {-1:0.8, 1:0.4}]\n",
    "\n",
    "# Create the random grid\n",
    "random_grid = {'n_estimators': n_estimators,\n",
    "               'max_features': max_features,\n",
    "               'max_depth': max_depth,\n",
    "               'min_samples_split': min_samples_split,\n",
    "               'min_samples_leaf': min_samples_leaf,\n",
    "               'class_weight': class_weight}\n",
    "\n",
    "# 3. Hyperparameter tuning using RandomizedSearchCV\n",
    "RF_80_cat_cv = RandomizedSearchCV(RF, random_grid, cv = 4, scoring = 'neg_log_loss', random_state = random.seed(123))\n",
    "#RF_80_cat_cv = RandomizedSearchCV(RF, random_grid, cv = 4, random_state = 7)\n",
    "# If not using scoring = 'neg_log_loss', which penalises the confident but wrong predictions, the top 10 stocks ranked\n",
    "# below would produce only 8% return rather than 13%. "
   ]
  },
  {
   "cell_type": "code",
   "execution_count": 152,
   "metadata": {},
   "outputs": [
    {
     "name": "stdout",
     "output_type": "stream",
     "text": [
      "[[ 2 39]\n",
      " [14 75]]\n",
      "              precision    recall  f1-score   support\n",
      "\n",
      "          -1       0.12      0.05      0.07        41\n",
      "           1       0.66      0.84      0.74        89\n",
      "\n",
      "   micro avg       0.59      0.59      0.59       130\n",
      "   macro avg       0.39      0.45      0.40       130\n",
      "weighted avg       0.49      0.59      0.53       130\n",
      "\n"
     ]
    }
   ],
   "source": [
    "# Fit the model\n",
    "RF_80_cat_cv.fit(x_train_drift, y_train_80day_cat)\n",
    "\n",
    "# Use the optimised parameters to predict\n",
    "y_pred_80day_RF_cv = RF_80_cat_cv.predict(x_test_drift)\n",
    "\n",
    "print(confusion_matrix(y_test_80day_cat, y_pred_80day_RF_cv))\n",
    "print(classification_report(y_test_80day_cat, y_pred_80day_RF_cv))"
   ]
  },
  {
   "cell_type": "code",
   "execution_count": 153,
   "metadata": {},
   "outputs": [
    {
     "data": {
      "text/plain": [
       "{'n_estimators': 2000,\n",
       " 'min_samples_split': 5,\n",
       " 'min_samples_leaf': 2,\n",
       " 'max_features': 'log2',\n",
       " 'max_depth': None,\n",
       " 'class_weight': {-1: 0.8, 1: 0.4}}"
      ]
     },
     "execution_count": 153,
     "metadata": {},
     "output_type": "execute_result"
    }
   ],
   "source": [
    "RF_80_cat_cv.best_params_"
   ]
  },
  {
   "cell_type": "markdown",
   "metadata": {},
   "source": [
    "__Rank top 10 stocks with '+1' being predicted:__"
   ]
  },
  {
   "cell_type": "code",
   "execution_count": 154,
   "metadata": {},
   "outputs": [
    {
     "name": "stdout",
     "output_type": "stream",
     "text": [
      "Mean of actual returns if buying all stocks in the test set: 5.348833526315792\n",
      "Sum of actual returns if buying top 10 predicted stocks: 86.725947\n",
      "Mean of actual returns if buying top 10 predicted stocks: 8.672594700000001\n"
     ]
    }
   ],
   "source": [
    "df_test_drift_80day = pd.DataFrame(df_test['drift_80day'].values)\n",
    "\n",
    "# View the predicted probabilities for the Random Forest model \n",
    "results_rf1 = pd.DataFrame([y_test_80day_cat, y_pred_80day_RF_cv]).T\n",
    "results_rf2 = pd.DataFrame(RF_80_cat_cv.predict_proba(x_test_drift))\n",
    "results_rf = pd.concat([df_test_drift_80day, results_rf1, results_rf2], axis=1)\n",
    "\n",
    "results_rf.columns = ['actual return', 'correct label', 'predicted label',\\\n",
    "                                'proba_predicted_neg', 'proba_predicted_pos']\n",
    "\n",
    "max_prob = []\n",
    "for i, row in results_rf.iterrows():\n",
    "    max_prob.append(np.max([row.proba_predicted_neg, row.proba_predicted_pos]))\n",
    "    \n",
    "results_rf = results_rf.assign(max_prob=max_prob) \n",
    "\n",
    "# Extract rows with predicted label == 1:\n",
    "results_rf_pos = results_rf[results_rf['predicted label'] == 1]\n",
    "\n",
    "# Sort according to max_prob\n",
    "res_rf_sorted = results_rf_pos.sort_values(by='max_prob', ascending=0)\n",
    "top_predictions = res_rf_sorted.iloc[0:10,:]\n",
    "\n",
    "sum_return_rf = top_predictions['actual return'].sum()\n",
    "mean_return_rf = top_predictions['actual return'].mean()\n",
    "sum_all_return = res_rf_sorted['actual return'].mean()\n",
    "\n",
    "print('Mean of actual returns if buying all stocks in the test set: ' +str(sum_all_return))\n",
    "print('Sum of actual returns if buying top 10 predicted stocks: '+str(sum_return_rf))\n",
    "print('Mean of actual returns if buying top 10 predicted stocks: '+str(mean_return_rf))                       "
   ]
  },
  {
   "cell_type": "code",
   "execution_count": 137,
   "metadata": {},
   "outputs": [
    {
     "data": {
      "text/html": [
       "<div>\n",
       "<style scoped>\n",
       "    .dataframe tbody tr th:only-of-type {\n",
       "        vertical-align: middle;\n",
       "    }\n",
       "\n",
       "    .dataframe tbody tr th {\n",
       "        vertical-align: top;\n",
       "    }\n",
       "\n",
       "    .dataframe thead th {\n",
       "        text-align: right;\n",
       "    }\n",
       "</style>\n",
       "<table border=\"1\" class=\"dataframe\">\n",
       "  <thead>\n",
       "    <tr style=\"text-align: right;\">\n",
       "      <th></th>\n",
       "      <th>actual return</th>\n",
       "      <th>correct label</th>\n",
       "      <th>predicted label</th>\n",
       "      <th>proba_predicted_neg</th>\n",
       "      <th>proba_predicted_pos</th>\n",
       "      <th>max_prob</th>\n",
       "    </tr>\n",
       "  </thead>\n",
       "  <tbody>\n",
       "    <tr>\n",
       "      <th>0</th>\n",
       "      <td>-9.012043</td>\n",
       "      <td>-1</td>\n",
       "      <td>1</td>\n",
       "      <td>0.190110</td>\n",
       "      <td>0.809890</td>\n",
       "      <td>0.809890</td>\n",
       "    </tr>\n",
       "    <tr>\n",
       "      <th>66</th>\n",
       "      <td>24.516541</td>\n",
       "      <td>1</td>\n",
       "      <td>1</td>\n",
       "      <td>0.219398</td>\n",
       "      <td>0.780602</td>\n",
       "      <td>0.780602</td>\n",
       "    </tr>\n",
       "    <tr>\n",
       "      <th>27</th>\n",
       "      <td>12.010138</td>\n",
       "      <td>1</td>\n",
       "      <td>1</td>\n",
       "      <td>0.242932</td>\n",
       "      <td>0.757068</td>\n",
       "      <td>0.757068</td>\n",
       "    </tr>\n",
       "    <tr>\n",
       "      <th>127</th>\n",
       "      <td>11.858581</td>\n",
       "      <td>1</td>\n",
       "      <td>1</td>\n",
       "      <td>0.247888</td>\n",
       "      <td>0.752112</td>\n",
       "      <td>0.752112</td>\n",
       "    </tr>\n",
       "    <tr>\n",
       "      <th>68</th>\n",
       "      <td>-15.830789</td>\n",
       "      <td>-1</td>\n",
       "      <td>1</td>\n",
       "      <td>0.251978</td>\n",
       "      <td>0.748022</td>\n",
       "      <td>0.748022</td>\n",
       "    </tr>\n",
       "    <tr>\n",
       "      <th>96</th>\n",
       "      <td>49.365910</td>\n",
       "      <td>1</td>\n",
       "      <td>1</td>\n",
       "      <td>0.252608</td>\n",
       "      <td>0.747392</td>\n",
       "      <td>0.747392</td>\n",
       "    </tr>\n",
       "    <tr>\n",
       "      <th>120</th>\n",
       "      <td>13.580670</td>\n",
       "      <td>1</td>\n",
       "      <td>1</td>\n",
       "      <td>0.253423</td>\n",
       "      <td>0.746577</td>\n",
       "      <td>0.746577</td>\n",
       "    </tr>\n",
       "    <tr>\n",
       "      <th>16</th>\n",
       "      <td>1.961369</td>\n",
       "      <td>1</td>\n",
       "      <td>1</td>\n",
       "      <td>0.253962</td>\n",
       "      <td>0.746038</td>\n",
       "      <td>0.746038</td>\n",
       "    </tr>\n",
       "    <tr>\n",
       "      <th>59</th>\n",
       "      <td>32.395644</td>\n",
       "      <td>1</td>\n",
       "      <td>1</td>\n",
       "      <td>0.257302</td>\n",
       "      <td>0.742698</td>\n",
       "      <td>0.742698</td>\n",
       "    </tr>\n",
       "    <tr>\n",
       "      <th>54</th>\n",
       "      <td>10.217996</td>\n",
       "      <td>1</td>\n",
       "      <td>1</td>\n",
       "      <td>0.266713</td>\n",
       "      <td>0.733287</td>\n",
       "      <td>0.733287</td>\n",
       "    </tr>\n",
       "    <tr>\n",
       "      <th>87</th>\n",
       "      <td>-2.747756</td>\n",
       "      <td>-1</td>\n",
       "      <td>1</td>\n",
       "      <td>0.274629</td>\n",
       "      <td>0.725371</td>\n",
       "      <td>0.725371</td>\n",
       "    </tr>\n",
       "    <tr>\n",
       "      <th>79</th>\n",
       "      <td>-22.320714</td>\n",
       "      <td>-1</td>\n",
       "      <td>1</td>\n",
       "      <td>0.275674</td>\n",
       "      <td>0.724326</td>\n",
       "      <td>0.724326</td>\n",
       "    </tr>\n",
       "    <tr>\n",
       "      <th>124</th>\n",
       "      <td>16.591486</td>\n",
       "      <td>1</td>\n",
       "      <td>1</td>\n",
       "      <td>0.280610</td>\n",
       "      <td>0.719390</td>\n",
       "      <td>0.719390</td>\n",
       "    </tr>\n",
       "    <tr>\n",
       "      <th>9</th>\n",
       "      <td>-4.139875</td>\n",
       "      <td>-1</td>\n",
       "      <td>1</td>\n",
       "      <td>0.282450</td>\n",
       "      <td>0.717550</td>\n",
       "      <td>0.717550</td>\n",
       "    </tr>\n",
       "    <tr>\n",
       "      <th>29</th>\n",
       "      <td>13.006122</td>\n",
       "      <td>1</td>\n",
       "      <td>1</td>\n",
       "      <td>0.283101</td>\n",
       "      <td>0.716899</td>\n",
       "      <td>0.716899</td>\n",
       "    </tr>\n",
       "    <tr>\n",
       "      <th>23</th>\n",
       "      <td>-0.569614</td>\n",
       "      <td>-1</td>\n",
       "      <td>1</td>\n",
       "      <td>0.283231</td>\n",
       "      <td>0.716769</td>\n",
       "      <td>0.716769</td>\n",
       "    </tr>\n",
       "    <tr>\n",
       "      <th>71</th>\n",
       "      <td>3.075615</td>\n",
       "      <td>1</td>\n",
       "      <td>1</td>\n",
       "      <td>0.286312</td>\n",
       "      <td>0.713688</td>\n",
       "      <td>0.713688</td>\n",
       "    </tr>\n",
       "    <tr>\n",
       "      <th>50</th>\n",
       "      <td>25.062062</td>\n",
       "      <td>1</td>\n",
       "      <td>1</td>\n",
       "      <td>0.286354</td>\n",
       "      <td>0.713646</td>\n",
       "      <td>0.713646</td>\n",
       "    </tr>\n",
       "    <tr>\n",
       "      <th>112</th>\n",
       "      <td>-12.237798</td>\n",
       "      <td>-1</td>\n",
       "      <td>1</td>\n",
       "      <td>0.288574</td>\n",
       "      <td>0.711426</td>\n",
       "      <td>0.711426</td>\n",
       "    </tr>\n",
       "    <tr>\n",
       "      <th>78</th>\n",
       "      <td>-8.636364</td>\n",
       "      <td>-1</td>\n",
       "      <td>1</td>\n",
       "      <td>0.291938</td>\n",
       "      <td>0.708062</td>\n",
       "      <td>0.708062</td>\n",
       "    </tr>\n",
       "  </tbody>\n",
       "</table>\n",
       "</div>"
      ],
      "text/plain": [
       "     actual return  correct label  predicted label  proba_predicted_neg  \\\n",
       "0        -9.012043             -1                1             0.190110   \n",
       "66       24.516541              1                1             0.219398   \n",
       "27       12.010138              1                1             0.242932   \n",
       "127      11.858581              1                1             0.247888   \n",
       "68      -15.830789             -1                1             0.251978   \n",
       "96       49.365910              1                1             0.252608   \n",
       "120      13.580670              1                1             0.253423   \n",
       "16        1.961369              1                1             0.253962   \n",
       "59       32.395644              1                1             0.257302   \n",
       "54       10.217996              1                1             0.266713   \n",
       "87       -2.747756             -1                1             0.274629   \n",
       "79      -22.320714             -1                1             0.275674   \n",
       "124      16.591486              1                1             0.280610   \n",
       "9        -4.139875             -1                1             0.282450   \n",
       "29       13.006122              1                1             0.283101   \n",
       "23       -0.569614             -1                1             0.283231   \n",
       "71        3.075615              1                1             0.286312   \n",
       "50       25.062062              1                1             0.286354   \n",
       "112     -12.237798             -1                1             0.288574   \n",
       "78       -8.636364             -1                1             0.291938   \n",
       "\n",
       "     proba_predicted_pos  max_prob  \n",
       "0               0.809890  0.809890  \n",
       "66              0.780602  0.780602  \n",
       "27              0.757068  0.757068  \n",
       "127             0.752112  0.752112  \n",
       "68              0.748022  0.748022  \n",
       "96              0.747392  0.747392  \n",
       "120             0.746577  0.746577  \n",
       "16              0.746038  0.746038  \n",
       "59              0.742698  0.742698  \n",
       "54              0.733287  0.733287  \n",
       "87              0.725371  0.725371  \n",
       "79              0.724326  0.724326  \n",
       "124             0.719390  0.719390  \n",
       "9               0.717550  0.717550  \n",
       "29              0.716899  0.716899  \n",
       "23              0.716769  0.716769  \n",
       "71              0.713688  0.713688  \n",
       "50              0.713646  0.713646  \n",
       "112             0.711426  0.711426  \n",
       "78              0.708062  0.708062  "
      ]
     },
     "execution_count": 137,
     "metadata": {},
     "output_type": "execute_result"
    }
   ],
   "source": [
    "res_rf_sorted.head(20)"
   ]
  },
  {
   "cell_type": "markdown",
   "metadata": {},
   "source": [
    "__AdaBoost__"
   ]
  },
  {
   "cell_type": "code",
   "execution_count": 173,
   "metadata": {},
   "outputs": [],
   "source": [
    "# Create Adaboost-decision tree classifer object\n",
    "Ada_clf = AdaBoostClassifier()\n",
    "\n",
    "# Define the parameter grid to be searched from\n",
    "para_ada = {\n",
    " 'n_estimators': [50, 100, 200, 500, 1000, 2000],\n",
    " 'learning_rate' : [0.01, 0.05, 0.1, 0.3, 1]}\n",
    "\n",
    "\n",
    "\n",
    "# AdaBoostClassifier does not have class_weight parameter, as it is an ensemble method, which already takes into \n",
    "# the effect of imbalanced classes. \n",
    "# Hyperparameter tuning using RandomizedSearchCV\n",
    "Ada_cv = RandomizedSearchCV(Ada_clf, para_ada, cv = 4, scoring = 'neg_log_loss', n_iter = 20, random_state = 10)\n",
    "#Ada_cv = RandomizedSearchCV(Ada_clf, para_ada, cv = 4, n_iter = 20, random_state = 12)\n",
    "# Without using scoring = 'neg_log_loss', the returns calculated for the top 10 stocks predicted below is only \n",
    "# 5.9% rather than 11.4%."
   ]
  },
  {
   "cell_type": "code",
   "execution_count": 174,
   "metadata": {},
   "outputs": [],
   "source": [
    "Ada_cv.fit(x_train_drift, y_train_80day_cat);\n",
    "\n",
    "# View the best parameters found\n",
    "#print(Ada_cv.best_params_)\n",
    "\n",
    "# Use the optimised parameters to predict\n",
    "y_pred_80day_cat_Ada = Ada_cv.predict(x_test_drift)"
   ]
  },
  {
   "cell_type": "code",
   "execution_count": 175,
   "metadata": {},
   "outputs": [
    {
     "name": "stdout",
     "output_type": "stream",
     "text": [
      "[[ 0 41]\n",
      " [ 1 88]]\n",
      "              precision    recall  f1-score   support\n",
      "\n",
      "          -1       0.00      0.00      0.00        41\n",
      "           1       0.68      0.99      0.81        89\n",
      "\n",
      "   micro avg       0.68      0.68      0.68       130\n",
      "   macro avg       0.34      0.49      0.40       130\n",
      "weighted avg       0.47      0.68      0.55       130\n",
      "\n"
     ]
    }
   ],
   "source": [
    "print(confusion_matrix(y_test_80day_cat, y_pred_80day_cat_Ada))\n",
    "print(classification_report(y_test_80day_cat, y_pred_80day_cat_Ada))"
   ]
  },
  {
   "cell_type": "code",
   "execution_count": 195,
   "metadata": {},
   "outputs": [
    {
     "name": "stdout",
     "output_type": "stream",
     "text": [
      "Mean of actual returns if buying all stocks in the test set: 6.019855615384617\n",
      "Sum of actual returns if buying top 10 predicted stocks: 214.074635\n",
      "Mean of actual returns if buying top 10 predicted stocks: 7.135821166666667\n"
     ]
    }
   ],
   "source": [
    "df_test_drift_80day = pd.DataFrame(df_test['drift_80day'].values)\n",
    "\n",
    "# View the predicted probabilities for the Random Forest model \n",
    "results_ada1 = pd.DataFrame([y_test_80day_cat, y_pred_80day_cat_Ada]).T\n",
    "results_ada2 = pd.DataFrame(Ada_cv.predict_proba(x_test_drift))\n",
    "results_ada = pd.concat([df_test_drift_80day, results_ada1, results_ada2], axis=1)\n",
    "\n",
    "results_ada.columns = ['actual return', 'correct label', 'predicted label',\\\n",
    "                                'proba_predicted_neg', 'proba_predicted_pos']\n",
    "\n",
    "max_prob = []\n",
    "for i, row in results_ada.iterrows():\n",
    "    max_prob.append(np.max([row.proba_predicted_neg, row.proba_predicted_pos]))\n",
    "    \n",
    "results_ada = results_ada.assign(max_prob=max_prob) \n",
    "\n",
    "# Extract rows with predicted label == 1:\n",
    "results_ada_pos = results_ada[results_ada['predicted label'] == 1]\n",
    "\n",
    "# Sort according to max_prob\n",
    "res_ada_sorted = results_ada_pos.sort_values(by='max_prob', ascending=0)\n",
    "top_predictions = res_ada_sorted.iloc[0:30,:]\n",
    "\n",
    "sum_return_ada = top_predictions['actual return'].sum()\n",
    "mean_return_ada = top_predictions['actual return'].mean()\n",
    "mean_all_return = results_ada['actual return'].mean()\n",
    "#mean_all_return = df_test_drift_80day.mean()\n",
    "\n",
    "print('Mean of actual returns if buying all stocks in the test set: ' +str(mean_all_return))\n",
    "print('Sum of actual returns if buying top 10 predicted stocks: '+str(sum_return_ada))\n",
    "print('Mean of actual returns if buying top 10 predicted stocks: '+str(mean_return_ada))                       "
   ]
  },
  {
   "cell_type": "code",
   "execution_count": 196,
   "metadata": {},
   "outputs": [
    {
     "data": {
      "text/html": [
       "<div>\n",
       "<style scoped>\n",
       "    .dataframe tbody tr th:only-of-type {\n",
       "        vertical-align: middle;\n",
       "    }\n",
       "\n",
       "    .dataframe tbody tr th {\n",
       "        vertical-align: top;\n",
       "    }\n",
       "\n",
       "    .dataframe thead th {\n",
       "        text-align: right;\n",
       "    }\n",
       "</style>\n",
       "<table border=\"1\" class=\"dataframe\">\n",
       "  <thead>\n",
       "    <tr style=\"text-align: right;\">\n",
       "      <th></th>\n",
       "      <th>actual return</th>\n",
       "      <th>correct label</th>\n",
       "      <th>predicted label</th>\n",
       "      <th>proba_predicted_neg</th>\n",
       "      <th>proba_predicted_pos</th>\n",
       "      <th>max_prob</th>\n",
       "    </tr>\n",
       "  </thead>\n",
       "  <tbody>\n",
       "    <tr>\n",
       "      <th>50</th>\n",
       "      <td>25.062062</td>\n",
       "      <td>1</td>\n",
       "      <td>1</td>\n",
       "      <td>0.343687</td>\n",
       "      <td>0.656313</td>\n",
       "      <td>0.656313</td>\n",
       "    </tr>\n",
       "    <tr>\n",
       "      <th>108</th>\n",
       "      <td>16.858161</td>\n",
       "      <td>1</td>\n",
       "      <td>1</td>\n",
       "      <td>0.349738</td>\n",
       "      <td>0.650262</td>\n",
       "      <td>0.650262</td>\n",
       "    </tr>\n",
       "    <tr>\n",
       "      <th>9</th>\n",
       "      <td>-4.139875</td>\n",
       "      <td>-1</td>\n",
       "      <td>1</td>\n",
       "      <td>0.349738</td>\n",
       "      <td>0.650262</td>\n",
       "      <td>0.650262</td>\n",
       "    </tr>\n",
       "    <tr>\n",
       "      <th>68</th>\n",
       "      <td>-15.830789</td>\n",
       "      <td>-1</td>\n",
       "      <td>1</td>\n",
       "      <td>0.349738</td>\n",
       "      <td>0.650262</td>\n",
       "      <td>0.650262</td>\n",
       "    </tr>\n",
       "    <tr>\n",
       "      <th>120</th>\n",
       "      <td>13.580670</td>\n",
       "      <td>1</td>\n",
       "      <td>1</td>\n",
       "      <td>0.370626</td>\n",
       "      <td>0.629374</td>\n",
       "      <td>0.629374</td>\n",
       "    </tr>\n",
       "    <tr>\n",
       "      <th>127</th>\n",
       "      <td>11.858581</td>\n",
       "      <td>1</td>\n",
       "      <td>1</td>\n",
       "      <td>0.370626</td>\n",
       "      <td>0.629374</td>\n",
       "      <td>0.629374</td>\n",
       "    </tr>\n",
       "    <tr>\n",
       "      <th>124</th>\n",
       "      <td>16.591486</td>\n",
       "      <td>1</td>\n",
       "      <td>1</td>\n",
       "      <td>0.370626</td>\n",
       "      <td>0.629374</td>\n",
       "      <td>0.629374</td>\n",
       "    </tr>\n",
       "    <tr>\n",
       "      <th>99</th>\n",
       "      <td>-2.759436</td>\n",
       "      <td>-1</td>\n",
       "      <td>1</td>\n",
       "      <td>0.370626</td>\n",
       "      <td>0.629374</td>\n",
       "      <td>0.629374</td>\n",
       "    </tr>\n",
       "    <tr>\n",
       "      <th>101</th>\n",
       "      <td>3.723136</td>\n",
       "      <td>1</td>\n",
       "      <td>1</td>\n",
       "      <td>0.373509</td>\n",
       "      <td>0.626491</td>\n",
       "      <td>0.626491</td>\n",
       "    </tr>\n",
       "    <tr>\n",
       "      <th>96</th>\n",
       "      <td>49.365910</td>\n",
       "      <td>1</td>\n",
       "      <td>1</td>\n",
       "      <td>0.373858</td>\n",
       "      <td>0.626142</td>\n",
       "      <td>0.626142</td>\n",
       "    </tr>\n",
       "    <tr>\n",
       "      <th>36</th>\n",
       "      <td>5.804563</td>\n",
       "      <td>1</td>\n",
       "      <td>1</td>\n",
       "      <td>0.373858</td>\n",
       "      <td>0.626142</td>\n",
       "      <td>0.626142</td>\n",
       "    </tr>\n",
       "    <tr>\n",
       "      <th>17</th>\n",
       "      <td>24.013636</td>\n",
       "      <td>1</td>\n",
       "      <td>1</td>\n",
       "      <td>0.373858</td>\n",
       "      <td>0.626142</td>\n",
       "      <td>0.626142</td>\n",
       "    </tr>\n",
       "    <tr>\n",
       "      <th>16</th>\n",
       "      <td>1.961369</td>\n",
       "      <td>1</td>\n",
       "      <td>1</td>\n",
       "      <td>0.373858</td>\n",
       "      <td>0.626142</td>\n",
       "      <td>0.626142</td>\n",
       "    </tr>\n",
       "    <tr>\n",
       "      <th>95</th>\n",
       "      <td>15.751086</td>\n",
       "      <td>1</td>\n",
       "      <td>1</td>\n",
       "      <td>0.373858</td>\n",
       "      <td>0.626142</td>\n",
       "      <td>0.626142</td>\n",
       "    </tr>\n",
       "    <tr>\n",
       "      <th>128</th>\n",
       "      <td>4.697953</td>\n",
       "      <td>1</td>\n",
       "      <td>1</td>\n",
       "      <td>0.373858</td>\n",
       "      <td>0.626142</td>\n",
       "      <td>0.626142</td>\n",
       "    </tr>\n",
       "    <tr>\n",
       "      <th>18</th>\n",
       "      <td>14.461794</td>\n",
       "      <td>1</td>\n",
       "      <td>1</td>\n",
       "      <td>0.376752</td>\n",
       "      <td>0.623248</td>\n",
       "      <td>0.623248</td>\n",
       "    </tr>\n",
       "    <tr>\n",
       "      <th>8</th>\n",
       "      <td>15.159443</td>\n",
       "      <td>1</td>\n",
       "      <td>1</td>\n",
       "      <td>0.376752</td>\n",
       "      <td>0.623248</td>\n",
       "      <td>0.623248</td>\n",
       "    </tr>\n",
       "    <tr>\n",
       "      <th>71</th>\n",
       "      <td>3.075615</td>\n",
       "      <td>1</td>\n",
       "      <td>1</td>\n",
       "      <td>0.376879</td>\n",
       "      <td>0.623121</td>\n",
       "      <td>0.623121</td>\n",
       "    </tr>\n",
       "    <tr>\n",
       "      <th>85</th>\n",
       "      <td>-5.288783</td>\n",
       "      <td>-1</td>\n",
       "      <td>1</td>\n",
       "      <td>0.377311</td>\n",
       "      <td>0.622689</td>\n",
       "      <td>0.622689</td>\n",
       "    </tr>\n",
       "    <tr>\n",
       "      <th>56</th>\n",
       "      <td>2.995427</td>\n",
       "      <td>1</td>\n",
       "      <td>1</td>\n",
       "      <td>0.379531</td>\n",
       "      <td>0.620469</td>\n",
       "      <td>0.620469</td>\n",
       "    </tr>\n",
       "    <tr>\n",
       "      <th>35</th>\n",
       "      <td>6.409225</td>\n",
       "      <td>1</td>\n",
       "      <td>1</td>\n",
       "      <td>0.379531</td>\n",
       "      <td>0.620469</td>\n",
       "      <td>0.620469</td>\n",
       "    </tr>\n",
       "    <tr>\n",
       "      <th>34</th>\n",
       "      <td>2.854683</td>\n",
       "      <td>1</td>\n",
       "      <td>1</td>\n",
       "      <td>0.379531</td>\n",
       "      <td>0.620469</td>\n",
       "      <td>0.620469</td>\n",
       "    </tr>\n",
       "    <tr>\n",
       "      <th>105</th>\n",
       "      <td>-2.740434</td>\n",
       "      <td>-1</td>\n",
       "      <td>1</td>\n",
       "      <td>0.379781</td>\n",
       "      <td>0.620219</td>\n",
       "      <td>0.620219</td>\n",
       "    </tr>\n",
       "    <tr>\n",
       "      <th>118</th>\n",
       "      <td>14.156885</td>\n",
       "      <td>1</td>\n",
       "      <td>1</td>\n",
       "      <td>0.379781</td>\n",
       "      <td>0.620219</td>\n",
       "      <td>0.620219</td>\n",
       "    </tr>\n",
       "    <tr>\n",
       "      <th>32</th>\n",
       "      <td>19.186436</td>\n",
       "      <td>1</td>\n",
       "      <td>1</td>\n",
       "      <td>0.380133</td>\n",
       "      <td>0.619867</td>\n",
       "      <td>0.619867</td>\n",
       "    </tr>\n",
       "    <tr>\n",
       "      <th>62</th>\n",
       "      <td>13.686550</td>\n",
       "      <td>1</td>\n",
       "      <td>1</td>\n",
       "      <td>0.380133</td>\n",
       "      <td>0.619867</td>\n",
       "      <td>0.619867</td>\n",
       "    </tr>\n",
       "    <tr>\n",
       "      <th>91</th>\n",
       "      <td>3.548402</td>\n",
       "      <td>1</td>\n",
       "      <td>1</td>\n",
       "      <td>0.380133</td>\n",
       "      <td>0.619867</td>\n",
       "      <td>0.619867</td>\n",
       "    </tr>\n",
       "    <tr>\n",
       "      <th>78</th>\n",
       "      <td>-8.636364</td>\n",
       "      <td>-1</td>\n",
       "      <td>1</td>\n",
       "      <td>0.380133</td>\n",
       "      <td>0.619867</td>\n",
       "      <td>0.619867</td>\n",
       "    </tr>\n",
       "    <tr>\n",
       "      <th>79</th>\n",
       "      <td>-22.320714</td>\n",
       "      <td>-1</td>\n",
       "      <td>1</td>\n",
       "      <td>0.380133</td>\n",
       "      <td>0.619867</td>\n",
       "      <td>0.619867</td>\n",
       "    </tr>\n",
       "    <tr>\n",
       "      <th>0</th>\n",
       "      <td>-9.012043</td>\n",
       "      <td>-1</td>\n",
       "      <td>1</td>\n",
       "      <td>0.380133</td>\n",
       "      <td>0.619867</td>\n",
       "      <td>0.619867</td>\n",
       "    </tr>\n",
       "  </tbody>\n",
       "</table>\n",
       "</div>"
      ],
      "text/plain": [
       "     actual return  correct label  predicted label  proba_predicted_neg  \\\n",
       "50       25.062062              1                1             0.343687   \n",
       "108      16.858161              1                1             0.349738   \n",
       "9        -4.139875             -1                1             0.349738   \n",
       "68      -15.830789             -1                1             0.349738   \n",
       "120      13.580670              1                1             0.370626   \n",
       "127      11.858581              1                1             0.370626   \n",
       "124      16.591486              1                1             0.370626   \n",
       "99       -2.759436             -1                1             0.370626   \n",
       "101       3.723136              1                1             0.373509   \n",
       "96       49.365910              1                1             0.373858   \n",
       "36        5.804563              1                1             0.373858   \n",
       "17       24.013636              1                1             0.373858   \n",
       "16        1.961369              1                1             0.373858   \n",
       "95       15.751086              1                1             0.373858   \n",
       "128       4.697953              1                1             0.373858   \n",
       "18       14.461794              1                1             0.376752   \n",
       "8        15.159443              1                1             0.376752   \n",
       "71        3.075615              1                1             0.376879   \n",
       "85       -5.288783             -1                1             0.377311   \n",
       "56        2.995427              1                1             0.379531   \n",
       "35        6.409225              1                1             0.379531   \n",
       "34        2.854683              1                1             0.379531   \n",
       "105      -2.740434             -1                1             0.379781   \n",
       "118      14.156885              1                1             0.379781   \n",
       "32       19.186436              1                1             0.380133   \n",
       "62       13.686550              1                1             0.380133   \n",
       "91        3.548402              1                1             0.380133   \n",
       "78       -8.636364             -1                1             0.380133   \n",
       "79      -22.320714             -1                1             0.380133   \n",
       "0        -9.012043             -1                1             0.380133   \n",
       "\n",
       "     proba_predicted_pos  max_prob  \n",
       "50              0.656313  0.656313  \n",
       "108             0.650262  0.650262  \n",
       "9               0.650262  0.650262  \n",
       "68              0.650262  0.650262  \n",
       "120             0.629374  0.629374  \n",
       "127             0.629374  0.629374  \n",
       "124             0.629374  0.629374  \n",
       "99              0.629374  0.629374  \n",
       "101             0.626491  0.626491  \n",
       "96              0.626142  0.626142  \n",
       "36              0.626142  0.626142  \n",
       "17              0.626142  0.626142  \n",
       "16              0.626142  0.626142  \n",
       "95              0.626142  0.626142  \n",
       "128             0.626142  0.626142  \n",
       "18              0.623248  0.623248  \n",
       "8               0.623248  0.623248  \n",
       "71              0.623121  0.623121  \n",
       "85              0.622689  0.622689  \n",
       "56              0.620469  0.620469  \n",
       "35              0.620469  0.620469  \n",
       "34              0.620469  0.620469  \n",
       "105             0.620219  0.620219  \n",
       "118             0.620219  0.620219  \n",
       "32              0.619867  0.619867  \n",
       "62              0.619867  0.619867  \n",
       "91              0.619867  0.619867  \n",
       "78              0.619867  0.619867  \n",
       "79              0.619867  0.619867  \n",
       "0               0.619867  0.619867  "
      ]
     },
     "execution_count": 196,
     "metadata": {},
     "output_type": "execute_result"
    }
   ],
   "source": [
    "res_ada_sorted.head(30)"
   ]
  },
  {
   "cell_type": "markdown",
   "metadata": {},
   "source": [
    "__SVM__"
   ]
  },
  {
   "cell_type": "code",
   "execution_count": 143,
   "metadata": {},
   "outputs": [],
   "source": [
    "# Create SVM classifer object\n",
    "SVM_clf = SVC(probability=True)\n",
    "\n",
    "# Define the parameter grid to be searched from\n",
    "para_SVM = {'C':[0.0001, 0.001, 0.01, 0.1, 1, 2, 5, 8],\n",
    "              'gamma':[0.5, 0.1, 0.01, 0.001, 0.0001],\n",
    "            'class_weight': [{-1:0.4, 1:0.6}, {-1:0.5, 1:0.5}, {-1:0.6, 1:0.4}, {-1:0.7, 1:0.4}, {-1:0.8, 1:0.4}]\n",
    "           }\n",
    "\n",
    "# Hyperparameter tuning using RandomizedSearchCV\n",
    "SVM_cv = RandomizedSearchCV(SVM_clf, para_SVM, cv = 4, n_iter = 20, random_state = 7)"
   ]
  },
  {
   "cell_type": "code",
   "execution_count": 183,
   "metadata": {},
   "outputs": [
    {
     "name": "stderr",
     "output_type": "stream",
     "text": [
      "/Users/Qian/anaconda3/lib/python3.6/site-packages/sklearn/svm/base.py:196: FutureWarning: The default value of gamma will change from 'auto' to 'scale' in version 0.22 to account better for unscaled features. Set gamma explicitly to 'auto' or 'scale' to avoid this warning.\n",
      "  \"avoid this warning.\", FutureWarning)\n"
     ]
    }
   ],
   "source": [
    "# Fit the model\n",
    "SVM_clf.fit(x_train_drift, y_train_80day_cat);\n",
    "\n",
    "# View the best parameters found\n",
    "#print(SVM_cv.best_params_)\n",
    "\n",
    "# Use the optimised parameters to predict\n",
    "y_pred_80day_SVM = SVM_clf.predict(x_test_drift)"
   ]
  },
  {
   "cell_type": "code",
   "execution_count": 184,
   "metadata": {},
   "outputs": [
    {
     "name": "stdout",
     "output_type": "stream",
     "text": [
      "[[ 4 37]\n",
      " [14 75]]\n",
      "              precision    recall  f1-score   support\n",
      "\n",
      "          -1       0.22      0.10      0.14        41\n",
      "           1       0.67      0.84      0.75        89\n",
      "\n",
      "   micro avg       0.61      0.61      0.61       130\n",
      "   macro avg       0.45      0.47      0.44       130\n",
      "weighted avg       0.53      0.61      0.55       130\n",
      "\n"
     ]
    }
   ],
   "source": [
    "print(confusion_matrix(y_test_80day_cat, y_pred_80day_SVM))\n",
    "print(classification_report(y_test_80day_cat, y_pred_80day_SVM))"
   ]
  },
  {
   "cell_type": "code",
   "execution_count": 185,
   "metadata": {},
   "outputs": [
    {
     "name": "stdout",
     "output_type": "stream",
     "text": [
      "Mean of actual returns if buying all stocks in the test set: 6.019855615384617\n",
      "Sum of actual returns if buying top 10 predicted stocks: 31.400075000000005\n",
      "Mean of actual returns if buying top 10 predicted stocks: 3.1400075\n"
     ]
    }
   ],
   "source": [
    "df_test_drift_80day = pd.DataFrame(df_test['drift_80day'].values)\n",
    "\n",
    "# View the predicted probabilities for the Random Forest model \n",
    "results_svm1 = pd.DataFrame([y_test_80day_cat, y_pred_80day_SVM]).T\n",
    "results_svm2 = pd.DataFrame(SVM_clf.predict_proba(x_test_drift))\n",
    "results_svm = pd.concat([df_test_drift_80day, results_svm1, results_svm2], axis=1)\n",
    "\n",
    "results_svm.columns = ['actual return', 'correct label', 'predicted label',\\\n",
    "                                'proba_predicted_neg', 'proba_predicted_pos']\n",
    "\n",
    "max_prob = []\n",
    "for i, row in results_svm.iterrows():\n",
    "    max_prob.append(np.max([row.proba_predicted_neg, row.proba_predicted_pos]))\n",
    "    \n",
    "results_svm = results_svm.assign(max_prob=max_prob) \n",
    "\n",
    "# Extract rows with predicted label == 1:\n",
    "results_svm_pos = results_svm[results_svm['predicted label'] == 1]\n",
    "\n",
    "# Sort according to max_prob\n",
    "res_svm_sorted = results_svm_pos.sort_values(by='max_prob', ascending=0)\n",
    "top_predictions = res_svm_sorted.iloc[0:10,:]\n",
    "\n",
    "sum_return_svm = top_predictions['actual return'].sum()\n",
    "mean_return_svm = top_predictions['actual return'].mean()\n",
    "mean_all_return = results_svm['actual return'].mean()\n",
    "\n",
    "print('Mean of actual returns if buying all stocks in the test set: ' +str(mean_all_return))\n",
    "print('Sum of actual returns if buying top 10 predicted stocks: '+str(sum_return_svm))\n",
    "print('Mean of actual returns if buying top 10 predicted stocks: '+str(mean_return_svm))                       "
   ]
  },
  {
   "cell_type": "code",
   "execution_count": 159,
   "metadata": {},
   "outputs": [
    {
     "data": {
      "text/html": [
       "<div>\n",
       "<style scoped>\n",
       "    .dataframe tbody tr th:only-of-type {\n",
       "        vertical-align: middle;\n",
       "    }\n",
       "\n",
       "    .dataframe tbody tr th {\n",
       "        vertical-align: top;\n",
       "    }\n",
       "\n",
       "    .dataframe thead th {\n",
       "        text-align: right;\n",
       "    }\n",
       "</style>\n",
       "<table border=\"1\" class=\"dataframe\">\n",
       "  <thead>\n",
       "    <tr style=\"text-align: right;\">\n",
       "      <th></th>\n",
       "      <th>actual return</th>\n",
       "      <th>correct label</th>\n",
       "      <th>predicted label</th>\n",
       "      <th>proba_predicted_neg</th>\n",
       "      <th>proba_predicted_pos</th>\n",
       "      <th>max_prob</th>\n",
       "    </tr>\n",
       "  </thead>\n",
       "  <tbody>\n",
       "    <tr>\n",
       "      <th>11</th>\n",
       "      <td>-3.658537</td>\n",
       "      <td>-1</td>\n",
       "      <td>1</td>\n",
       "      <td>0.155075</td>\n",
       "      <td>0.844925</td>\n",
       "      <td>0.844925</td>\n",
       "    </tr>\n",
       "    <tr>\n",
       "      <th>127</th>\n",
       "      <td>11.858581</td>\n",
       "      <td>1</td>\n",
       "      <td>1</td>\n",
       "      <td>0.196311</td>\n",
       "      <td>0.803689</td>\n",
       "      <td>0.803689</td>\n",
       "    </tr>\n",
       "    <tr>\n",
       "      <th>115</th>\n",
       "      <td>8.939310</td>\n",
       "      <td>1</td>\n",
       "      <td>1</td>\n",
       "      <td>0.212437</td>\n",
       "      <td>0.787563</td>\n",
       "      <td>0.787563</td>\n",
       "    </tr>\n",
       "    <tr>\n",
       "      <th>106</th>\n",
       "      <td>19.052541</td>\n",
       "      <td>1</td>\n",
       "      <td>1</td>\n",
       "      <td>0.227043</td>\n",
       "      <td>0.772957</td>\n",
       "      <td>0.772957</td>\n",
       "    </tr>\n",
       "    <tr>\n",
       "      <th>101</th>\n",
       "      <td>3.723136</td>\n",
       "      <td>1</td>\n",
       "      <td>1</td>\n",
       "      <td>0.231493</td>\n",
       "      <td>0.768507</td>\n",
       "      <td>0.768507</td>\n",
       "    </tr>\n",
       "    <tr>\n",
       "      <th>87</th>\n",
       "      <td>-2.747756</td>\n",
       "      <td>-1</td>\n",
       "      <td>1</td>\n",
       "      <td>0.234693</td>\n",
       "      <td>0.765307</td>\n",
       "      <td>0.765307</td>\n",
       "    </tr>\n",
       "    <tr>\n",
       "      <th>1</th>\n",
       "      <td>7.825945</td>\n",
       "      <td>1</td>\n",
       "      <td>1</td>\n",
       "      <td>0.236444</td>\n",
       "      <td>0.763556</td>\n",
       "      <td>0.763556</td>\n",
       "    </tr>\n",
       "    <tr>\n",
       "      <th>10</th>\n",
       "      <td>-2.058433</td>\n",
       "      <td>-1</td>\n",
       "      <td>1</td>\n",
       "      <td>0.249085</td>\n",
       "      <td>0.750915</td>\n",
       "      <td>0.750915</td>\n",
       "    </tr>\n",
       "    <tr>\n",
       "      <th>81</th>\n",
       "      <td>3.437052</td>\n",
       "      <td>1</td>\n",
       "      <td>1</td>\n",
       "      <td>0.251192</td>\n",
       "      <td>0.748808</td>\n",
       "      <td>0.748808</td>\n",
       "    </tr>\n",
       "    <tr>\n",
       "      <th>112</th>\n",
       "      <td>-12.237798</td>\n",
       "      <td>-1</td>\n",
       "      <td>1</td>\n",
       "      <td>0.252911</td>\n",
       "      <td>0.747089</td>\n",
       "      <td>0.747089</td>\n",
       "    </tr>\n",
       "  </tbody>\n",
       "</table>\n",
       "</div>"
      ],
      "text/plain": [
       "     actual return  correct label  predicted label  proba_predicted_neg  \\\n",
       "11       -3.658537             -1                1             0.155075   \n",
       "127      11.858581              1                1             0.196311   \n",
       "115       8.939310              1                1             0.212437   \n",
       "106      19.052541              1                1             0.227043   \n",
       "101       3.723136              1                1             0.231493   \n",
       "87       -2.747756             -1                1             0.234693   \n",
       "1         7.825945              1                1             0.236444   \n",
       "10       -2.058433             -1                1             0.249085   \n",
       "81        3.437052              1                1             0.251192   \n",
       "112     -12.237798             -1                1             0.252911   \n",
       "\n",
       "     proba_predicted_pos  max_prob  \n",
       "11              0.844925  0.844925  \n",
       "127             0.803689  0.803689  \n",
       "115             0.787563  0.787563  \n",
       "106             0.772957  0.772957  \n",
       "101             0.768507  0.768507  \n",
       "87              0.765307  0.765307  \n",
       "1               0.763556  0.763556  \n",
       "10              0.750915  0.750915  \n",
       "81              0.748808  0.748808  \n",
       "112             0.747089  0.747089  "
      ]
     },
     "execution_count": 159,
     "metadata": {},
     "output_type": "execute_result"
    }
   ],
   "source": [
    "res_svm_sorted.head(10)"
   ]
  },
  {
   "cell_type": "markdown",
   "metadata": {},
   "source": [
    "__XGBoost__"
   ]
  },
  {
   "cell_type": "code",
   "execution_count": 147,
   "metadata": {},
   "outputs": [],
   "source": [
    "# Instantiate the XGBClassifier: xg\n",
    "xg2 = xgb.XGBClassifier(objective='multi:softmax', num_class=2, n_estimators=10, seed=123)"
   ]
  },
  {
   "cell_type": "code",
   "execution_count": 148,
   "metadata": {},
   "outputs": [],
   "source": [
    "# Fit the model\n",
    "xg2.fit(x_train_drift, y_train_80day_cat);\n",
    "\n",
    "# Use the optimised parameters to predict\n",
    "y_pred_80day_xg = xg2.predict(x_test_drift)"
   ]
  },
  {
   "cell_type": "code",
   "execution_count": 149,
   "metadata": {},
   "outputs": [
    {
     "name": "stdout",
     "output_type": "stream",
     "text": [
      "[[ 5 36]\n",
      " [20 69]]\n",
      "              precision    recall  f1-score   support\n",
      "\n",
      "          -1       0.20      0.12      0.15        41\n",
      "           1       0.66      0.78      0.71        89\n",
      "\n",
      "   micro avg       0.57      0.57      0.57       130\n",
      "   macro avg       0.43      0.45      0.43       130\n",
      "weighted avg       0.51      0.57      0.53       130\n",
      "\n"
     ]
    }
   ],
   "source": [
    "print(confusion_matrix(y_test_80day_cat, y_pred_80day_xg))\n",
    "print(classification_report(y_test_80day_cat, y_pred_80day_xg))"
   ]
  },
  {
   "cell_type": "markdown",
   "metadata": {},
   "source": [
    "__Rank top 10 stocks:__"
   ]
  },
  {
   "cell_type": "code",
   "execution_count": 150,
   "metadata": {},
   "outputs": [
    {
     "name": "stdout",
     "output_type": "stream",
     "text": [
      "Mean of actual returns if buying all stocks in the test set: 6.019855615384617\n",
      "Sum of actual returns if buying top 10 predicted stocks: -4.546368\n",
      "Mean of actual returns if buying top 10 predicted stocks: -0.4546368\n"
     ]
    }
   ],
   "source": [
    "df_test_drift_80day = pd.DataFrame(df_test['drift_80day'].values)\n",
    "\n",
    "# View the predicted probabilities for the XGBoost model \n",
    "results_xg1 = pd.DataFrame([y_test_80day_cat, y_pred_80day_xg]).T\n",
    "results_xg2 = pd.DataFrame(xg2.predict_proba(x_test_drift))\n",
    "results_xg = pd.concat([df_test_drift_80day, results_xg1, results_xg2], axis=1)\n",
    "\n",
    "results_xg.columns = ['actual return', 'correct label', 'predicted label',\\\n",
    "                                'proba_predicted_0', 'proba_predicted_1']\n",
    "\n",
    "max_prob = []\n",
    "for i, row in results_xg.iterrows():\n",
    "    max_prob.append(np.max([row.proba_predicted_0, row.proba_predicted_1]))\n",
    "    \n",
    "results_xg = results_xg.assign(max_prob=max_prob) \n",
    "\n",
    "# Extract rows with predicted label == 1:\n",
    "results_xg_pos = results_xg[results_xg['predicted label'] == 1]\n",
    "\n",
    "# Sort according to max_prob\n",
    "res_xg_sorted = results_xg_pos.sort_values(by='max_prob', ascending=0)\n",
    "top_predictions = res_xg_sorted.iloc[0:10,:]\n",
    "\n",
    "sum_return_xg = top_predictions['actual return'].sum()\n",
    "mean_return_xg = top_predictions['actual return'].mean()\n",
    "mean_all_return = results_xg['actual return'].mean()\n",
    "\n",
    "print('Mean of actual returns if buying all stocks in the test set: ' +str(mean_all_return))\n",
    "print('Sum of actual returns if buying top 10 predicted stocks: '+str(sum_return_xg))\n",
    "print('Mean of actual returns if buying top 10 predicted stocks: '+str(mean_return_xg))                       "
   ]
  },
  {
   "cell_type": "code",
   "execution_count": 151,
   "metadata": {},
   "outputs": [
    {
     "data": {
      "text/html": [
       "<div>\n",
       "<style scoped>\n",
       "    .dataframe tbody tr th:only-of-type {\n",
       "        vertical-align: middle;\n",
       "    }\n",
       "\n",
       "    .dataframe tbody tr th {\n",
       "        vertical-align: top;\n",
       "    }\n",
       "\n",
       "    .dataframe thead th {\n",
       "        text-align: right;\n",
       "    }\n",
       "</style>\n",
       "<table border=\"1\" class=\"dataframe\">\n",
       "  <thead>\n",
       "    <tr style=\"text-align: right;\">\n",
       "      <th></th>\n",
       "      <th>actual return</th>\n",
       "      <th>correct label</th>\n",
       "      <th>predicted label</th>\n",
       "      <th>proba_predicted_0</th>\n",
       "      <th>proba_predicted_1</th>\n",
       "      <th>max_prob</th>\n",
       "    </tr>\n",
       "  </thead>\n",
       "  <tbody>\n",
       "    <tr>\n",
       "      <th>0</th>\n",
       "      <td>-9.012043</td>\n",
       "      <td>-1</td>\n",
       "      <td>1</td>\n",
       "      <td>0.0</td>\n",
       "      <td>1.0</td>\n",
       "      <td>1.0</td>\n",
       "    </tr>\n",
       "    <tr>\n",
       "      <th>61</th>\n",
       "      <td>0.149799</td>\n",
       "      <td>1</td>\n",
       "      <td>1</td>\n",
       "      <td>0.0</td>\n",
       "      <td>1.0</td>\n",
       "      <td>1.0</td>\n",
       "    </tr>\n",
       "    <tr>\n",
       "      <th>92</th>\n",
       "      <td>6.298685</td>\n",
       "      <td>1</td>\n",
       "      <td>1</td>\n",
       "      <td>0.0</td>\n",
       "      <td>1.0</td>\n",
       "      <td>1.0</td>\n",
       "    </tr>\n",
       "    <tr>\n",
       "      <th>91</th>\n",
       "      <td>3.548402</td>\n",
       "      <td>1</td>\n",
       "      <td>1</td>\n",
       "      <td>0.0</td>\n",
       "      <td>1.0</td>\n",
       "      <td>1.0</td>\n",
       "    </tr>\n",
       "    <tr>\n",
       "      <th>90</th>\n",
       "      <td>2.838428</td>\n",
       "      <td>1</td>\n",
       "      <td>1</td>\n",
       "      <td>0.0</td>\n",
       "      <td>1.0</td>\n",
       "      <td>1.0</td>\n",
       "    </tr>\n",
       "    <tr>\n",
       "      <th>89</th>\n",
       "      <td>6.715279</td>\n",
       "      <td>1</td>\n",
       "      <td>1</td>\n",
       "      <td>0.0</td>\n",
       "      <td>1.0</td>\n",
       "      <td>1.0</td>\n",
       "    </tr>\n",
       "    <tr>\n",
       "      <th>88</th>\n",
       "      <td>-0.296120</td>\n",
       "      <td>-1</td>\n",
       "      <td>1</td>\n",
       "      <td>0.0</td>\n",
       "      <td>1.0</td>\n",
       "      <td>1.0</td>\n",
       "    </tr>\n",
       "    <tr>\n",
       "      <th>87</th>\n",
       "      <td>-2.747756</td>\n",
       "      <td>-1</td>\n",
       "      <td>1</td>\n",
       "      <td>0.0</td>\n",
       "      <td>1.0</td>\n",
       "      <td>1.0</td>\n",
       "    </tr>\n",
       "    <tr>\n",
       "      <th>86</th>\n",
       "      <td>-6.752259</td>\n",
       "      <td>-1</td>\n",
       "      <td>1</td>\n",
       "      <td>0.0</td>\n",
       "      <td>1.0</td>\n",
       "      <td>1.0</td>\n",
       "    </tr>\n",
       "    <tr>\n",
       "      <th>85</th>\n",
       "      <td>-5.288783</td>\n",
       "      <td>-1</td>\n",
       "      <td>1</td>\n",
       "      <td>0.0</td>\n",
       "      <td>1.0</td>\n",
       "      <td>1.0</td>\n",
       "    </tr>\n",
       "  </tbody>\n",
       "</table>\n",
       "</div>"
      ],
      "text/plain": [
       "    actual return  correct label  predicted label  proba_predicted_0  \\\n",
       "0       -9.012043             -1                1                0.0   \n",
       "61       0.149799              1                1                0.0   \n",
       "92       6.298685              1                1                0.0   \n",
       "91       3.548402              1                1                0.0   \n",
       "90       2.838428              1                1                0.0   \n",
       "89       6.715279              1                1                0.0   \n",
       "88      -0.296120             -1                1                0.0   \n",
       "87      -2.747756             -1                1                0.0   \n",
       "86      -6.752259             -1                1                0.0   \n",
       "85      -5.288783             -1                1                0.0   \n",
       "\n",
       "    proba_predicted_1  max_prob  \n",
       "0                 1.0       1.0  \n",
       "61                1.0       1.0  \n",
       "92                1.0       1.0  \n",
       "91                1.0       1.0  \n",
       "90                1.0       1.0  \n",
       "89                1.0       1.0  \n",
       "88                1.0       1.0  \n",
       "87                1.0       1.0  \n",
       "86                1.0       1.0  \n",
       "85                1.0       1.0  "
      ]
     },
     "execution_count": 151,
     "metadata": {},
     "output_type": "execute_result"
    }
   ],
   "source": [
    "res_xg_sorted.head(10)"
   ]
  },
  {
   "cell_type": "markdown",
   "metadata": {},
   "source": [
    "N.B. Not sure why the XGBoost gave such high probabilities for the predicted classes, e.g., 0.99, in contrast to other models which only predicted 0.7 or so. "
   ]
  },
  {
   "cell_type": "code",
   "execution_count": 134,
   "metadata": {},
   "outputs": [
    {
     "name": "stdout",
     "output_type": "stream",
     "text": [
      "Logistic regression:\n",
      "[[15 26]\n",
      " [26 63]]\n",
      "              precision    recall  f1-score   support\n",
      "\n",
      "          -1       0.37      0.37      0.37        41\n",
      "           1       0.71      0.71      0.71        89\n",
      "\n",
      "   micro avg       0.60      0.60      0.60       130\n",
      "   macro avg       0.54      0.54      0.54       130\n",
      "weighted avg       0.60      0.60      0.60       130\n",
      "\n",
      "Random Forest:\n",
      "[[ 3 38]\n",
      " [10 79]]\n",
      "              precision    recall  f1-score   support\n",
      "\n",
      "          -1       0.23      0.07      0.11        41\n",
      "           1       0.68      0.89      0.77        89\n",
      "\n",
      "   micro avg       0.63      0.63      0.63       130\n",
      "   macro avg       0.45      0.48      0.44       130\n",
      "weighted avg       0.54      0.63      0.56       130\n",
      "\n",
      "AdaBoost:\n",
      "[[ 0 41]\n",
      " [ 1 88]]\n",
      "              precision    recall  f1-score   support\n",
      "\n",
      "          -1       0.00      0.00      0.00        41\n",
      "           1       0.68      0.99      0.81        89\n",
      "\n",
      "   micro avg       0.68      0.68      0.68       130\n",
      "   macro avg       0.34      0.49      0.40       130\n",
      "weighted avg       0.47      0.68      0.55       130\n",
      "\n",
      "SVM:\n",
      "[[ 0 41]\n",
      " [ 0 89]]\n",
      "              precision    recall  f1-score   support\n",
      "\n",
      "          -1       0.00      0.00      0.00        41\n",
      "           1       0.68      1.00      0.81        89\n",
      "\n",
      "   micro avg       0.68      0.68      0.68       130\n",
      "   macro avg       0.34      0.50      0.41       130\n",
      "weighted avg       0.47      0.68      0.56       130\n",
      "\n",
      "XGBoost:\n",
      "[[ 5 36]\n",
      " [20 69]]\n",
      "              precision    recall  f1-score   support\n",
      "\n",
      "          -1       0.20      0.12      0.15        41\n",
      "           1       0.66      0.78      0.71        89\n",
      "\n",
      "   micro avg       0.57      0.57      0.57       130\n",
      "   macro avg       0.43      0.45      0.43       130\n",
      "weighted avg       0.51      0.57      0.53       130\n",
      "\n"
     ]
    },
    {
     "name": "stderr",
     "output_type": "stream",
     "text": [
      "/Users/Qian/anaconda3/lib/python3.6/site-packages/sklearn/metrics/classification.py:1143: UndefinedMetricWarning: Precision and F-score are ill-defined and being set to 0.0 in labels with no predicted samples.\n",
      "  'precision', 'predicted', average, warn_for)\n",
      "/Users/Qian/anaconda3/lib/python3.6/site-packages/sklearn/metrics/classification.py:1143: UndefinedMetricWarning: Precision and F-score are ill-defined and being set to 0.0 in labels with no predicted samples.\n",
      "  'precision', 'predicted', average, warn_for)\n",
      "/Users/Qian/anaconda3/lib/python3.6/site-packages/sklearn/metrics/classification.py:1143: UndefinedMetricWarning: Precision and F-score are ill-defined and being set to 0.0 in labels with no predicted samples.\n",
      "  'precision', 'predicted', average, warn_for)\n"
     ]
    }
   ],
   "source": [
    "# Print optimised results from different estimators\n",
    "print('Logistic regression:')\n",
    "print(confusion_matrix(y_test_80day_cat, y_pred_80day_LR1))\n",
    "print(classification_report(y_test_80day_cat, y_pred_80day_LR1))\n",
    "\n",
    "print('Random Forest:')\n",
    "print(confusion_matrix(y_test_80day_cat, y_pred_80day_RF_cv))\n",
    "print(classification_report(y_test_80day_cat, y_pred_80day_RF_cv))\n",
    "\n",
    "print('AdaBoost:')\n",
    "print(confusion_matrix(y_test_80day_cat, y_pred_80day_cat_Ada))\n",
    "print(classification_report(y_test_80day_cat, y_pred_80day_cat_Ada))\n",
    "\n",
    "print('SVM:')\n",
    "print(confusion_matrix(y_test_80day_cat, y_pred_80day_SVM))\n",
    "print(classification_report(y_test_80day_cat, y_pred_80day_SVM))\n",
    "\n",
    "print('XGBoost:')\n",
    "print(confusion_matrix(y_test_80day_cat, y_pred_80day_xg))\n",
    "print(classification_report(y_test_80day_cat, y_pred_80day_xg))"
   ]
  },
  {
   "cell_type": "markdown",
   "metadata": {},
   "source": [
    "__Hyperparameters tuning for XGBoost__"
   ]
  },
  {
   "cell_type": "code",
   "execution_count": 186,
   "metadata": {},
   "outputs": [],
   "source": [
    "def modelfit(alg, x_train, y_train, x_test, y_test, useTrainCV=True, cv_folds=5, early_stopping_rounds=50):\n",
    "    \"\"\"Define a custom function to create XGBoost models and perform cross-validation\"\"\"\n",
    "    \n",
    "    if useTrainCV:\n",
    "        xgb_param = alg.get_xgb_params()\n",
    "        xgtrain = xgb.DMatrix(x_train, label=y_train)\n",
    "        \n",
    "        # Cross-validation with given parameters:\n",
    "        #cvresult = xgb.cv(xgb_param, xgtrain)       \n",
    "        cvresult = xgb.cv(xgb_param, xgtrain, num_boost_round=alg.get_params()['n_estimators'], nfold=cv_folds,\n",
    "            metrics='mlogloss', early_stopping_rounds=early_stopping_rounds)\n",
    "                                    \n",
    "        alg.set_params(n_estimators=cvresult.shape[0])\n",
    "    \n",
    "    # Fit the algorithm on the data\n",
    "    alg.fit(x_train, y_train, eval_metric='mlogloss')\n",
    "        \n",
    "    # Predict training set:\n",
    "    #dtrain_predictions = alg.predict(x)\n",
    "    #dtrain_predprob = alg.predict_proba(x)[:,1]\n",
    "    \n",
    "    # Predict test set:\n",
    "    y_pred = alg.predict(x_test)\n",
    "        \n",
    "    #Print model report:\n",
    "    #print(\\nModel Report\")\n",
    "    #print(Accuracy : %.4g\" % metrics.accuracy_score(dtrain['Disbursed'].values, dtrain_predictions))\n",
    "    #print \"AUC Score (Train): %f\" % metrics.roc_auc_score(dtrain['Disbursed'], dtrain_predprob)\n",
    "                    \n",
    "    #feat_imp = pd.Series(alg.booster().get_fscore()).sort_values(ascending=False)\n",
    "    #feat_imp.plot(kind='bar', title='Feature Importances')\n",
    "    #plt.ylabel('Feature Importance Score')\n",
    "    \n",
    "    return y_pred"
   ]
  },
  {
   "cell_type": "code",
   "execution_count": 187,
   "metadata": {},
   "outputs": [],
   "source": [
    "xgtrain = xgb.DMatrix(x_train, label=y_train_80day_cat01)"
   ]
  },
  {
   "cell_type": "code",
   "execution_count": 188,
   "metadata": {},
   "outputs": [],
   "source": [
    "# Step 1: Fix learning rate and number of estimators for tuning tree-based parameters\n",
    "xgb1 = xgb.XGBClassifier(learning_rate =0.1, n_estimators=1000, max_depth=5, min_child_weight=1,\\\n",
    "                         gamma=0, subsample=0.8, colsample_bytree=0.8, objective= 'multi:softprob',\\\n",
    "                         num_class=2, nthread=4, scale_pos_weight=1, seed=27, eval_metric = 'mlogloss')\n",
    "\n",
    "y_pred_80day_cat01_xg0 = modelfit(xgb1, x_train_drift, y_train_80day_cat01, x_test_drift, y_test_80day_cat01)"
   ]
  },
  {
   "cell_type": "code",
   "execution_count": 189,
   "metadata": {},
   "outputs": [
    {
     "name": "stdout",
     "output_type": "stream",
     "text": [
      "[[ 8 33]\n",
      " [15 74]]\n",
      "              precision    recall  f1-score   support\n",
      "\n",
      "           0       0.35      0.20      0.25        41\n",
      "           1       0.69      0.83      0.76        89\n",
      "\n",
      "   micro avg       0.63      0.63      0.63       130\n",
      "   macro avg       0.52      0.51      0.50       130\n",
      "weighted avg       0.58      0.63      0.60       130\n",
      "\n"
     ]
    }
   ],
   "source": [
    "print(confusion_matrix(y_test_80day_cat01, y_pred_80day_cat01_xg0))\n",
    "print(classification_report(y_test_80day_cat01, y_pred_80day_cat01_xg0))"
   ]
  },
  {
   "cell_type": "code",
   "execution_count": 190,
   "metadata": {},
   "outputs": [],
   "source": [
    "# Step 2: Tune max_depth and min_child_weight\n",
    "param_test1 = {\n",
    " 'max_depth':range(3,10,2),\n",
    " 'min_child_weight':range(1,6,2)\n",
    "}\n",
    "\n",
    "search1 = RandomizedSearchCV(xgb.XGBClassifier(learning_rate =0.1, n_estimators=1000, max_depth=5,\\\n",
    "                                               min_child_weight=1, gamma=0, subsample=0.8, colsample_bytree=0.8,\\\n",
    "                                               nthread=4, scale_pos_weight=1, seed=27,\\\n",
    "                                               ),\\\n",
    "                             param_distributions=param_test1, scoring='neg_log_loss', cv=4,\\\n",
    "                             random_state = random.seed(1234))                          "
   ]
  },
  {
   "cell_type": "code",
   "execution_count": 191,
   "metadata": {},
   "outputs": [
    {
     "name": "stderr",
     "output_type": "stream",
     "text": [
      "/Users/Qian/anaconda3/lib/python3.6/site-packages/sklearn/model_selection/_search.py:841: DeprecationWarning: The default of the `iid` parameter will change from True to False in version 0.22 and will be removed in 0.24. This will change numeric results when test-set sizes are unequal.\n",
      "  DeprecationWarning)\n"
     ]
    },
    {
     "data": {
      "text/plain": [
       "({'min_child_weight': 5, 'max_depth': 5}, -0.9551667853618662)"
      ]
     },
     "execution_count": 191,
     "metadata": {},
     "output_type": "execute_result"
    }
   ],
   "source": [
    "search1.fit(x_train_drift, y_train_80day_cat01)\n",
    "search1.best_params_, search1.best_score_"
   ]
  },
  {
   "cell_type": "markdown",
   "metadata": {},
   "source": [
    "N.B. A negative log-loss is obtained. The closer the (absolute) number gets to 1, the better the score. "
   ]
  },
  {
   "cell_type": "code",
   "execution_count": 179,
   "metadata": {},
   "outputs": [
    {
     "name": "stdout",
     "output_type": "stream",
     "text": [
      "[[ 7 34]\n",
      " [24 65]]\n",
      "              precision    recall  f1-score   support\n",
      "\n",
      "           0       0.23      0.17      0.19        41\n",
      "           1       0.66      0.73      0.69        89\n",
      "\n",
      "   micro avg       0.55      0.55      0.55       130\n",
      "   macro avg       0.44      0.45      0.44       130\n",
      "weighted avg       0.52      0.55      0.53       130\n",
      "\n"
     ]
    }
   ],
   "source": [
    "y_pred_search1 = search1.predict(x_test_drift)\n",
    "\n",
    "print(confusion_matrix(y_test_80day_cat01, y_pred_search1))\n",
    "print(classification_report(y_test_80day_cat01, y_pred_search1))"
   ]
  },
  {
   "cell_type": "markdown",
   "metadata": {},
   "source": [
    "__Rank top 10 stocks__"
   ]
  },
  {
   "cell_type": "code",
   "execution_count": 180,
   "metadata": {},
   "outputs": [
    {
     "name": "stdout",
     "output_type": "stream",
     "text": [
      "Mean of actual returns if buying all stocks in the test set: 5.422593141414142\n",
      "Sum of actual returns if buying top 10 predicted stocks: 37.692298\n",
      "Mean of actual returns if buying top 10 predicted stocks: 3.7692298\n"
     ]
    }
   ],
   "source": [
    "df_test_drift_80day = pd.DataFrame(df_test['drift_80day'].values)\n",
    "\n",
    "# View the predicted probabilities for the XGBoost model \n",
    "results_xg1 = pd.DataFrame([y_test_80day_cat01, y_pred_search1]).T\n",
    "results_xg2 = pd.DataFrame(search1.predict_proba(x_test_drift))\n",
    "results_xg = pd.concat([df_test_drift_80day, results_xg1, results_xg2], axis=1)\n",
    "\n",
    "results_xg.columns = ['actual return', 'correct label', 'predicted label',\\\n",
    "                                'proba_predicted_0', 'proba_predicted_1']\n",
    "\n",
    "max_prob = []\n",
    "for i, row in results_xg.iterrows():\n",
    "    max_prob.append(np.max([row.proba_predicted_0, row.proba_predicted_1]))\n",
    "    \n",
    "results_xg = results_xg.assign(max_prob=max_prob) \n",
    "\n",
    "# Extract rows with predicted label == 1:\n",
    "results_xg_pos = results_xg[results_xg['predicted label'] == 1]\n",
    "\n",
    "# Sort according to max_prob\n",
    "res_xg_sorted = results_xg_pos.sort_values(by='max_prob', ascending=0)\n",
    "top_predictions = res_xg_sorted.iloc[0:10,:]\n",
    "\n",
    "sum_return_xg = top_predictions['actual return'].sum()\n",
    "mean_return_xg = top_predictions['actual return'].mean()\n",
    "sum_all_return = res_xg_sorted['actual return'].mean()\n",
    "\n",
    "print('Mean of actual returns if buying all stocks in the test set: ' +str(sum_all_return))\n",
    "print('Sum of actual returns if buying top 10 predicted stocks: '+str(sum_return_xg))\n",
    "print('Mean of actual returns if buying top 10 predicted stocks: '+str(mean_return_xg))                       "
   ]
  },
  {
   "cell_type": "code",
   "execution_count": 181,
   "metadata": {},
   "outputs": [
    {
     "data": {
      "text/html": [
       "<div>\n",
       "<style scoped>\n",
       "    .dataframe tbody tr th:only-of-type {\n",
       "        vertical-align: middle;\n",
       "    }\n",
       "\n",
       "    .dataframe tbody tr th {\n",
       "        vertical-align: top;\n",
       "    }\n",
       "\n",
       "    .dataframe thead th {\n",
       "        text-align: right;\n",
       "    }\n",
       "</style>\n",
       "<table border=\"1\" class=\"dataframe\">\n",
       "  <thead>\n",
       "    <tr style=\"text-align: right;\">\n",
       "      <th></th>\n",
       "      <th>actual return</th>\n",
       "      <th>correct label</th>\n",
       "      <th>predicted label</th>\n",
       "      <th>proba_predicted_0</th>\n",
       "      <th>proba_predicted_1</th>\n",
       "      <th>max_prob</th>\n",
       "    </tr>\n",
       "  </thead>\n",
       "  <tbody>\n",
       "    <tr>\n",
       "      <th>66</th>\n",
       "      <td>24.516541</td>\n",
       "      <td>1</td>\n",
       "      <td>1</td>\n",
       "      <td>0.002974</td>\n",
       "      <td>0.997026</td>\n",
       "      <td>0.997026</td>\n",
       "    </tr>\n",
       "    <tr>\n",
       "      <th>128</th>\n",
       "      <td>4.697953</td>\n",
       "      <td>1</td>\n",
       "      <td>1</td>\n",
       "      <td>0.003381</td>\n",
       "      <td>0.996619</td>\n",
       "      <td>0.996619</td>\n",
       "    </tr>\n",
       "    <tr>\n",
       "      <th>0</th>\n",
       "      <td>-9.012043</td>\n",
       "      <td>0</td>\n",
       "      <td>1</td>\n",
       "      <td>0.004632</td>\n",
       "      <td>0.995368</td>\n",
       "      <td>0.995368</td>\n",
       "    </tr>\n",
       "    <tr>\n",
       "      <th>29</th>\n",
       "      <td>13.006122</td>\n",
       "      <td>1</td>\n",
       "      <td>1</td>\n",
       "      <td>0.009573</td>\n",
       "      <td>0.990427</td>\n",
       "      <td>0.990427</td>\n",
       "    </tr>\n",
       "    <tr>\n",
       "      <th>72</th>\n",
       "      <td>5.321352</td>\n",
       "      <td>1</td>\n",
       "      <td>1</td>\n",
       "      <td>0.010218</td>\n",
       "      <td>0.989782</td>\n",
       "      <td>0.989782</td>\n",
       "    </tr>\n",
       "    <tr>\n",
       "      <th>92</th>\n",
       "      <td>6.298685</td>\n",
       "      <td>1</td>\n",
       "      <td>1</td>\n",
       "      <td>0.010439</td>\n",
       "      <td>0.989561</td>\n",
       "      <td>0.989561</td>\n",
       "    </tr>\n",
       "    <tr>\n",
       "      <th>112</th>\n",
       "      <td>-12.237798</td>\n",
       "      <td>0</td>\n",
       "      <td>1</td>\n",
       "      <td>0.011919</td>\n",
       "      <td>0.988081</td>\n",
       "      <td>0.988081</td>\n",
       "    </tr>\n",
       "    <tr>\n",
       "      <th>23</th>\n",
       "      <td>-0.569614</td>\n",
       "      <td>0</td>\n",
       "      <td>1</td>\n",
       "      <td>0.012310</td>\n",
       "      <td>0.987690</td>\n",
       "      <td>0.987690</td>\n",
       "    </tr>\n",
       "    <tr>\n",
       "      <th>97</th>\n",
       "      <td>21.501889</td>\n",
       "      <td>1</td>\n",
       "      <td>1</td>\n",
       "      <td>0.013146</td>\n",
       "      <td>0.986854</td>\n",
       "      <td>0.986854</td>\n",
       "    </tr>\n",
       "    <tr>\n",
       "      <th>68</th>\n",
       "      <td>-15.830789</td>\n",
       "      <td>0</td>\n",
       "      <td>1</td>\n",
       "      <td>0.013699</td>\n",
       "      <td>0.986301</td>\n",
       "      <td>0.986301</td>\n",
       "    </tr>\n",
       "  </tbody>\n",
       "</table>\n",
       "</div>"
      ],
      "text/plain": [
       "     actual return  correct label  predicted label  proba_predicted_0  \\\n",
       "66       24.516541              1                1           0.002974   \n",
       "128       4.697953              1                1           0.003381   \n",
       "0        -9.012043              0                1           0.004632   \n",
       "29       13.006122              1                1           0.009573   \n",
       "72        5.321352              1                1           0.010218   \n",
       "92        6.298685              1                1           0.010439   \n",
       "112     -12.237798              0                1           0.011919   \n",
       "23       -0.569614              0                1           0.012310   \n",
       "97       21.501889              1                1           0.013146   \n",
       "68      -15.830789              0                1           0.013699   \n",
       "\n",
       "     proba_predicted_1  max_prob  \n",
       "66            0.997026  0.997026  \n",
       "128           0.996619  0.996619  \n",
       "0             0.995368  0.995368  \n",
       "29            0.990427  0.990427  \n",
       "72            0.989782  0.989782  \n",
       "92            0.989561  0.989561  \n",
       "112           0.988081  0.988081  \n",
       "23            0.987690  0.987690  \n",
       "97            0.986854  0.986854  \n",
       "68            0.986301  0.986301  "
      ]
     },
     "execution_count": 181,
     "metadata": {},
     "output_type": "execute_result"
    }
   ],
   "source": [
    "res_xg_sorted.head(10)"
   ]
  },
  {
   "cell_type": "code",
   "execution_count": null,
   "metadata": {},
   "outputs": [],
   "source": []
  },
  {
   "cell_type": "code",
   "execution_count": null,
   "metadata": {},
   "outputs": [],
   "source": []
  },
  {
   "cell_type": "code",
   "execution_count": null,
   "metadata": {},
   "outputs": [],
   "source": []
  },
  {
   "cell_type": "markdown",
   "metadata": {},
   "source": [
    "## 3 output prediction (+1, 0 and -1 outputs)"
   ]
  },
  {
   "cell_type": "markdown",
   "metadata": {},
   "source": [
    "### 80-day drift"
   ]
  },
  {
   "cell_type": "markdown",
   "metadata": {},
   "source": [
    "### Dealing with imbalanced classes"
   ]
  },
  {
   "cell_type": "markdown",
   "metadata": {},
   "source": [
    "As shown below, class \"1\" is the majority class. The following is a comparison of a default model and a modified model with class_weight adjusted. The class_weight penalizes mistakes in samples of class[i] with class_weight[i] instead of 1. So higher class-weight means one wants to put more emphasis on a class."
   ]
  },
  {
   "cell_type": "code",
   "execution_count": 196,
   "metadata": {},
   "outputs": [
    {
     "data": {
      "image/png": "[encoded data removed]",
      "text/plain": [
       "<Figure size 576x432 with 1 Axes>"
      ]
     },
     "metadata": {
      "needs_background": "light"
     },
     "output_type": "display_data"
    }
   ],
   "source": [
    "# Plot the number of classes: drift-80days\n",
    "fig = plt.figure(figsize=(8,6))\n",
    "df_test.groupby('drift_80day_3class').drift_80day_3class.count().plot.bar(ylim=0)\n",
    "plt.show()"
   ]
  },
  {
   "cell_type": "markdown",
   "metadata": {},
   "source": [
    "__Logistic Regression__"
   ]
  },
  {
   "cell_type": "code",
   "execution_count": 197,
   "metadata": {},
   "outputs": [
    {
     "name": "stderr",
     "output_type": "stream",
     "text": [
      "/Users/Qian/anaconda3/lib/python3.6/site-packages/sklearn/linear_model/sag.py:334: ConvergenceWarning: The max_iter was reached which means the coef_ did not converge\n",
      "  \"the coef_ did not converge\", ConvergenceWarning)\n"
     ]
    },
    {
     "name": "stdout",
     "output_type": "stream",
     "text": [
      "The default model prediction:\n",
      "[[ 4  4 18]\n",
      " [13  1 15]\n",
      " [18 10 47]]\n",
      "              precision    recall  f1-score   support\n",
      "\n",
      "          -1       0.11      0.15      0.13        26\n",
      "           0       0.07      0.03      0.05        29\n",
      "           1       0.59      0.63      0.61        75\n",
      "\n",
      "   micro avg       0.40      0.40      0.40       130\n",
      "   macro avg       0.26      0.27      0.26       130\n",
      "weighted avg       0.38      0.40      0.39       130\n",
      "\n",
      "\n",
      "The modified model prediction:\n",
      "[[ 9  7 10]\n",
      " [20  5  4]\n",
      " [23 19 33]]\n",
      "              precision    recall  f1-score   support\n",
      "\n",
      "          -1       0.17      0.35      0.23        26\n",
      "           0       0.16      0.17      0.17        29\n",
      "           1       0.70      0.44      0.54        75\n",
      "\n",
      "   micro avg       0.36      0.36      0.36       130\n",
      "   macro avg       0.35      0.32      0.31       130\n",
      "weighted avg       0.48      0.36      0.40       130\n",
      "\n"
     ]
    },
    {
     "name": "stderr",
     "output_type": "stream",
     "text": [
      "/Users/Qian/anaconda3/lib/python3.6/site-packages/sklearn/linear_model/sag.py:334: ConvergenceWarning: The max_iter was reached which means the coef_ did not converge\n",
      "  \"the coef_ did not converge\", ConvergenceWarning)\n"
     ]
    }
   ],
   "source": [
    "# Define the default model\n",
    "LR_0 = LogisticRegression(solver='sag', max_iter=5000, random_state=7, multi_class='multinomial')\n",
    "\n",
    "# Fit the model\n",
    "LR_0.fit(x_train_drift, y_train_80day_3class);\n",
    "\n",
    "# Use the optimised parameters to predict\n",
    "y_pred_80day_LR0 = LR_0.predict(x_test_drift)\n",
    "\n",
    "#----------------\n",
    "# The modified model\n",
    "LR_1 = LogisticRegression(solver='sag', max_iter=5000, class_weight = {-1:2, 0:2, 1:1}, random_state=7, \\\n",
    "                          multi_class='multinomial')\n",
    "\n",
    "# Fit the model\n",
    "LR_1.fit(x_train_drift, y_train_80day_3class);\n",
    "\n",
    "# Use the optimised parameters to predict\n",
    "y_pred_80day_LR1 = LR_1.predict(x_test_drift)\n",
    "\n",
    "print('The default model prediction:')\n",
    "print(confusion_matrix(y_test_80day_3class, y_pred_80day_LR0))\n",
    "print(classification_report(y_test_80day_3class, y_pred_80day_LR0))\n",
    "\n",
    "print('\\nThe modified model prediction:')\n",
    "print(confusion_matrix(y_test_80day_3class, y_pred_80day_LR1))\n",
    "print(classification_report(y_test_80day_3class, y_pred_80day_LR1))"
   ]
  },
  {
   "cell_type": "markdown",
   "metadata": {},
   "source": [
    "__Random Forest__"
   ]
  },
  {
   "cell_type": "code",
   "execution_count": 198,
   "metadata": {},
   "outputs": [
    {
     "name": "stdout",
     "output_type": "stream",
     "text": [
      "The default model prediction:\n",
      "[[ 7  2 17]\n",
      " [ 7  5 17]\n",
      " [19 14 42]]\n",
      "              precision    recall  f1-score   support\n",
      "\n",
      "          -1       0.21      0.27      0.24        26\n",
      "           0       0.24      0.17      0.20        29\n",
      "           1       0.55      0.56      0.56        75\n",
      "\n",
      "   micro avg       0.42      0.42      0.42       130\n",
      "   macro avg       0.33      0.33      0.33       130\n",
      "weighted avg       0.41      0.42      0.41       130\n",
      "\n",
      "\n",
      "The modified model prediction:\n",
      "[[10  0 16]\n",
      " [13  0 16]\n",
      " [23  0 52]]\n",
      "              precision    recall  f1-score   support\n",
      "\n",
      "          -1       0.22      0.38      0.28        26\n",
      "           0       0.00      0.00      0.00        29\n",
      "           1       0.62      0.69      0.65        75\n",
      "\n",
      "   micro avg       0.48      0.48      0.48       130\n",
      "   macro avg       0.28      0.36      0.31       130\n",
      "weighted avg       0.40      0.48      0.43       130\n",
      "\n",
      "class_weight = {-1:1, 0:0.5, 1:0.2}\n"
     ]
    },
    {
     "name": "stderr",
     "output_type": "stream",
     "text": [
      "/Users/Qian/anaconda3/lib/python3.6/site-packages/sklearn/ensemble/forest.py:248: FutureWarning: The default value of n_estimators will change from 10 in version 0.20 to 100 in 0.22.\n",
      "  \"10 in version 0.20 to 100 in 0.22.\", FutureWarning)\n",
      "/Users/Qian/anaconda3/lib/python3.6/site-packages/sklearn/ensemble/forest.py:248: FutureWarning: The default value of n_estimators will change from 10 in version 0.20 to 100 in 0.22.\n",
      "  \"10 in version 0.20 to 100 in 0.22.\", FutureWarning)\n",
      "/Users/Qian/anaconda3/lib/python3.6/site-packages/sklearn/metrics/classification.py:1143: UndefinedMetricWarning: Precision and F-score are ill-defined and being set to 0.0 in labels with no predicted samples.\n",
      "  'precision', 'predicted', average, warn_for)\n",
      "/Users/Qian/anaconda3/lib/python3.6/site-packages/sklearn/metrics/classification.py:1143: UndefinedMetricWarning: Precision and F-score are ill-defined and being set to 0.0 in labels with no predicted samples.\n",
      "  'precision', 'predicted', average, warn_for)\n",
      "/Users/Qian/anaconda3/lib/python3.6/site-packages/sklearn/metrics/classification.py:1143: UndefinedMetricWarning: Precision and F-score are ill-defined and being set to 0.0 in labels with no predicted samples.\n",
      "  'precision', 'predicted', average, warn_for)\n"
     ]
    }
   ],
   "source": [
    "# Define the default model\n",
    "RF_00 = RandomForestClassifier(random_state=7)\n",
    "\n",
    "# Fit the model\n",
    "RF_00.fit(x_train_drift, y_train_80day_3class);\n",
    "\n",
    "# Use the optimised parameters to predict\n",
    "y_pred_80day_RF00 = RF_00.predict(x_test_drift)\n",
    "\n",
    "#----------------\n",
    "# The modified model\n",
    "RF_11 = RandomForestClassifier(class_weight = {-1:1, 0:0.5, 1:0.2}, random_state=7)\n",
    "\n",
    "# Fit the model\n",
    "RF_11.fit(x_train_drift, y_train_80day_3class);\n",
    "\n",
    "# Use the optimised parameters to predict\n",
    "y_pred_80day_RF11 = RF_1.predict(x_test_drift)\n",
    "\n",
    "print('The default model prediction:')\n",
    "print(confusion_matrix(y_test_80day_3class, y_pred_80day_RF00))\n",
    "print(classification_report(y_test_80day_3class, y_pred_80day_RF00))\n",
    "\n",
    "print('\\nThe modified model prediction:')\n",
    "print(confusion_matrix(y_test_80day_3class, y_pred_80day_RF11))\n",
    "print(classification_report(y_test_80day_3class, y_pred_80day_RF11))\n",
    "print('class_weight = {-1:1, 0:0.5, 1:0.2}')"
   ]
  },
  {
   "cell_type": "code",
   "execution_count": 199,
   "metadata": {},
   "outputs": [
    {
     "data": {
      "image/png": "[encoded data removed]",
      "text/plain": [
       "<Figure size 1008x720 with 1 Axes>"
      ]
     },
     "metadata": {
      "needs_background": "light"
     },
     "output_type": "display_data"
    }
   ],
   "source": [
    "# To see the important features\n",
    "fig = plt.figure(figsize=(14,10))\n",
    "(pd.Series(RF_11.feature_importances_, index=features_drift)\n",
    "   .nlargest(30)\n",
    "   .plot(kind='barh')) \n",
    "plt.show()"
   ]
  },
  {
   "cell_type": "markdown",
   "metadata": {},
   "source": [
    "As shown above, the most important feature is 'wal_del_rev', the difference in revenue predictions between Wall Street and Estimize. "
   ]
  },
  {
   "cell_type": "markdown",
   "metadata": {},
   "source": [
    "__Hyperparameter tuning (including class_weight) using RandomizedSearchCV:__"
   ]
  },
  {
   "cell_type": "code",
   "execution_count": 222,
   "metadata": {},
   "outputs": [],
   "source": [
    "# Random Forest\n",
    "RF = RandomForestClassifier()\n",
    "\n",
    "# 2. Define the parameter grid to be searched from\n",
    "# Number of trees in random forest\n",
    "n_estimators = [int(x) for x in np.linspace(start = 200, stop = 2000, num = 10)]\n",
    "\n",
    "# Number of features to consider at every split\n",
    "max_features = ['auto', 'sqrt', 'log2']\n",
    "\n",
    "# Maximum number of levels in tree\n",
    "max_depth = [int(x) for x in np.linspace(10, 110, num = 11)]\n",
    "max_depth.append(None)\n",
    "\n",
    "# Minimum number of samples required to split a node\n",
    "min_samples_split = [2, 5, 10]\n",
    "\n",
    "# Minimum number of samples required at each leaf node\n",
    "min_samples_leaf = [1, 2, 4]\n",
    "\n",
    "# Different weights assigned to the imbalanced classes\n",
    "class_weight = [{-1:0.33, 0:0.33, 1:0.33}, {-1:1, 0:0.5, 1:0.2}, {-1:1, 0:0.7, 1:0.2}, {-1:0.8, 0:0.5, 1:0.2}]\n",
    "\n",
    "# Create the random grid\n",
    "random_grid = {'n_estimators': n_estimators,\n",
    "               'max_features': max_features,\n",
    "               'max_depth': max_depth,\n",
    "               'min_samples_split': min_samples_split,\n",
    "               'min_samples_leaf': min_samples_leaf,\n",
    "               'class_weight': class_weight}\n",
    "\n",
    "# 3. Hyperparameter tuning using RandomizedSearchCV\n",
    "RF_80_3class_cv = RandomizedSearchCV(RF, random_grid, cv = 4, scoring = 'neg_log_loss', \\\n",
    "                                     random_state = random.seed(1234))\n",
    "#RF_80_cat_cv = RandomizedSearchCV(RF, random_grid, cv = 4, random_state = 7)\n",
    "# If not using scoring = 'neg_log_loss', which penalises the confident but wrong predictions, the top 10 stocks ranked\n",
    "# below would produce only 8% return rather than 13%. "
   ]
  },
  {
   "cell_type": "code",
   "execution_count": 223,
   "metadata": {},
   "outputs": [
    {
     "name": "stderr",
     "output_type": "stream",
     "text": [
      "/Users/Qian/anaconda3/lib/python3.6/site-packages/sklearn/model_selection/_search.py:841: DeprecationWarning: The default of the `iid` parameter will change from True to False in version 0.22 and will be removed in 0.24. This will change numeric results when test-set sizes are unequal.\n",
      "  DeprecationWarning)\n"
     ]
    },
    {
     "name": "stdout",
     "output_type": "stream",
     "text": [
      "[[ 2  0 24]\n",
      " [ 2  0 27]\n",
      " [ 8  0 67]]\n",
      "              precision    recall  f1-score   support\n",
      "\n",
      "          -1       0.17      0.08      0.11        26\n",
      "           0       0.00      0.00      0.00        29\n",
      "           1       0.57      0.89      0.69        75\n",
      "\n",
      "   micro avg       0.53      0.53      0.53       130\n",
      "   macro avg       0.24      0.32      0.27       130\n",
      "weighted avg       0.36      0.53      0.42       130\n",
      "\n"
     ]
    },
    {
     "name": "stderr",
     "output_type": "stream",
     "text": [
      "/Users/Qian/anaconda3/lib/python3.6/site-packages/sklearn/metrics/classification.py:1143: UndefinedMetricWarning: Precision and F-score are ill-defined and being set to 0.0 in labels with no predicted samples.\n",
      "  'precision', 'predicted', average, warn_for)\n",
      "/Users/Qian/anaconda3/lib/python3.6/site-packages/sklearn/metrics/classification.py:1143: UndefinedMetricWarning: Precision and F-score are ill-defined and being set to 0.0 in labels with no predicted samples.\n",
      "  'precision', 'predicted', average, warn_for)\n",
      "/Users/Qian/anaconda3/lib/python3.6/site-packages/sklearn/metrics/classification.py:1143: UndefinedMetricWarning: Precision and F-score are ill-defined and being set to 0.0 in labels with no predicted samples.\n",
      "  'precision', 'predicted', average, warn_for)\n"
     ]
    }
   ],
   "source": [
    "# Fit the model\n",
    "RF_80_3class_cv.fit(x_train_drift, y_train_80day_3class)\n",
    "\n",
    "# Use the optimised parameters to predict\n",
    "y_pred_80day_3class_RF_cv = RF_80_cat_cv.predict(x_test_drift)\n",
    "\n",
    "print(confusion_matrix(y_test_80day_3class, y_pred_80day_3class_RF_cv))\n",
    "print(classification_report(y_test_80day_3class, y_pred_80day_3class_RF_cv))"
   ]
  },
  {
   "cell_type": "code",
   "execution_count": 224,
   "metadata": {},
   "outputs": [
    {
     "data": {
      "text/plain": [
       "{'n_estimators': 1200,\n",
       " 'min_samples_split': 2,\n",
       " 'min_samples_leaf': 1,\n",
       " 'max_features': 'auto',\n",
       " 'max_depth': 100,\n",
       " 'class_weight': {-1: 1, 0: 0.7, 1: 0.2}}"
      ]
     },
     "execution_count": 224,
     "metadata": {},
     "output_type": "execute_result"
    }
   ],
   "source": [
    "RF_80_3class_cv.best_params_"
   ]
  },
  {
   "cell_type": "markdown",
   "metadata": {},
   "source": [
    "### Get the top 10 stocks with highest probabilities predicted"
   ]
  },
  {
   "cell_type": "markdown",
   "metadata": {},
   "source": [
    "__SVM__"
   ]
  },
  {
   "cell_type": "code",
   "execution_count": 186,
   "metadata": {},
   "outputs": [
    {
     "name": "stdout",
     "output_type": "stream",
     "text": [
      "The default model prediction:\n",
      "[[ 0  0 26]\n",
      " [ 0  0 29]\n",
      " [ 0  0 75]]\n",
      "              precision    recall  f1-score   support\n",
      "\n",
      "          -1       0.00      0.00      0.00        26\n",
      "           0       0.00      0.00      0.00        29\n",
      "           1       0.58      1.00      0.73        75\n",
      "\n",
      "   micro avg       0.58      0.58      0.58       130\n",
      "   macro avg       0.19      0.33      0.24       130\n",
      "weighted avg       0.33      0.58      0.42       130\n",
      "\n",
      "\n",
      "The modified model prediction:\n",
      "[[ 6  0 20]\n",
      " [10  0 19]\n",
      " [12  0 63]]\n",
      "              precision    recall  f1-score   support\n",
      "\n",
      "          -1       0.21      0.23      0.22        26\n",
      "           0       0.00      0.00      0.00        29\n",
      "           1       0.62      0.84      0.71        75\n",
      "\n",
      "   micro avg       0.53      0.53      0.53       130\n",
      "   macro avg       0.28      0.36      0.31       130\n",
      "weighted avg       0.40      0.53      0.46       130\n",
      "\n",
      "class_weight = {-1:1.1, 0:1, 1:0.7}\n"
     ]
    },
    {
     "name": "stderr",
     "output_type": "stream",
     "text": [
      "/Users/Qian/anaconda3/lib/python3.6/site-packages/sklearn/metrics/classification.py:1143: UndefinedMetricWarning: Precision and F-score are ill-defined and being set to 0.0 in labels with no predicted samples.\n",
      "  'precision', 'predicted', average, warn_for)\n",
      "/Users/Qian/anaconda3/lib/python3.6/site-packages/sklearn/metrics/classification.py:1143: UndefinedMetricWarning: Precision and F-score are ill-defined and being set to 0.0 in labels with no predicted samples.\n",
      "  'precision', 'predicted', average, warn_for)\n",
      "/Users/Qian/anaconda3/lib/python3.6/site-packages/sklearn/metrics/classification.py:1143: UndefinedMetricWarning: Precision and F-score are ill-defined and being set to 0.0 in labels with no predicted samples.\n",
      "  'precision', 'predicted', average, warn_for)\n",
      "/Users/Qian/anaconda3/lib/python3.6/site-packages/sklearn/metrics/classification.py:1143: UndefinedMetricWarning: Precision and F-score are ill-defined and being set to 0.0 in labels with no predicted samples.\n",
      "  'precision', 'predicted', average, warn_for)\n",
      "/Users/Qian/anaconda3/lib/python3.6/site-packages/sklearn/metrics/classification.py:1143: UndefinedMetricWarning: Precision and F-score are ill-defined and being set to 0.0 in labels with no predicted samples.\n",
      "  'precision', 'predicted', average, warn_for)\n",
      "/Users/Qian/anaconda3/lib/python3.6/site-packages/sklearn/metrics/classification.py:1143: UndefinedMetricWarning: Precision and F-score are ill-defined and being set to 0.0 in labels with no predicted samples.\n",
      "  'precision', 'predicted', average, warn_for)\n"
     ]
    }
   ],
   "source": [
    "# Define the default model\n",
    "svm_0 = SVC(gamma='scale', random_state=7)\n",
    "\n",
    "# Fit the model\n",
    "svm_0.fit(x_train_drift, y_train_80day_3class);\n",
    "\n",
    "# Use the optimised parameters to predict\n",
    "y_pred_80day_svm0 = svm_0.predict(x_test_drift)\n",
    "\n",
    "#----------------\n",
    "# The modified model\n",
    "svm_1 = SVC(probability=True, gamma='scale', class_weight = {-1:1.1, 0:1, 1:0.7}, random_state=7)\n",
    "\n",
    "# Fit the model\n",
    "svm_1.fit(x_train_drift, y_train_80day_3class);\n",
    "\n",
    "# predict\n",
    "y_pred_80day_svm1 = svm_1.predict(x_test_drift)\n",
    "\n",
    "print('The default model prediction:')\n",
    "print(confusion_matrix(y_test_80day_3class, y_pred_80day_svm0))\n",
    "print(classification_report(y_test_80day_3class, y_pred_80day_svm0))\n",
    "\n",
    "print('\\nThe modified model prediction:')\n",
    "print(confusion_matrix(y_test_80day_3class, y_pred_80day_svm1))\n",
    "print(classification_report(y_test_80day_3class, y_pred_80day_svm1))\n",
    "print('class_weight = {-1:1.1, 0:1, 1:0.7}')"
   ]
  },
  {
   "cell_type": "markdown",
   "metadata": {},
   "source": [
    "__AdaBoost__"
   ]
  },
  {
   "cell_type": "code",
   "execution_count": 191,
   "metadata": {},
   "outputs": [
    {
     "name": "stdout",
     "output_type": "stream",
     "text": [
      "{'n_estimators': 100, 'learning_rate': 0.01}\n",
      "\n",
      "\n",
      "[[ 0  0 26]\n",
      " [ 0  0 29]\n",
      " [ 0  0 75]]\n",
      "              precision    recall  f1-score   support\n",
      "\n",
      "          -1       0.00      0.00      0.00        26\n",
      "           0       0.00      0.00      0.00        29\n",
      "           1       0.58      1.00      0.73        75\n",
      "\n",
      "   micro avg       0.58      0.58      0.58       130\n",
      "   macro avg       0.19      0.33      0.24       130\n",
      "weighted avg       0.33      0.58      0.42       130\n",
      "\n"
     ]
    },
    {
     "name": "stderr",
     "output_type": "stream",
     "text": [
      "/Users/Qian/anaconda3/lib/python3.6/site-packages/sklearn/metrics/classification.py:1143: UndefinedMetricWarning: Precision and F-score are ill-defined and being set to 0.0 in labels with no predicted samples.\n",
      "  'precision', 'predicted', average, warn_for)\n",
      "/Users/Qian/anaconda3/lib/python3.6/site-packages/sklearn/metrics/classification.py:1143: UndefinedMetricWarning: Precision and F-score are ill-defined and being set to 0.0 in labels with no predicted samples.\n",
      "  'precision', 'predicted', average, warn_for)\n",
      "/Users/Qian/anaconda3/lib/python3.6/site-packages/sklearn/metrics/classification.py:1143: UndefinedMetricWarning: Precision and F-score are ill-defined and being set to 0.0 in labels with no predicted samples.\n",
      "  'precision', 'predicted', average, warn_for)\n"
     ]
    }
   ],
   "source": [
    "# Fit the model\n",
    "Ada_cv.fit(x_train_drift, y_train_80day_3class);\n",
    "\n",
    "# View the best parameters found\n",
    "print(Ada_cv.best_params_)\n",
    "\n",
    "# Use the optimised parameters to predict\n",
    "y_pred_80day_3class_Ada = Ada_cv.predict(x_test_drift)\n",
    "\n",
    "print('\\n')\n",
    "print(confusion_matrix(y_test_80day_3class, y_pred_80day_3class_Ada))\n",
    "print(classification_report(y_test_80day_3class, y_pred_80day_3class_Ada))"
   ]
  },
  {
   "cell_type": "markdown",
   "metadata": {},
   "source": [
    "__XGBoost__"
   ]
  },
  {
   "cell_type": "code",
   "execution_count": 231,
   "metadata": {},
   "outputs": [],
   "source": [
    "# The XGB modeler object\n",
    "xg = xgb.XGBClassifier(num_class = 3, objective ='multi:softprob', colsample_bytree = 0.3, learning_rate = 0.1,\\\n",
    "                       max_depth = 7, alpha = 10, n_estimators = 500, eval_metric = 'mlogloss',\\\n",
    "                       max_delta_step = 2)"
   ]
  },
  {
   "cell_type": "code",
   "execution_count": 47,
   "metadata": {},
   "outputs": [
    {
     "name": "stdout",
     "output_type": "stream",
     "text": [
      "\n",
      "\n",
      "[[ 1  0  9]\n",
      " [ 0  0  9]\n",
      " [ 0  0 21]]\n",
      "              precision    recall  f1-score   support\n",
      "\n",
      "          -1       1.00      0.10      0.18        10\n",
      "           0       0.00      0.00      0.00         9\n",
      "           1       0.54      1.00      0.70        21\n",
      "\n",
      "   micro avg       0.55      0.55      0.55        40\n",
      "   macro avg       0.51      0.37      0.29        40\n",
      "weighted avg       0.53      0.55      0.41        40\n",
      "\n"
     ]
    },
    {
     "name": "stderr",
     "output_type": "stream",
     "text": [
      "/Users/Qian/anaconda3/lib/python3.6/site-packages/sklearn/metrics/classification.py:1143: UndefinedMetricWarning: Precision and F-score are ill-defined and being set to 0.0 in labels with no predicted samples.\n",
      "  'precision', 'predicted', average, warn_for)\n",
      "/Users/Qian/anaconda3/lib/python3.6/site-packages/sklearn/metrics/classification.py:1143: UndefinedMetricWarning: Precision and F-score are ill-defined and being set to 0.0 in labels with no predicted samples.\n",
      "  'precision', 'predicted', average, warn_for)\n",
      "/Users/Qian/anaconda3/lib/python3.6/site-packages/sklearn/metrics/classification.py:1143: UndefinedMetricWarning: Precision and F-score are ill-defined and being set to 0.0 in labels with no predicted samples.\n",
      "  'precision', 'predicted', average, warn_for)\n"
     ]
    }
   ],
   "source": [
    "# Fit the model\n",
    "xg.fit(x_train_drift, y_train_80day_3class);\n",
    "\n",
    "# predict\n",
    "y_pred_80day_3class_xg = xg.predict(x_test_drift)\n",
    "\n",
    "print('\\n')\n",
    "print(confusion_matrix(y_test_80day_3class, y_pred_80day_3class_xg))\n",
    "print(classification_report(y_test_80day_3class, y_pred_80day_3class_xg))"
   ]
  }
 ],
 "metadata": {
  "kernelspec": {
   "display_name": "Python 3",
   "language": "python",
   "name": "python3"
  },
  "language_info": {
   "codemirror_mode": {
    "name": "ipython",
    "version": 3
   },
   "file_extension": ".py",
   "mimetype": "text/x-python",
   "name": "python",
   "nbconvert_exporter": "python",
   "pygments_lexer": "ipython3",
   "version": "3.6.6"
  }
 },
 "nbformat": 4,
 "nbformat_minor": 2
}
