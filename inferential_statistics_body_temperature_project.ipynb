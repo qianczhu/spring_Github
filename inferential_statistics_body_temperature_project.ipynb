{
 "cells": [
  {
   "cell_type": "markdown",
   "metadata": {},
   "source": [
    "# What is the True Normal Human Body Temperature? \n",
    "\n",
    "#### Background\n",
    "\n",
    "The mean normal body temperature was held to be 37$^{\\circ}$C or 98.6$^{\\circ}$F for more than 120 years since it was first conceptualized and reported by Carl Wunderlich in a famous 1868 book. But, is this value statistically correct?"
   ]
  },
  {
   "cell_type": "markdown",
   "metadata": {},
   "source": [
    "<h3>Exercises</h3>\n",
    "\n",
    "<p>In this exercise, you will analyze a dataset of human body temperatures and employ the concepts of hypothesis testing, confidence intervals, and statistical significance.</p>\n",
    "\n",
    "<p>Answer the following questions <b>in this notebook below and submit to your Github account</b>.</p> \n",
    "\n",
    "<ol>\n",
    "<li>  Is the distribution of body temperatures normal? \n",
    "    <ul>\n",
    "    <li> Although this is not a requirement for the Central Limit Theorem to hold (read the introduction on Wikipedia's page about the CLT carefully: https://en.wikipedia.org/wiki/Central_limit_theorem), it gives us some peace of mind that the population may also be normally distributed if we assume that this sample is representative of the population.\n",
    "    <li> Think about the way you're going to check for the normality of the distribution. Graphical methods are usually used first, but there are also other ways: https://en.wikipedia.org/wiki/Normality_test\n",
    "    </ul>\n",
    "<li>  Is the sample size large? Are the observations independent?\n",
    "    <ul>\n",
    "    <li> Remember that this is a condition for the Central Limit Theorem, and hence the statistical tests we are using, to apply.\n",
    "    </ul>\n",
    "<li>  Is the true population mean really 98.6 degrees F?\n",
    "    <ul>\n",
    "    <li> First, try a bootstrap hypothesis test.\n",
    "    <li> Now, let's try frequentist statistical testing. Would you use a one-sample or two-sample test? Why?\n",
    "    <li> In this situation, is it appropriate to use the $t$ or $z$ statistic? \n",
    "    <li> Now try using the other test. How is the result be different? Why?\n",
    "    </ul>\n",
    "<li>  Draw a small sample of size 10 from the data and repeat both frequentist tests. \n",
    "    <ul>\n",
    "    <li> Which one is the correct one to use? \n",
    "    <li> What do you notice? What does this tell you about the difference in application of the $t$ and $z$ statistic?\n",
    "    </ul>\n",
    "<li>  At what temperature should we consider someone's temperature to be \"abnormal\"?\n",
    "    <ul>\n",
    "    <li> As in the previous example, try calculating everything using the boostrap approach, as well as the frequentist approach.\n",
    "    <li> Start by computing the margin of error and confidence interval. When calculating the confidence interval, keep in mind that you should use the appropriate formula for one draw, and not N draws.\n",
    "    </ul>\n",
    "<li>  Is there a significant difference between males and females in normal temperature?\n",
    "    <ul>\n",
    "    <li> What testing approach did you use and why?\n",
    "    <li> Write a story with your conclusion in the context of the original problem.\n",
    "    </ul>\n",
    "</ol>\n",
    "\n",
    "You can include written notes in notebook cells using Markdown: \n",
    "   - In the control panel at the top, choose Cell > Cell Type > Markdown\n",
    "   - Markdown syntax: http://nestacms.com/docs/creating-content/markdown-cheat-sheet\n",
    "\n",
    "#### Resources\n",
    "\n",
    "+ Information and data sources: http://www.amstat.org/publications/jse/datasets/normtemp.txt, http://www.amstat.org/publications/jse/jse_data_archive.htm\n",
    "+ Markdown syntax: http://nestacms.com/docs/creating-content/markdown-cheat-sheet\n",
    "\n",
    "****"
   ]
  },
  {
   "cell_type": "code",
   "execution_count": 40,
   "metadata": {
    "collapsed": true
   },
   "outputs": [],
   "source": [
    "import pandas as pd\n",
    "import matplotlib.pyplot as plt\n",
    "import seaborn as sns\n",
    "import numpy as np\n",
    "from statsmodels.graphics.gofplots import qqplot\n",
    "from scipy.stats import shapiro\n",
    "import scipy.stats as st\n",
    "\n",
    "import warnings\n",
    "warnings.filterwarnings('ignore')"
   ]
  },
  {
   "cell_type": "code",
   "execution_count": 3,
   "metadata": {
    "collapsed": true
   },
   "outputs": [],
   "source": [
    "df = pd.read_csv('data/human_body_temperature.csv')"
   ]
  },
  {
   "cell_type": "markdown",
   "metadata": {
    "collapsed": true
   },
   "source": [
    "## Q1. Is the distribution of body temperatures normal? "
   ]
  },
  {
   "cell_type": "markdown",
   "metadata": {},
   "source": [
    "### Exploratory Data Analysis\n",
    "* Visualise in histogram"
   ]
  },
  {
   "cell_type": "code",
   "execution_count": 4,
   "metadata": {
    "collapsed": true
   },
   "outputs": [],
   "source": [
    "# Convert degree F to degree C\n",
    "df['temperatureC'] = (df['temperature'] - 32)*5/9"
   ]
  },
  {
   "cell_type": "code",
   "execution_count": 136,
   "metadata": {},
   "outputs": [
    {
     "data": {
      "image/png": "[encoded data removed]",
      "text/plain": [
       "<matplotlib.figure.Figure at 0x1132da128>"
      ]
     },
     "metadata": {},
     "output_type": "display_data"
    }
   ],
   "source": [
    "#nbins = int(np.sqrt(len(df['temperature'])))\n",
    "\n",
    "df['temperatureC'].hist(bins = 25)\n",
    "plt.xlabel('Temperature ($^{\\circ}C)$')\n",
    "plt.ylabel('Frequency')\n",
    "plt.show()"
   ]
  },
  {
   "cell_type": "markdown",
   "metadata": {},
   "source": [
    "<div class=\"span5 alert alert-success\">\n",
    "<p>The histogram shows the distribution is unimodal and roughly symmetric. </p>\n",
    "</div>"
   ]
  },
  {
   "cell_type": "markdown",
   "metadata": {},
   "source": [
    "* Compare the data ECDF (Empirical Cumulative Distribution Function) with a simulated normal distribution's ECDF:"
   ]
  },
  {
   "cell_type": "code",
   "execution_count": 6,
   "metadata": {
    "collapsed": true
   },
   "outputs": [],
   "source": [
    "def ecdf(data):\n",
    "    \"\"\"Compute ECDF for a one-dimensional array of measurements.\"\"\"\n",
    "    # Number of data points: n\n",
    "    n = len(data)\n",
    "    \n",
    "    # x-data for the ECDF: x\n",
    "    x = np.sort(data)\n",
    "\n",
    "    # The y data of the ECDF go from 1/n to 1 in equally spaced increments. \n",
    "    y = np.arange(1, n+1) / n\n",
    "\n",
    "    return x, y"
   ]
  },
  {
   "cell_type": "code",
   "execution_count": 7,
   "metadata": {
    "collapsed": true
   },
   "outputs": [],
   "source": [
    "# Compute mean and standard deviation of the data\n",
    "mu = np.mean(df.temperatureC)\n",
    "sigma = np.std(df.temperatureC)"
   ]
  },
  {
   "cell_type": "code",
   "execution_count": 8,
   "metadata": {
    "collapsed": true
   },
   "outputs": [],
   "source": [
    "# Sample out of a normal distribution with this mu and sigma: samples\n",
    "samples = np.random.normal(mu, sigma, 10000)"
   ]
  },
  {
   "cell_type": "code",
   "execution_count": 9,
   "metadata": {},
   "outputs": [
    {
     "data": {
      "image/png": "[encoded data removed]",
      "text/plain": [
       "<matplotlib.figure.Figure at 0x1045184e0>"
      ]
     },
     "metadata": {},
     "output_type": "display_data"
    }
   ],
   "source": [
    "# Get the CDF of the samples and of the data\n",
    "x_th, y_th = ecdf(samples)\n",
    "x, y = ecdf(df.temperatureC)\n",
    "\n",
    "# Plot the CDFs and show the plot\n",
    "_ = plt.plot(x_th, y_th)\n",
    "_ = plt.plot(x, y, marker='.', linestyle='none')\n",
    "_ = plt.xlabel('measured body temperature ($^{\\circ}$C)')\n",
    "_ = plt.ylabel('CDF')\n",
    "_ = plt.legend(['simulated normal distribution', 'data'])\n",
    "plt.show()"
   ]
  },
  {
   "cell_type": "markdown",
   "metadata": {},
   "source": [
    "<div class=\"span5 alert alert-success\">\n",
    "<p>From the ECDF, the data align quite well with the simulated normal distribution. </p>\n",
    "</div>"
   ]
  },
  {
   "cell_type": "markdown",
   "metadata": {},
   "source": [
    "* QQ plot for checking normality"
   ]
  },
  {
   "cell_type": "code",
   "execution_count": 10,
   "metadata": {},
   "outputs": [
    {
     "data": {
      "image/png": "[encoded data removed]",
      "text/plain": [
       "<matplotlib.figure.Figure at 0x1128fad68>"
      ]
     },
     "metadata": {},
     "output_type": "display_data"
    }
   ],
   "source": [
    "qqplot(df.temperature, line='s')\n",
    "plt.show()"
   ]
  },
  {
   "cell_type": "markdown",
   "metadata": {},
   "source": [
    "<div class=\"span5 alert alert-success\">\n",
    "<p>Except for the maximum point (which seems to be an outlier), the data aligns quite well with the theoretical normal distribution curve. </p>\n",
    "</div>"
   ]
  },
  {
   "cell_type": "markdown",
   "metadata": {},
   "source": [
    "### Statistical Normality Tests\n",
    "* __Shapiro-Wilk Test__\n",
    "\n",
    "The Shapiro–Wilk test tests the null hypothesis that a sample x1, ..., xn came from a normally distributed population. The test statistic is W. The null-hypothesis of this test is that the population is normally distributed. Assume a significance level of 0.05. "
   ]
  },
  {
   "cell_type": "code",
   "execution_count": 11,
   "metadata": {},
   "outputs": [
    {
     "name": "stdout",
     "output_type": "stream",
     "text": [
      "The calculated p-value is 0.23.\n"
     ]
    }
   ],
   "source": [
    "W, p = shapiro(df.temperatureC)\n",
    "print('The calculated p-value is ' + str(round(p, 2)) + '.')"
   ]
  },
  {
   "cell_type": "markdown",
   "metadata": {},
   "source": [
    "<div class=\"span5 alert alert-success\">\n",
    "<p>The above p-value is greater than the pre-set significance level of 0.05, suggesting that the data is normally distributed. </p>\n",
    "<p>From both the exploratory data analysis and statistical normality test, it seems that the data is normally distributed.\n",
    "</div>"
   ]
  },
  {
   "cell_type": "markdown",
   "metadata": {},
   "source": [
    "## Q2: Is the sample size large? Are the observations independent?"
   ]
  },
  {
   "cell_type": "code",
   "execution_count": 12,
   "metadata": {},
   "outputs": [
    {
     "data": {
      "text/plain": [
       "130"
      ]
     },
     "execution_count": 12,
     "metadata": {},
     "output_type": "execute_result"
    }
   ],
   "source": [
    "# sample size\n",
    "n = len(df.temperature)\n",
    "n"
   ]
  },
  {
   "cell_type": "markdown",
   "metadata": {},
   "source": [
    "The central limit theorem states that if you have a population with mean μ and standard deviation σ and take sufficiently large random samples from the population with replacement, then the distribution of the sample means will be approximately normally distributed. But the central limit theorem does not state how large the sample should be. If the population is unimodal and symmetric, even small samples are acceptable. In addition, a general rule of thumb is if n >= 30, then the sampling distribution may be considered normal. \n",
    "\n",
    "From the histogram plotted above, the data seems to be unimodal and symmetric. Also, the sample size of 130 already exceeds n >= 30, so it may be considered large enough. \n",
    "\n",
    "As for the independent condition, assuming the data was drawn randomly from the population without replacement, a 10% condition applies. Our sample size of 130 is well within the 10% of the total population, therefore the observations can be considered as independent. "
   ]
  },
  {
   "cell_type": "markdown",
   "metadata": {
    "collapsed": true
   },
   "source": [
    "## Q3. Is the true population mean really 98.6 degrees F, or 37 degree C?"
   ]
  },
  {
   "cell_type": "code",
   "execution_count": 13,
   "metadata": {},
   "outputs": [
    {
     "data": {
      "text/plain": [
       "36.80512820512822"
      ]
     },
     "execution_count": 13,
     "metadata": {},
     "output_type": "execute_result"
    }
   ],
   "source": [
    "np.mean(df['temperatureC'])"
   ]
  },
  {
   "cell_type": "markdown",
   "metadata": {},
   "source": [
    "From the above, the sample mean is 36.805, which is lower than 37.0. \n",
    "\n",
    "1. Bootstrap hypothesis testing\n",
    "    * Step 1: State the null and alternative hypotheses: \n",
    "            H0: mean = 37.0 degree C\n",
    "            Ha: mean < 37.0 degree C\n",
    "    * Step 2: Set the significance level . We’ll choose 0.05.\n",
    "    * Step 3: Calculate the p-value corresponding to mean < 37.0 (one-tailed test)."
   ]
  },
  {
   "cell_type": "code",
   "execution_count": 14,
   "metadata": {
    "collapsed": true
   },
   "outputs": [],
   "source": [
    "# Function to create a function for a 1D array data (bootstrapped)\n",
    "def bootstrap_replicate_1d(data, func):   \n",
    "    return func(np.random.choice(data, size=len(data)))"
   ]
  },
  {
   "cell_type": "code",
   "execution_count": 15,
   "metadata": {
    "collapsed": true
   },
   "outputs": [],
   "source": [
    "# Function to draw bootstrap replicates\n",
    "def draw_bs_reps(data, func, size=1):\n",
    "    \"\"\"Draw bootstrap replicates.\"\"\"\n",
    "\n",
    "    # Initialize array of replicates: bs_replicates\n",
    "    bs_replicates = np.empty(size)\n",
    "\n",
    "    # Generate replicates\n",
    "    for i in range(size):\n",
    "        bs_replicates[i] = bootstrap_replicate_1d(data, func)\n",
    "\n",
    "    return bs_replicates"
   ]
  },
  {
   "cell_type": "code",
   "execution_count": 16,
   "metadata": {
    "collapsed": true
   },
   "outputs": [],
   "source": [
    "# Shift the data so that the data mean is 37.0 degree C\n",
    "translated_temp = df['temperatureC'] - np.mean(df['temperatureC']) + 37.0\n",
    "\n",
    "# Take bootstrap replicates, i.e., the mean, of translated_temp\n",
    "bs_replicates = draw_bs_reps(translated_temp, np.mean, 10000)"
   ]
  },
  {
   "cell_type": "code",
   "execution_count": 137,
   "metadata": {},
   "outputs": [
    {
     "data": {
      "image/png": "[encoded data removed]",
      "text/plain": [
       "<matplotlib.figure.Figure at 0x11304d6a0>"
      ]
     },
     "metadata": {},
     "output_type": "display_data"
    }
   ],
   "source": [
    "plt.hist(bs_replicates, bins=20);\n",
    "plt.axvline(36.805, color = 'red')\n",
    "plt.xlabel('Bootstrap temperature ($^{\\circ}C)$)')\n",
    "plt.ylabel('Frequency')\n",
    "plt.show()"
   ]
  },
  {
   "cell_type": "code",
   "execution_count": 18,
   "metadata": {},
   "outputs": [
    {
     "data": {
      "text/plain": [
       "0.0"
      ]
     },
     "execution_count": 18,
     "metadata": {},
     "output_type": "execute_result"
    }
   ],
   "source": [
    "# Compute the p-value (fraction of replicates that are less than the observed mean)\n",
    "p = np.sum(bs_replicates <= np.mean(df['temperatureC']))/ 10000\n",
    "p"
   ]
  },
  {
   "cell_type": "markdown",
   "metadata": {
    "collapsed": true
   },
   "source": [
    "<div class=\"span5 alert alert-success\">\n",
    "The calculated p-value is 0. Also, from the histogram of the bootstrap replicates, none of the means is as low as 36.80. Therefore, we can reject the null hypothesis, i.e., the true population mean is not 37.0 degree C. \n",
    "</div>"
   ]
  },
  {
   "cell_type": "markdown",
   "metadata": {
    "collapsed": true
   },
   "source": [
    "### Now, let's try frequentist statistical testing. Would you use a one-sample or two-sample test? Why? In this situation, is it appropriate to use the  t or  z statistic?"
   ]
  },
  {
   "cell_type": "markdown",
   "metadata": {},
   "source": [
    "<div class=\"span5 alert alert-success\">\n",
    "<li> A one-sample test would be used, as two-sample tests are for comparing the difference between two groups to see if their difference is significant or due to random chance. In our case, we only have one group of temperature data, hence using one-sample test is appropriate.  \n",
    "\n",
    "<li> In general, a t-statistic is used when the population variance is unknown and the sample size is small. If the sample size is large enough, i.e., > 30, the t-distribution approaches that of a standard normal distribution. In our case, n = 130, so using a z-statistic is appropriate. \n",
    "<p> \n",
    "<p> Null hypothesis and alternative hypothesis defined:\n",
    "    <li>H0: mean = 37.0 degree C\n",
    "    <li>Ha: mean < 37.0 degree C\n",
    "</div>"
   ]
  },
  {
   "cell_type": "code",
   "execution_count": 19,
   "metadata": {},
   "outputs": [
    {
     "data": {
      "text/plain": [
       "-5.4759252020779146"
      ]
     },
     "execution_count": 19,
     "metadata": {},
     "output_type": "execute_result"
    }
   ],
   "source": [
    "n = len(df.temperature)\n",
    "\n",
    "# Calculate the sample mean\n",
    "s_mean = np.mean(df['temperatureC'])\n",
    "\n",
    "# The sample standard deviation\n",
    "s_sd = np.std(df['temperatureC'])\n",
    "\n",
    "# z-statistic\n",
    "z = (s_mean - 37.0)/(s_sd/np.sqrt(n))\n",
    "z                     "
   ]
  },
  {
   "cell_type": "code",
   "execution_count": 20,
   "metadata": {},
   "outputs": [
    {
     "data": {
      "text/plain": [
       "2.1761575829435712e-08"
      ]
     },
     "execution_count": 20,
     "metadata": {},
     "output_type": "execute_result"
    }
   ],
   "source": [
    "# Convert the z-score to p-value, i.e., the probability of being -5.4 standard deviation away from the mean:\n",
    "p = st.norm.cdf(z)\n",
    "p"
   ]
  },
  {
   "cell_type": "markdown",
   "metadata": {},
   "source": [
    "<div class=\"span5 alert alert-success\">\n",
    "The calculated p-value is very small, suggesting we can reject the null hypothesis and that the mean is likely to be less than 37.0 degree C.\n",
    "</div>"
   ]
  },
  {
   "cell_type": "markdown",
   "metadata": {},
   "source": [
    "### Now try using t-test. How is the result be different? Why?"
   ]
  },
  {
   "cell_type": "code",
   "execution_count": 21,
   "metadata": {},
   "outputs": [
    {
     "data": {
      "text/plain": [
       "1.0943732312057704e-07"
      ]
     },
     "execution_count": 21,
     "metadata": {},
     "output_type": "execute_result"
    }
   ],
   "source": [
    "# If we use the t-statistic\n",
    "t = (s_mean - 37.0)/(s_sd/np.sqrt(n))\n",
    "\n",
    "# p-value\n",
    "pval = st.t.sf(np.abs(t), n-1)\n",
    "pval"
   ]
  },
  {
   "cell_type": "markdown",
   "metadata": {},
   "source": [
    "<div class=\"span5 alert alert-success\">\n",
    "The calculated p-value is greater than that of z-test. This is because the Student t-distributions generally have wider bell curves than the standard normal distribution (from the z-test). As the sample size (i.e., degree of freedom) increases, the bell curve of t-distribution will get narrower and approach that of a standard normal distribution. Therefore, for the same distance away from the mean, the area under bell curve tails of a t-distribution would be greater than that from a z-statistic. \n",
    "</div>"
   ]
  },
  {
   "cell_type": "markdown",
   "metadata": {
    "collapsed": true
   },
   "source": [
    "## Q4. Draw a small sample of size 10 from the data and repeat both frequentist tests.\n",
    "* Which one is the correct one to use?\n",
    "* What do you notice? What does this tell you about the difference in application of the  t and z statistic?"
   ]
  },
  {
   "cell_type": "code",
   "execution_count": 138,
   "metadata": {
    "collapsed": true
   },
   "outputs": [],
   "source": [
    "# Draw 10 samples from the data\n",
    "sample = np.random.choice(df['temperatureC'], size = 10)\n",
    "\n",
    "# Calculate the sample mean\n",
    "sample_mean = np.mean(sample)\n",
    "\n",
    "# The sample standard deviation\n",
    "sample_sd = np.std(sample)"
   ]
  },
  {
   "cell_type": "markdown",
   "metadata": {},
   "source": [
    "__z-test__"
   ]
  },
  {
   "cell_type": "code",
   "execution_count": 139,
   "metadata": {},
   "outputs": [
    {
     "data": {
      "text/plain": [
       "0.040908570838536724"
      ]
     },
     "execution_count": 139,
     "metadata": {},
     "output_type": "execute_result"
    }
   ],
   "source": [
    "# z-statistic\n",
    "z = (sample_mean - 37.0)/(sample_sd/np.sqrt(10))\n",
    "\n",
    "# Convert the z-score to p-value\n",
    "p = st.norm.cdf(z)\n",
    "p"
   ]
  },
  {
   "cell_type": "markdown",
   "metadata": {},
   "source": [
    "__t-test__"
   ]
  },
  {
   "cell_type": "code",
   "execution_count": 140,
   "metadata": {},
   "outputs": [
    {
     "data": {
      "text/plain": [
       "0.0579038960504984"
      ]
     },
     "execution_count": 140,
     "metadata": {},
     "output_type": "execute_result"
    }
   ],
   "source": [
    "# t-statistic\n",
    "t = (sample_mean - 37.0)/(sample_sd/np.sqrt(10))\n",
    "\n",
    "# p-value\n",
    "pval = st.t.sf(np.abs(t), 10-1)\n",
    "pval"
   ]
  },
  {
   "cell_type": "markdown",
   "metadata": {},
   "source": [
    "<div class=\"span5 alert alert-success\">\n",
    "<p>In this case we only have a small sample size of 10, so the t-test would be the correct one to use. </p>\n",
    "<p>From the above calculations, the p-value of the t-test is greater than that of the z-test. This is as expected, since the t-test compensates the small sample size by increasing the probability in the tails of the t-distribution, thus reducing the chance of rejecting the null hypothesis, i.e., less likely to make an error by accepting the alternative hypothesis. \n",
    "</div>"
   ]
  },
  {
   "cell_type": "markdown",
   "metadata": {},
   "source": [
    "## Q5. At what temperature should we consider someone's temperature to be \"abnormal\"?\n",
    "* As in the previous example, try calculating everything using the boostrap approach, as well as the frequentist approach.\n",
    "* Start by computing the margin of error and confidence interval. When calculating the confidence interval, keep in mind that you should use the appropriate formula for one draw, and not N draws."
   ]
  },
  {
   "cell_type": "markdown",
   "metadata": {},
   "source": [
    "__Bootstrap approach__"
   ]
  },
  {
   "cell_type": "code",
   "execution_count": 25,
   "metadata": {
    "collapsed": true
   },
   "outputs": [],
   "source": [
    "# Function to draw bootstrap one sample from the data array, for n number of times.\n",
    "def draw_bs_1_sample(data, n=1):\n",
    "    \"\"\"Draw 1 bootstrap sample from data for n times .\"\"\"\n",
    "\n",
    "    # Initialize array of replicates: bs_rep\n",
    "    bs_rep = np.empty(n)\n",
    "\n",
    "    # Generate replicates\n",
    "    for i in range(n):\n",
    "        bs_rep[i] = np.random.choice(data, size=1)\n",
    "\n",
    "    return bs_rep"
   ]
  },
  {
   "cell_type": "code",
   "execution_count": 26,
   "metadata": {
    "collapsed": true
   },
   "outputs": [],
   "source": [
    "# Original data mean\n",
    "x_bar = np.mean(df.temperatureC)\n",
    "\n",
    "# Draw 1 bootstrap sample from the original data, repeat this for 10000 times and and store the result in x_star.\n",
    "x_star = draw_bs_1_sample(df.temperatureC, 10000)\n",
    "\n",
    "# Calculate the difference between each x_star and the original data mean\n",
    "delta = x_star - x_bar\n",
    "\n",
    "# Calculate the margin of error corresponding to 95% confidence interval\n",
    "delta_1, delta_2 = np.percentile(delta, [2.5, 97.5])"
   ]
  },
  {
   "cell_type": "code",
   "execution_count": 27,
   "metadata": {},
   "outputs": [
    {
     "name": "stdout",
     "output_type": "stream",
     "text": [
      "The confidence interval obtained from the bootstrap approach is: [36.11, 37.67].\n"
     ]
    }
   ],
   "source": [
    "# Calculate the 95% confidence interval\n",
    "boot_CI_low = x_bar - delta_2\n",
    "boot_CI_high = x_bar - delta_1\n",
    "print('The confidence interval obtained from the bootstrap approach is: [' + \\\n",
    "      str(round(boot_CI_low, 2)) + ', ' + str(round(boot_CI_high, 2)) + '].')"
   ]
  },
  {
   "cell_type": "markdown",
   "metadata": {},
   "source": [
    "__Frequentist approach__"
   ]
  },
  {
   "cell_type": "code",
   "execution_count": 28,
   "metadata": {},
   "outputs": [
    {
     "name": "stdout",
     "output_type": "stream",
     "text": [
      "The confidence interval obtained from the Frequentist approach is: [36.01, 37.6].\n"
     ]
    }
   ],
   "source": [
    "# The standard error of the mean, for 1 draw\n",
    "sem = np.std(df.temperatureC)\n",
    "\n",
    "# For a 95% confidence interval, the critical z-score is 1.96, then the margin of error is\n",
    "Mar = 1.96*sem\n",
    "\n",
    "# The 95% confidence interval\n",
    "CI_low = x_bar - Mar\n",
    "CI_high = x_bar + Mar\n",
    "\n",
    "print('The confidence interval obtained from the Frequentist approach is: [' + str(round(CI_low, 2)) + ', ' \\\n",
    "     + str(round(CI_high, 2)) + '].')"
   ]
  },
  {
   "cell_type": "code",
   "execution_count": 142,
   "metadata": {},
   "outputs": [
    {
     "data": {
      "image/png": "[encoded data removed]",
      "text/plain": [
       "<matplotlib.figure.Figure at 0x1129c0978>"
      ]
     },
     "metadata": {},
     "output_type": "display_data"
    }
   ],
   "source": [
    "df['temperatureC'].hist(bins = 25)\n",
    "plt.axvspan(36.1, 37.6, alpha=0.2, color='green')\n",
    "plt.legend(['normal temperature range', 'sample data'])\n",
    "plt.xlabel('Temperature ($^{\\circ}C)$')\n",
    "plt.ylabel('Frequency')\n",
    "plt.show()"
   ]
  },
  {
   "cell_type": "markdown",
   "metadata": {
    "collapsed": true
   },
   "source": [
    "<div class=\"span5 alert alert-success\">\n",
    "<p>If someone's body temperature is outside the range of [36.1, 37.6] degree C, then it is considered 'abnormal'. </p>\n",
    "</div>"
   ]
  },
  {
   "cell_type": "markdown",
   "metadata": {},
   "source": [
    "## Q6. Is there a significant difference between males and females in normal temperature?\n",
    "* What testing approach did you use and why?\n",
    "* Write a story with your conclusion in the context of the original problem."
   ]
  },
  {
   "cell_type": "code",
   "execution_count": 30,
   "metadata": {},
   "outputs": [
    {
     "name": "stdout",
     "output_type": "stream",
     "text": [
      "The difference between the sample means of male and female temperature data is: -0.16 degree C.\n",
      "Male data: n = 65\n",
      "Female data: n = 65\n"
     ]
    }
   ],
   "source": [
    "# Extract male and female data\n",
    "df_m = df[df.gender == 'M']\n",
    "df_f = df[df.gender == 'F']\n",
    "\n",
    "# Mean and standard deviation of the data\n",
    "df_m_mean = np.mean(df_m.temperatureC)\n",
    "df_f_mean = np.mean(df_f.temperatureC)\n",
    "df_m_std = np.std(df_m.temperatureC)\n",
    "df_f_std = np.std(df_f.temperatureC)\n",
    "\n",
    "# Difference between the sample means of male and female data\n",
    "diff = df_m_mean - df_f_mean\n",
    "print('The difference between the sample means of male and female temperature data is: ' + \\\n",
    "      str(round(diff, 2)) + ' degree C.')\n",
    "\n",
    "# Sample size\n",
    "n_m = len(df_m)\n",
    "n_f = len(df_f)\n",
    "print('Male data: n = ' + str(n_m))\n",
    "print('Female data: n = ' + str(n_f))"
   ]
  },
  {
   "cell_type": "code",
   "execution_count": 143,
   "metadata": {},
   "outputs": [
    {
     "data": {
      "image/png": "[encoded data removed]",
      "text/plain": [
       "<matplotlib.figure.Figure at 0x113fa07b8>"
      ]
     },
     "metadata": {},
     "output_type": "display_data"
    }
   ],
   "source": [
    "bins_m = int(np.sqrt(n_m))\n",
    "\n",
    "# Plot the distribution of male and female temperature data\n",
    "df_m['temperatureC'].hist(bins = bins_m, color = 'blue')\n",
    "df_f['temperatureC'].hist(bins = bins_m, color = 'red', alpha = 0.2)\n",
    "plt.legend(['Male', 'Female'])\n",
    "plt.xlabel('Temperature ($^{\\circ}C)$')\n",
    "plt.ylabel('Frequency')\n",
    "plt.xlim([35.5, 38.5])\n",
    "plt.ylim([0, 18])\n",
    "plt.show()"
   ]
  },
  {
   "cell_type": "markdown",
   "metadata": {
    "collapsed": true
   },
   "source": [
    "__Calculate the confidence interval for diff using Frequentist approach__\n",
    "\n",
    "Reason: The sample size of the data is quite large, i.e., n = 65 for both male and female data. Secondly, the histograms show that the sample distributions are unimodal and symmetric.\n",
    "\n",
    "Let's define the null and alternative hypotheses: \n",
    "\n",
    "            H0: there is no difference between male and female temperature. \n",
    "            Ha: there IS difference between male and female temperature.\n",
    "            \n",
    "Significance level is assumed to be 0.05. "
   ]
  },
  {
   "cell_type": "code",
   "execution_count": 32,
   "metadata": {},
   "outputs": [
    {
     "data": {
      "text/plain": [
       "0.010633225915052637"
      ]
     },
     "execution_count": 32,
     "metadata": {},
     "output_type": "execute_result"
    }
   ],
   "source": [
    "# The standard error of the mean\n",
    "diff_sem = np.sqrt(df_m_std**2/n_m + df_f_std**2/n_f)\n",
    "\n",
    "# z-statistic\n",
    "z = (diff - 0)/diff_sem\n",
    "\n",
    "# Convert the z-score to p-value\n",
    "p = st.norm.cdf(z)\n",
    "p"
   ]
  },
  {
   "cell_type": "markdown",
   "metadata": {},
   "source": [
    "<div class=\"span5 alert alert-success\">\n",
    "<p>The calculated p-value is 0.01, which is less than the pre-set significance level of 0.05, so we reject the null hypothesis and accept the hypothesis that there is a difference between male and female body temperatures.\n",
    "</div>"
   ]
  },
  {
   "cell_type": "code",
   "execution_count": 33,
   "metadata": {},
   "outputs": [
    {
     "name": "stdout",
     "output_type": "stream",
     "text": [
      "The confidence interval obtained from the Frequentist approach is: [-0.3, -0.02].\n"
     ]
    }
   ],
   "source": [
    "# For a 95% confidence interval, the critical z-score is 1.96, then the margin of error is\n",
    "diff_Mar = 1.96*diff_sem\n",
    "\n",
    "# The 95% confidence interval\n",
    "diff_CI_low = diff - diff_Mar\n",
    "diff_CI_high = diff + diff_Mar\n",
    "\n",
    "print('The confidence interval obtained from the Frequentist approach is: [' + \\\n",
    "      str(round(diff_CI_low, 2)) + ', ' + str(round(diff_CI_high, 2)) \\\n",
    "      + '].')"
   ]
  },
  {
   "cell_type": "markdown",
   "metadata": {},
   "source": [
    "## Data Story"
   ]
  },
  {
   "cell_type": "markdown",
   "metadata": {},
   "source": [
    "__The mean normal body temperature was held to be 37$^{\\circ}$C or 98.6$^{\\circ}$F for more than 120 years since it was first conceptualized and reported by Carl Wunderlich in a famous 1868 book. But, is this value statistically correct?__"
   ]
  },
  {
   "cell_type": "markdown",
   "metadata": {},
   "source": [
    "<div class=\"span5 alert alert-success\">\n",
    "<p>The plot below shows a comparison of simulated bootstrap temperature with assumed mean of 37.0, together with the actual data mean of 36.8. The large distance between the two (in fact, they are so far apart that even the tail of the simulated temperature does not encompass the data mean of 36.8), suggests that the assumption of mean body temperature being 37.0$^{\\circ}$C is likely to be false.\n",
    "\n",
    "<p>This is also confirmed by the very small p-value calculated: 2.17e-08. \n",
    "</div>"
   ]
  },
  {
   "cell_type": "code",
   "execution_count": 144,
   "metadata": {},
   "outputs": [
    {
     "data": {
      "image/png": "[encoded data removed]",
      "text/plain": [
       "<matplotlib.figure.Figure at 0x113f42a90>"
      ]
     },
     "metadata": {},
     "output_type": "display_data"
    }
   ],
   "source": [
    "plt.hist(bs_replicates, bins=20);\n",
    "plt.axvline(36.805, color = 'red')\n",
    "plt.legend(['mean of data', 'simulated bootstrap temperature with assumed mean of 37.0'])\n",
    "plt.xlabel('Bootstrap temperature ($^{\\circ}C)$')\n",
    "plt.ylabel('Frequency')\n",
    "plt.show()"
   ]
  },
  {
   "cell_type": "markdown",
   "metadata": {
    "collapsed": true
   },
   "source": [
    "### Abnormal body temperature?"
   ]
  },
  {
   "cell_type": "markdown",
   "metadata": {},
   "source": [
    "<div class=\"span5 alert alert-success\">\n",
    "<p>If someone's body temperature is outside the range of [36.1, 37.6]$^{\\circ}$C (which is the 95% confidence interval of body temperatures from this dataset), then it is considered 'abnormal'. See chart below for illustration.\n",
    "</div>"
   ]
  },
  {
   "cell_type": "code",
   "execution_count": 145,
   "metadata": {},
   "outputs": [
    {
     "data": {
      "image/png": "[encoded data removed]",
      "text/plain": [
       "<matplotlib.figure.Figure at 0x114123668>"
      ]
     },
     "metadata": {},
     "output_type": "display_data"
    }
   ],
   "source": [
    "samples = np.random.normal(mu, sigma, 20000)\n",
    "plt.hist(samples, bins = 30)\n",
    "plt.axvspan(36.1, 37.6, alpha=0.2, color='green')\n",
    "plt.legend(['normal temperature range', 'simulated data with mean temperature = 36.80 degree C'])\n",
    "plt.xlabel('Temperature ($^{\\circ}C)$')\n",
    "plt.ylabel('Frequency')\n",
    "plt.show()"
   ]
  },
  {
   "cell_type": "markdown",
   "metadata": {},
   "source": [
    "### Women have higher body temperatures than men. "
   ]
  },
  {
   "cell_type": "code",
   "execution_count": 146,
   "metadata": {},
   "outputs": [
    {
     "data": {
      "image/png": "[encoded data removed]",
      "text/plain": [
       "<matplotlib.figure.Figure at 0x113fb9400>"
      ]
     },
     "metadata": {},
     "output_type": "display_data"
    }
   ],
   "source": [
    "bins_m = int(np.sqrt(n_m))\n",
    "\n",
    "# Plot the distribution of male and female temperature data\n",
    "df_m['temperatureC'].hist(bins = bins_m, color = 'blue')\n",
    "df_f['temperatureC'].hist(bins = bins_m, color = 'red', alpha = 0.2)\n",
    "plt.legend(['Male (sample size = 65)', 'Female (sample size = 65)'])\n",
    "plt.title('Raw data of measured male and female body temperatures')\n",
    "plt.xlabel('Temperature ($^{\\circ}C)$')\n",
    "plt.ylabel('Frequency')\n",
    "plt.xlim([35.5, 38.5])\n",
    "plt.ylim([0, 18])\n",
    "plt.show()"
   ]
  },
  {
   "cell_type": "markdown",
   "metadata": {},
   "source": [
    "<div class=\"span5 alert alert-success\">\n",
    "<p>The boxplot below shows the median and interquartile ranges of the measured female and male body temperatures.\n",
    "</div>"
   ]
  },
  {
   "cell_type": "code",
   "execution_count": 133,
   "metadata": {},
   "outputs": [
    {
     "data": {
      "image/png": "[encoded data removed]",
      "text/plain": [
       "<matplotlib.figure.Figure at 0x1130e1710>"
      ]
     },
     "metadata": {},
     "output_type": "display_data"
    }
   ],
   "source": [
    "temp = pd.DataFrame({'male': df_m.temperatureC, 'female': df_f.temperatureC})\n",
    "\n",
    "#plt.subplot(121)\n",
    "ax1 = sns.boxplot(temp, whis = [5, 95], width = 0.2)\n",
    "#plt.annotate('upper quartile', xy=(1.05, 37.05), xytext=(1.05, 37.05))\n",
    "#plt.annotate('lower quartile', xy=(1.05, 36.34), xytext=(1.05, 36.34))\n",
    "plt.title('Boxplot comparing female and male temperature data')\n",
    "plt.ylabel('measured temperature ($^{\\circ}C)$)')\n",
    "\n",
    "#plt.subplot(122)\n",
    "ax2 = plt.axes([0.85, 0.5, 0.2, 0.3])\n",
    "# error bars\n",
    "plt.errorbar(x=1, y=diff, yerr = diff_Mar, fmt='or')\n",
    "plt.title('$T_{men} - T_{women} (^{\\circ}C)$: \\nMean and 95% confidence interval')\n",
    "ax2.yaxis.tick_right()\n",
    "plt.yticks([0, -0.1, -0.2, -0.3])\n",
    "# Turn off tick labels\n",
    "ax2.set_xticklabels([])\n",
    "\n",
    "plt.show()"
   ]
  }
 ],
 "metadata": {
  "kernelspec": {
   "display_name": "Python 3",
   "language": "python",
   "name": "python3"
  },
  "language_info": {
   "codemirror_mode": {
    "name": "ipython",
    "version": 3
   },
   "file_extension": ".py",
   "mimetype": "text/x-python",
   "name": "python",
   "nbconvert_exporter": "python",
   "pygments_lexer": "ipython3",
   "version": "3.6.1"
  }
 },
 "nbformat": 4,
 "nbformat_minor": 1
}
