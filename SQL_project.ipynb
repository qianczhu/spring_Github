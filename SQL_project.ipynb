{
 "cells": [
  {
   "cell_type": "code",
   "execution_count": 85,
   "metadata": {
    "collapsed": true
   },
   "outputs": [],
   "source": [
    "import sqlite3\n",
    "import pandas as pd\n",
    "import csv\n",
    "from sqlite3 import Error\n",
    "\n",
    "# hide warnings\n",
    "import warnings\n",
    "warnings.filterwarnings('ignore')"
   ]
  },
  {
   "cell_type": "markdown",
   "metadata": {},
   "source": [
    "### Creating Tables for the database"
   ]
  },
  {
   "cell_type": "code",
   "execution_count": 86,
   "metadata": {
    "collapsed": true
   },
   "outputs": [],
   "source": [
    "# Bookings table:\n",
    "df = pd.read_csv('Bookings.csv')\n",
    "df.columns = ['bookid', 'facid', 'memid', 'starttime', 'slots']\n",
    "df.to_csv('Bookings.csv', index=False) "
   ]
  },
  {
   "cell_type": "code",
   "execution_count": 87,
   "metadata": {
    "collapsed": true
   },
   "outputs": [],
   "source": [
    "# Facilities table:\n",
    "df_F = pd.read_csv('Facilities.csv')\n",
    "df_F.columns = ['facid', 'name', 'membercost', 'guestcost', 'initialoutlay', 'monthlymaintenance']\n",
    "df_F.to_csv('Facilities.csv', index=False) "
   ]
  },
  {
   "cell_type": "code",
   "execution_count": 88,
   "metadata": {
    "collapsed": true
   },
   "outputs": [],
   "source": [
    "# Members table:\n",
    "df_M = pd.read_csv('Members.csv')\n",
    "df_M.columns = ['memid', 'surname', 'firstname', 'address', 'zipcode', 'telephone', 'recommendedby', 'joindate']\n",
    "df_M.to_csv('Members.csv', index=False) "
   ]
  },
  {
   "cell_type": "markdown",
   "metadata": {},
   "source": [
    "### Dump the csv into a local database called 'club.db'"
   ]
  },
  {
   "cell_type": "code",
   "execution_count": 89,
   "metadata": {},
   "outputs": [
    {
     "name": "stdout",
     "output_type": "stream",
     "text": [
      "\u001b[?25l  [############------------------------]   33%Error on table Bookings: \n",
      " table [Bookings] already exists\n",
      "\u001b[?25l  [########################------------]   66%Error on table Facilities: \n",
      " table [Facilities] already exists\n",
      "\u001b[?25l  [####################################]  100%Error on table Members: \n",
      " table [Members] already exists\n",
      "\u001b[?25h\n",
      "Written 0 rows into 3 tables in 0.019 seconds\n"
     ]
    }
   ],
   "source": [
    "!csv-to-sqlite -f Bookings.csv -f Facilities.csv -f Members.csv -o club.db"
   ]
  },
  {
   "cell_type": "code",
   "execution_count": 90,
   "metadata": {},
   "outputs": [
    {
     "name": "stdout",
     "output_type": "stream",
     "text": [
      "1520094343_sql_project.sql Members.csv\r\n",
      "Bookings.csv               SQL_project.ipynb\r\n",
      "Facilities.csv             club.db\r\n"
     ]
    }
   ],
   "source": [
    "!ls"
   ]
  },
  {
   "cell_type": "markdown",
   "metadata": {},
   "source": [
    "### Connect to the database"
   ]
  },
  {
   "cell_type": "code",
   "execution_count": 91,
   "metadata": {
    "collapsed": true
   },
   "outputs": [],
   "source": [
    "con = sqlite3.connect('club.db')\n",
    "c = con.cursor()"
   ]
  },
  {
   "cell_type": "markdown",
   "metadata": {},
   "source": [
    "### Q1: Some of the facilities charge a fee to members, but some do not. Please list the names of the facilities that do."
   ]
  },
  {
   "cell_type": "code",
   "execution_count": 92,
   "metadata": {},
   "outputs": [
    {
     "data": {
      "text/plain": [
       "0    Tennis Court 2\n",
       "1    Massage Room 1\n",
       "2    Massage Room 2\n",
       "3      Squash Court\n",
       "Name: 1, dtype: object"
      ]
     },
     "execution_count": 92,
     "metadata": {},
     "output_type": "execute_result"
    }
   ],
   "source": [
    "rs = c.execute(\"SELECT * FROM Facilities WHERE membercost > 0\")\n",
    "df3 = pd.DataFrame(rs.fetchall())\n",
    "df3.iloc[:,1]"
   ]
  },
  {
   "cell_type": "markdown",
   "metadata": {},
   "source": [
    "### Q2: How many facilities do not charge a fee to members?"
   ]
  },
  {
   "cell_type": "code",
   "execution_count": 93,
   "metadata": {},
   "outputs": [
    {
     "name": "stdout",
     "output_type": "stream",
     "text": [
      "   0\n",
      "0  4 facilities\n"
     ]
    }
   ],
   "source": [
    "rs = c.execute(\"SELECT count(*) FROM Facilities WHERE membercost = 0\")\n",
    "df3 = pd.DataFrame(rs.fetchall())\n",
    "print(str(df3) + ' facilities')"
   ]
  },
  {
   "cell_type": "markdown",
   "metadata": {},
   "source": [
    "### Q3: How can you produce a list of facilities that charge a fee to members, where the fee is less than 20% of the facility's monthly maintenance cost? Return the facid, facility name, member cost, and monthly maintenance of the facilities in question."
   ]
  },
  {
   "cell_type": "code",
   "execution_count": 113,
   "metadata": {
    "collapsed": true
   },
   "outputs": [],
   "source": [
    "rs = c.execute(\"SELECT facid, name, membercost, monthlymaintenance,  \\\n",
    "               CASE WHEN membercost > 0 AND membercost < 0.2*monthlymaintenance THEN 'yes'\\\n",
    "               ELSE NULL END AS facilities_charged \\\n",
    "               FROM Facilities\")\n",
    "df3 = pd.DataFrame(rs.fetchall())"
   ]
  },
  {
   "cell_type": "code",
   "execution_count": 116,
   "metadata": {},
   "outputs": [
    {
     "data": {
      "text/html": [
       "<div>\n",
       "<style>\n",
       "    .dataframe thead tr:only-child th {\n",
       "        text-align: right;\n",
       "    }\n",
       "\n",
       "    .dataframe thead th {\n",
       "        text-align: left;\n",
       "    }\n",
       "\n",
       "    .dataframe tbody tr th {\n",
       "        vertical-align: top;\n",
       "    }\n",
       "</style>\n",
       "<table border=\"1\" class=\"dataframe\">\n",
       "  <thead>\n",
       "    <tr style=\"text-align: right;\">\n",
       "      <th></th>\n",
       "      <th>facid</th>\n",
       "      <th>facility_name</th>\n",
       "      <th>member_cost</th>\n",
       "      <th>monthly_maintainance</th>\n",
       "    </tr>\n",
       "  </thead>\n",
       "  <tbody>\n",
       "    <tr>\n",
       "      <th>0</th>\n",
       "      <td>1</td>\n",
       "      <td>Tennis Court 2</td>\n",
       "      <td>5.0</td>\n",
       "      <td>200</td>\n",
       "    </tr>\n",
       "    <tr>\n",
       "      <th>3</th>\n",
       "      <td>4</td>\n",
       "      <td>Massage Room 1</td>\n",
       "      <td>9.9</td>\n",
       "      <td>3000</td>\n",
       "    </tr>\n",
       "    <tr>\n",
       "      <th>4</th>\n",
       "      <td>5</td>\n",
       "      <td>Massage Room 2</td>\n",
       "      <td>9.9</td>\n",
       "      <td>3000</td>\n",
       "    </tr>\n",
       "    <tr>\n",
       "      <th>5</th>\n",
       "      <td>6</td>\n",
       "      <td>Squash Court</td>\n",
       "      <td>3.5</td>\n",
       "      <td>80</td>\n",
       "    </tr>\n",
       "  </tbody>\n",
       "</table>\n",
       "</div>"
      ],
      "text/plain": [
       "   facid   facility_name  member_cost  monthly_maintainance\n",
       "0      1  Tennis Court 2          5.0                   200\n",
       "3      4  Massage Room 1          9.9                  3000\n",
       "4      5  Massage Room 2          9.9                  3000\n",
       "5      6    Squash Court          3.5                    80"
      ]
     },
     "execution_count": 116,
     "metadata": {},
     "output_type": "execute_result"
    }
   ],
   "source": [
    "df4 = df3[df3.iloc[:,4] == 'yes']\n",
    "df4.columns = ['facid', 'facility_name', 'member_cost', 'monthly_maintainance', 'is_charged']\n",
    "df4.iloc[:, 0:4]"
   ]
  },
  {
   "cell_type": "markdown",
   "metadata": {},
   "source": [
    "### Q4: How can you retrieve the details of facilities with ID 1 and 5? Write the query without using the OR operator."
   ]
  },
  {
   "cell_type": "code",
   "execution_count": 119,
   "metadata": {
    "collapsed": true
   },
   "outputs": [],
   "source": [
    "rs = c.execute(\"SELECT * \\\n",
    "                FROM Facilities \\\n",
    "                WHERE facid IN (1, 5)\")\n",
    "df3 = pd.DataFrame(rs.fetchall())"
   ]
  },
  {
   "cell_type": "code",
   "execution_count": 120,
   "metadata": {},
   "outputs": [
    {
     "data": {
      "text/html": [
       "<div>\n",
       "<style>\n",
       "    .dataframe thead tr:only-child th {\n",
       "        text-align: right;\n",
       "    }\n",
       "\n",
       "    .dataframe thead th {\n",
       "        text-align: left;\n",
       "    }\n",
       "\n",
       "    .dataframe tbody tr th {\n",
       "        vertical-align: top;\n",
       "    }\n",
       "</style>\n",
       "<table border=\"1\" class=\"dataframe\">\n",
       "  <thead>\n",
       "    <tr style=\"text-align: right;\">\n",
       "      <th></th>\n",
       "      <th>facid</th>\n",
       "      <th>name</th>\n",
       "      <th>membercost</th>\n",
       "      <th>guestcost</th>\n",
       "      <th>initialoutlay</th>\n",
       "      <th>monthlymaintenance</th>\n",
       "    </tr>\n",
       "  </thead>\n",
       "  <tbody>\n",
       "    <tr>\n",
       "      <th>0</th>\n",
       "      <td>1</td>\n",
       "      <td>Tennis Court 2</td>\n",
       "      <td>5.0</td>\n",
       "      <td>25.0</td>\n",
       "      <td>8000</td>\n",
       "      <td>200</td>\n",
       "    </tr>\n",
       "    <tr>\n",
       "      <th>1</th>\n",
       "      <td>5</td>\n",
       "      <td>Massage Room 2</td>\n",
       "      <td>9.9</td>\n",
       "      <td>80.0</td>\n",
       "      <td>4000</td>\n",
       "      <td>3000</td>\n",
       "    </tr>\n",
       "  </tbody>\n",
       "</table>\n",
       "</div>"
      ],
      "text/plain": [
       "   facid            name  membercost  guestcost  initialoutlay  \\\n",
       "0      1  Tennis Court 2         5.0       25.0           8000   \n",
       "1      5  Massage Room 2         9.9       80.0           4000   \n",
       "\n",
       "   monthlymaintenance  \n",
       "0                 200  \n",
       "1                3000  "
      ]
     },
     "execution_count": 120,
     "metadata": {},
     "output_type": "execute_result"
    }
   ],
   "source": [
    "df3.columns = ['facid', 'name', 'membercost', 'guestcost', 'initialoutlay', 'monthlymaintenance']\n",
    "df3"
   ]
  },
  {
   "cell_type": "markdown",
   "metadata": {},
   "source": [
    "### Q5: How can you produce a list of facilities, with each labelled as 'cheap' or 'expensive', depending on if their monthly maintenance cost is more than $100? Return the name and monthly maintenance of the facilities in question."
   ]
  },
  {
   "cell_type": "code",
   "execution_count": 98,
   "metadata": {
    "collapsed": true
   },
   "outputs": [],
   "source": [
    "rs = c.execute(\"SELECT name, monthlymaintenance,  \\\n",
    "               CASE WHEN monthlymaintenance > 1000 THEN 'expensive'\\\n",
    "               ELSE 'cheap' END AS expensive_facilities \\\n",
    "               FROM Facilities\")\n",
    "df3 = pd.DataFrame(rs.fetchall())"
   ]
  },
  {
   "cell_type": "code",
   "execution_count": 99,
   "metadata": {},
   "outputs": [
    {
     "data": {
      "text/html": [
       "<div>\n",
       "<style>\n",
       "    .dataframe thead tr:only-child th {\n",
       "        text-align: right;\n",
       "    }\n",
       "\n",
       "    .dataframe thead th {\n",
       "        text-align: left;\n",
       "    }\n",
       "\n",
       "    .dataframe tbody tr th {\n",
       "        vertical-align: top;\n",
       "    }\n",
       "</style>\n",
       "<table border=\"1\" class=\"dataframe\">\n",
       "  <thead>\n",
       "    <tr style=\"text-align: right;\">\n",
       "      <th></th>\n",
       "      <th>0</th>\n",
       "      <th>1</th>\n",
       "      <th>2</th>\n",
       "    </tr>\n",
       "  </thead>\n",
       "  <tbody>\n",
       "    <tr>\n",
       "      <th>0</th>\n",
       "      <td>Tennis Court 2</td>\n",
       "      <td>200</td>\n",
       "      <td>cheap</td>\n",
       "    </tr>\n",
       "    <tr>\n",
       "      <th>1</th>\n",
       "      <td>Badminton Court</td>\n",
       "      <td>50</td>\n",
       "      <td>cheap</td>\n",
       "    </tr>\n",
       "    <tr>\n",
       "      <th>2</th>\n",
       "      <td>Table Tennis</td>\n",
       "      <td>10</td>\n",
       "      <td>cheap</td>\n",
       "    </tr>\n",
       "    <tr>\n",
       "      <th>3</th>\n",
       "      <td>Massage Room 1</td>\n",
       "      <td>3000</td>\n",
       "      <td>expensive</td>\n",
       "    </tr>\n",
       "    <tr>\n",
       "      <th>4</th>\n",
       "      <td>Massage Room 2</td>\n",
       "      <td>3000</td>\n",
       "      <td>expensive</td>\n",
       "    </tr>\n",
       "    <tr>\n",
       "      <th>5</th>\n",
       "      <td>Squash Court</td>\n",
       "      <td>80</td>\n",
       "      <td>cheap</td>\n",
       "    </tr>\n",
       "    <tr>\n",
       "      <th>6</th>\n",
       "      <td>Snooker Table</td>\n",
       "      <td>15</td>\n",
       "      <td>cheap</td>\n",
       "    </tr>\n",
       "    <tr>\n",
       "      <th>7</th>\n",
       "      <td>Pool Table</td>\n",
       "      <td>15</td>\n",
       "      <td>cheap</td>\n",
       "    </tr>\n",
       "  </tbody>\n",
       "</table>\n",
       "</div>"
      ],
      "text/plain": [
       "                 0     1          2\n",
       "0   Tennis Court 2   200      cheap\n",
       "1  Badminton Court    50      cheap\n",
       "2     Table Tennis    10      cheap\n",
       "3   Massage Room 1  3000  expensive\n",
       "4   Massage Room 2  3000  expensive\n",
       "5     Squash Court    80      cheap\n",
       "6    Snooker Table    15      cheap\n",
       "7       Pool Table    15      cheap"
      ]
     },
     "execution_count": 99,
     "metadata": {},
     "output_type": "execute_result"
    }
   ],
   "source": [
    "df3"
   ]
  },
  {
   "cell_type": "markdown",
   "metadata": {
    "collapsed": true
   },
   "source": [
    "### Q6: You'd like to get the first and last name of the last member(s) who signed up. Do not use the LIMIT clause for your solution. "
   ]
  },
  {
   "cell_type": "code",
   "execution_count": 100,
   "metadata": {
    "collapsed": true
   },
   "outputs": [],
   "source": [
    "rs = c.execute(\"SELECT firstname, surname \\\n",
    "                FROM Members \\\n",
    "                ORDER BY joindate\")\n",
    "df3 = pd.DataFrame(rs.fetchall())"
   ]
  },
  {
   "cell_type": "code",
   "execution_count": 101,
   "metadata": {},
   "outputs": [
    {
     "data": {
      "text/plain": [
       "0    Darren\n",
       "1     Smith\n",
       "Name: 29, dtype: object"
      ]
     },
     "execution_count": 101,
     "metadata": {},
     "output_type": "execute_result"
    }
   ],
   "source": [
    "df3.iloc[-1,:]"
   ]
  },
  {
   "cell_type": "markdown",
   "metadata": {},
   "source": [
    "### Q7: How can you produce a list of all members who have used a tennis court?\n",
    "Include in your output the name of the court, and the name of the member\n",
    "formatted as a single column. Ensure no duplicate data, and order by\n",
    "the member name."
   ]
  },
  {
   "cell_type": "code",
   "execution_count": 102,
   "metadata": {
    "collapsed": true
   },
   "outputs": [],
   "source": [
    "# Filter to get the 'facid\" of Tennis Court from the Facilities table:\n",
    "rs = c.execute(\"SELECT facid \\\n",
    "                FROM Facilities \\\n",
    "                WHERE name LIKE 'Tennis Court%'\")\n",
    "df_facid = pd.DataFrame(rs.fetchall())"
   ]
  },
  {
   "cell_type": "code",
   "execution_count": 103,
   "metadata": {},
   "outputs": [
    {
     "data": {
      "text/html": [
       "<div>\n",
       "<style>\n",
       "    .dataframe thead tr:only-child th {\n",
       "        text-align: right;\n",
       "    }\n",
       "\n",
       "    .dataframe thead th {\n",
       "        text-align: left;\n",
       "    }\n",
       "\n",
       "    .dataframe tbody tr th {\n",
       "        vertical-align: top;\n",
       "    }\n",
       "</style>\n",
       "<table border=\"1\" class=\"dataframe\">\n",
       "  <thead>\n",
       "    <tr style=\"text-align: right;\">\n",
       "      <th></th>\n",
       "      <th>0</th>\n",
       "    </tr>\n",
       "  </thead>\n",
       "  <tbody>\n",
       "    <tr>\n",
       "      <th>0</th>\n",
       "      <td>1</td>\n",
       "    </tr>\n",
       "  </tbody>\n",
       "</table>\n",
       "</div>"
      ],
      "text/plain": [
       "   0\n",
       "0  1"
      ]
     },
     "execution_count": 103,
     "metadata": {},
     "output_type": "execute_result"
    }
   ],
   "source": [
    "df_facid"
   ]
  },
  {
   "cell_type": "code",
   "execution_count": 104,
   "metadata": {
    "collapsed": true
   },
   "outputs": [],
   "source": [
    "# Select DISTINCT members who used facid = 1:\n",
    "rs = c.execute(\"SELECT DISTINCT members.surname AS members_surname, \\\n",
    "                    members.firstname AS members_firstname \\\n",
    "                FROM Bookings bookings \\\n",
    "                INNER JOIN Members members \\\n",
    "                ON members.memid = bookings.memid \\\n",
    "                WHERE bookings.facid = 1 \\\n",
    "                ORDER BY members.surname\")\n",
    "df3 = pd.DataFrame(rs.fetchall())"
   ]
  },
  {
   "cell_type": "code",
   "execution_count": 105,
   "metadata": {},
   "outputs": [
    {
     "data": {
      "text/plain": [
       "0        Tennis Court 2: Bader Florence\n",
       "1            Tennis Court 2: Baker Anne\n",
       "2         Tennis Court 2: Baker Timothy\n",
       "3            Tennis Court 2: Boothe Tim\n",
       "4        Tennis Court 2: Butters Gerald\n",
       "5            Tennis Court 2: Dare Nancy\n",
       "6        Tennis Court 2: Farrell Jemima\n",
       "7         Tennis Court 2: Farrell David\n",
       "8             Tennis Court 2: Hunt John\n",
       "9           Tennis Court 2: Jones David\n",
       "10      Tennis Court 2: Joplette Janice\n",
       "11         Tennis Court 2: Owen Charles\n",
       "12    Tennis Court 2: Purview Millicent\n",
       "13           Tennis Court 2: Rownam Tim\n",
       "14     Tennis Court 2: Rumney Henrietta\n",
       "15     Tennis Court 2: Sarwin Ramnaresh\n",
       "16         Tennis Court 2: Smith Darren\n",
       "17          Tennis Court 2: Smith Tracy\n",
       "18           Tennis Court 2: Smith Jack\n",
       "19      Tennis Court 2: Stibbons Ponder\n",
       "20         Tennis Court 2: Tracy Burton\n",
       "dtype: object"
      ]
     },
     "execution_count": 105,
     "metadata": {},
     "output_type": "execute_result"
    }
   ],
   "source": [
    "'Tennis Court 2: ' + df3.iloc[:,0] + ' ' + df3.iloc[:,1]"
   ]
  },
  {
   "cell_type": "markdown",
   "metadata": {},
   "source": [
    "### Q8: How can you produce a list of bookings on the day of 2012-09-14 which will cost the member (or guest) more than $30? \n",
    "Remember that guests have\n",
    "different costs to members (the listed costs are per half-hour 'slot'), and\n",
    "the guest user's ID is always 0. Include in your output the name of the\n",
    "facility, the name of the member formatted as a single column, and the cost.\n",
    "Order by descending cost, and do not use any subqueries."
   ]
  },
  {
   "cell_type": "code",
   "execution_count": 106,
   "metadata": {
    "collapsed": true
   },
   "outputs": [],
   "source": [
    "rs = c.execute(\"SELECT facilities.name, bookings.memid, facilities.membercost, facilities.guestcost, bookings.slots, \\\n",
    "               CASE WHEN bookings.memid = 0 THEN facilities.guestcost*bookings.slots \\\n",
    "               ELSE facilities.membercost END AS booking_cost \\\n",
    "               FROM Bookings bookings \\\n",
    "               JOIN Facilities facilities \\\n",
    "               ON Bookings.facid = Facilities.facid \\\n",
    "               WHERE bookings.starttime LIKE '2012-09-14%' \")\n",
    "               \n",
    "df3 = pd.DataFrame(rs.fetchall())"
   ]
  },
  {
   "cell_type": "code",
   "execution_count": 107,
   "metadata": {},
   "outputs": [
    {
     "data": {
      "text/html": [
       "<div>\n",
       "<style>\n",
       "    .dataframe thead tr:only-child th {\n",
       "        text-align: right;\n",
       "    }\n",
       "\n",
       "    .dataframe thead th {\n",
       "        text-align: left;\n",
       "    }\n",
       "\n",
       "    .dataframe tbody tr th {\n",
       "        vertical-align: top;\n",
       "    }\n",
       "</style>\n",
       "<table border=\"1\" class=\"dataframe\">\n",
       "  <thead>\n",
       "    <tr style=\"text-align: right;\">\n",
       "      <th></th>\n",
       "      <th>fac_name</th>\n",
       "      <th>memid</th>\n",
       "      <th>membercost</th>\n",
       "      <th>guestcost</th>\n",
       "      <th>slots</th>\n",
       "      <th>this_cost</th>\n",
       "    </tr>\n",
       "  </thead>\n",
       "  <tbody>\n",
       "    <tr>\n",
       "      <th>0</th>\n",
       "      <td>Tennis Court 2</td>\n",
       "      <td>11</td>\n",
       "      <td>5.0</td>\n",
       "      <td>25.0</td>\n",
       "      <td>6</td>\n",
       "      <td>5.0</td>\n",
       "    </tr>\n",
       "    <tr>\n",
       "      <th>1</th>\n",
       "      <td>Tennis Court 2</td>\n",
       "      <td>8</td>\n",
       "      <td>5.0</td>\n",
       "      <td>25.0</td>\n",
       "      <td>6</td>\n",
       "      <td>5.0</td>\n",
       "    </tr>\n",
       "  </tbody>\n",
       "</table>\n",
       "</div>"
      ],
      "text/plain": [
       "         fac_name  memid  membercost  guestcost  slots  this_cost\n",
       "0  Tennis Court 2     11         5.0       25.0      6        5.0\n",
       "1  Tennis Court 2      8         5.0       25.0      6        5.0"
      ]
     },
     "execution_count": 107,
     "metadata": {},
     "output_type": "execute_result"
    }
   ],
   "source": [
    "df3.columns = ['fac_name', 'memid', 'membercost', 'guestcost', 'slots', 'this_cost']\n",
    "df3.head(2)"
   ]
  },
  {
   "cell_type": "code",
   "execution_count": 108,
   "metadata": {},
   "outputs": [
    {
     "data": {
      "text/plain": [
       "23    Massage Room 2: guest 320.0\n",
       "14    Massage Room 1: guest 160.0\n",
       "17    Massage Room 1: guest 160.0\n",
       "19    Massage Room 1: guest 160.0\n",
       "3     Tennis Court 2: guest 150.0\n",
       "2      Tennis Court 2: guest 75.0\n",
       "25       Squash Court: guest 70.0\n",
       "26       Squash Court: guest 35.0\n",
       "28       Squash Court: guest 35.0\n",
       "dtype: object"
      ]
     },
     "execution_count": 108,
     "metadata": {},
     "output_type": "execute_result"
    }
   ],
   "source": [
    "df4 = df3[df3['this_cost'] > 30]\n",
    "\n",
    "# According to 'memid', assign member name\n",
    "guest_name = []\n",
    "for index, row in df4.iterrows():\n",
    "    if row['memid'] == 0:\n",
    "        guest_name.append('guest')\n",
    "        \n",
    "df4['guest_name'] = guest_name\n",
    "\n",
    "# sort according to 'this_cost' column:\n",
    "df5 = df4.sort_values(['this_cost'], ascending=False)\n",
    "\n",
    "df5['fac_name'] + ': ' + df5['guest_name'] + ' ' + df5['this_cost'].map(str)"
   ]
  },
  {
   "cell_type": "markdown",
   "metadata": {},
   "source": [
    "### Q9: This time, produce the same result as in Q8, but using a subquery."
   ]
  },
  {
   "cell_type": "code",
   "execution_count": 109,
   "metadata": {},
   "outputs": [
    {
     "data": {
      "text/plain": [
       "0    Massage Room 2: $320.0 guest\n",
       "1    Massage Room 1: $160.0 guest\n",
       "2    Massage Room 1: $160.0 guest\n",
       "3    Massage Room 1: $160.0 guest\n",
       "4    Tennis Court 2: $150.0 guest\n",
       "5     Tennis Court 2: $75.0 guest\n",
       "6       Squash Court: $70.0 guest\n",
       "7       Squash Court: $35.0 guest\n",
       "8       Squash Court: $35.0 guest\n",
       "dtype: object"
      ]
     },
     "execution_count": 109,
     "metadata": {},
     "output_type": "execute_result"
    }
   ],
   "source": [
    "rs = c.execute(\"SELECT sub.name, sub.booking_cost,\\\n",
    "                CASE WHEN sub.memid = 0 THEN 'guest' \\\n",
    "                ELSE 'member' END AS 'booking_name' \\\n",
    "                From (SELECT facilities.name, bookings.memid,\\\n",
    "                       CASE WHEN bookings.memid = 0 THEN facilities.guestcost*bookings.slots \\\n",
    "                       ELSE facilities.membercost END AS booking_cost \\\n",
    "                       FROM Bookings bookings \\\n",
    "                       JOIN Facilities facilities \\\n",
    "                       ON Bookings.facid = Facilities.facid \\\n",
    "                       WHERE bookings.starttime LIKE '2012-09-14%') sub \\\n",
    "               WHERE sub.booking_cost > 30 \\\n",
    "               ORDER BY booking_cost DESC\")\n",
    "               \n",
    "df3 = pd.DataFrame(rs.fetchall())\n",
    "\n",
    "df3.iloc[:,0] + ': $' + df3.iloc[:,1].map(str) + ' ' + df3.iloc[:,2]"
   ]
  },
  {
   "cell_type": "markdown",
   "metadata": {
    "collapsed": true
   },
   "source": [
    "### Q10: Produce a list of facilities with a total revenue less than 1000. The output of facility name and total revenue, sorted by revenue. Remember that there's a different cost for guests and members!"
   ]
  },
  {
   "cell_type": "code",
   "execution_count": 122,
   "metadata": {},
   "outputs": [],
   "source": [
    "rs = c.execute(\"SELECT * \\\n",
    "                FROM(   SELECT sub.name, SUM(booking_cost) AS sum \\\n",
    "                   FROM (SELECT facilities.name, bookings.memid, facilities.membercost, facilities.guestcost, \\\n",
    "                           bookings.slots, \\\n",
    "                           CASE WHEN bookings.memid = 0 THEN facilities.guestcost*bookings.slots \\\n",
    "                           ELSE facilities.membercost END AS booking_cost \\\n",
    "                           FROM Bookings bookings \\\n",
    "                           JOIN Facilities facilities \\\n",
    "                           ON Bookings.facid = Facilities.facid) sub \\\n",
    "                   GROUP BY sub.name )\\\n",
    "               WHERE sum < 1000 \\\n",
    "               ORDER BY sum\")\n",
    "               \n",
    "df3 = pd.DataFrame(rs.fetchall())"
   ]
  },
  {
   "cell_type": "code",
   "execution_count": 123,
   "metadata": {},
   "outputs": [
    {
     "data": {
      "text/html": [
       "<div>\n",
       "<style>\n",
       "    .dataframe thead tr:only-child th {\n",
       "        text-align: right;\n",
       "    }\n",
       "\n",
       "    .dataframe thead th {\n",
       "        text-align: left;\n",
       "    }\n",
       "\n",
       "    .dataframe tbody tr th {\n",
       "        vertical-align: top;\n",
       "    }\n",
       "</style>\n",
       "<table border=\"1\" class=\"dataframe\">\n",
       "  <thead>\n",
       "    <tr style=\"text-align: right;\">\n",
       "      <th></th>\n",
       "      <th>name</th>\n",
       "      <th>total_revenue</th>\n",
       "    </tr>\n",
       "  </thead>\n",
       "  <tbody>\n",
       "    <tr>\n",
       "      <th>0</th>\n",
       "      <td>Table Tennis</td>\n",
       "      <td>180.0</td>\n",
       "    </tr>\n",
       "    <tr>\n",
       "      <th>1</th>\n",
       "      <td>Snooker Table</td>\n",
       "      <td>240.0</td>\n",
       "    </tr>\n",
       "    <tr>\n",
       "      <th>2</th>\n",
       "      <td>Pool Table</td>\n",
       "      <td>270.0</td>\n",
       "    </tr>\n",
       "  </tbody>\n",
       "</table>\n",
       "</div>"
      ],
      "text/plain": [
       "            name  total_revenue\n",
       "0   Table Tennis          180.0\n",
       "1  Snooker Table          240.0\n",
       "2     Pool Table          270.0"
      ]
     },
     "execution_count": 123,
     "metadata": {},
     "output_type": "execute_result"
    }
   ],
   "source": [
    "df3.columns = ['name', 'total_revenue']\n",
    "df3"
   ]
  },
  {
   "cell_type": "code",
   "execution_count": null,
   "metadata": {
    "collapsed": true
   },
   "outputs": [],
   "source": []
  }
 ],
 "metadata": {
  "kernelspec": {
   "display_name": "Python 3",
   "language": "python",
   "name": "python3"
  },
  "language_info": {
   "codemirror_mode": {
    "name": "ipython",
    "version": 3
   },
   "file_extension": ".py",
   "mimetype": "text/x-python",
   "name": "python",
   "nbconvert_exporter": "python",
   "pygments_lexer": "ipython3",
   "version": "3.6.1"
  }
 },
 "nbformat": 4,
 "nbformat_minor": 2
}
